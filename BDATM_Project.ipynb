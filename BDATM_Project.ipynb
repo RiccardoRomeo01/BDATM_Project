{
  "cells": [
    {
      "cell_type": "markdown",
      "metadata": {
        "id": "zXrcOp-BFrxE"
      },
      "source": [
        "# IMPORTS\n"
      ]
    },
    {
      "cell_type": "code",
      "execution_count": 1,
      "metadata": {
        "colab": {
          "base_uri": "https://localhost:8080/"
        },
        "collapsed": true,
        "id": "tg5YlRwHFvGF",
        "outputId": "6d02f9d9-d1ba-46e2-8672-fe69ad327cb8"
      },
      "outputs": [
        {
          "name": "stdout",
          "output_type": "stream",
          "text": [
            "Looking in indexes: https://download.pytorch.org/whl/cu118\n",
            "Requirement already satisfied: torch==2.1.0 in /usr/local/lib/python3.11/dist-packages (2.1.0+cu118)\n",
            "Requirement already satisfied: filelock in /usr/local/lib/python3.11/dist-packages (from torch==2.1.0) (3.16.1)\n",
            "Requirement already satisfied: typing-extensions in /usr/local/lib/python3.11/dist-packages (from torch==2.1.0) (4.12.2)\n",
            "Requirement already satisfied: sympy in /usr/local/lib/python3.11/dist-packages (from torch==2.1.0) (1.13.1)\n",
            "Requirement already satisfied: networkx in /usr/local/lib/python3.11/dist-packages (from torch==2.1.0) (3.4.2)\n",
            "Requirement already satisfied: jinja2 in /usr/local/lib/python3.11/dist-packages (from torch==2.1.0) (3.1.5)\n",
            "Requirement already satisfied: fsspec in /usr/local/lib/python3.11/dist-packages (from torch==2.1.0) (2024.10.0)\n",
            "Requirement already satisfied: triton==2.1.0 in /usr/local/lib/python3.11/dist-packages (from torch==2.1.0) (2.1.0)\n",
            "Requirement already satisfied: MarkupSafe>=2.0 in /usr/local/lib/python3.11/dist-packages (from jinja2->torch==2.1.0) (3.0.2)\n",
            "Requirement already satisfied: mpmath<1.4,>=1.1.0 in /usr/local/lib/python3.11/dist-packages (from sympy->torch==2.1.0) (1.3.0)\n",
            "Looking in links: https://data.pyg.org/whl/torch-2.1.0+cu118.html\n",
            "Requirement already satisfied: torch-scatter==2.1.2 in /usr/local/lib/python3.11/dist-packages (2.1.2+pt21cu118)\n",
            "Requirement already satisfied: torch-sparse==0.6.18 in /usr/local/lib/python3.11/dist-packages (0.6.18+pt21cu118)\n",
            "Requirement already satisfied: torch-geometric==2.4.0 in /usr/local/lib/python3.11/dist-packages (2.4.0)\n",
            "Requirement already satisfied: scipy in /usr/local/lib/python3.11/dist-packages (from torch-sparse==0.6.18) (1.13.1)\n",
            "Requirement already satisfied: tqdm in /usr/local/lib/python3.11/dist-packages (from torch-geometric==2.4.0) (4.67.1)\n",
            "Requirement already satisfied: numpy in /usr/local/lib/python3.11/dist-packages (from torch-geometric==2.4.0) (1.26.4)\n",
            "Requirement already satisfied: jinja2 in /usr/local/lib/python3.11/dist-packages (from torch-geometric==2.4.0) (3.1.5)\n",
            "Requirement already satisfied: requests in /usr/local/lib/python3.11/dist-packages (from torch-geometric==2.4.0) (2.32.3)\n",
            "Requirement already satisfied: pyparsing in /usr/local/lib/python3.11/dist-packages (from torch-geometric==2.4.0) (3.2.1)\n",
            "Requirement already satisfied: scikit-learn in /usr/local/lib/python3.11/dist-packages (from torch-geometric==2.4.0) (1.6.0)\n",
            "Requirement already satisfied: psutil>=5.8.0 in /usr/local/lib/python3.11/dist-packages (from torch-geometric==2.4.0) (5.9.5)\n",
            "Requirement already satisfied: MarkupSafe>=2.0 in /usr/local/lib/python3.11/dist-packages (from jinja2->torch-geometric==2.4.0) (3.0.2)\n",
            "Requirement already satisfied: charset-normalizer<4,>=2 in /usr/local/lib/python3.11/dist-packages (from requests->torch-geometric==2.4.0) (3.4.1)\n",
            "Requirement already satisfied: idna<4,>=2.5 in /usr/local/lib/python3.11/dist-packages (from requests->torch-geometric==2.4.0) (3.10)\n",
            "Requirement already satisfied: urllib3<3,>=1.21.1 in /usr/local/lib/python3.11/dist-packages (from requests->torch-geometric==2.4.0) (2.3.0)\n",
            "Requirement already satisfied: certifi>=2017.4.17 in /usr/local/lib/python3.11/dist-packages (from requests->torch-geometric==2.4.0) (2024.12.14)\n",
            "Requirement already satisfied: joblib>=1.2.0 in /usr/local/lib/python3.11/dist-packages (from scikit-learn->torch-geometric==2.4.0) (1.4.2)\n",
            "Requirement already satisfied: threadpoolctl>=3.1.0 in /usr/local/lib/python3.11/dist-packages (from scikit-learn->torch-geometric==2.4.0) (3.5.0)\n",
            "Requirement already satisfied: ninja in /usr/local/lib/python3.11/dist-packages (1.11.1.3)\n",
            "Requirement already satisfied: easydict in /usr/local/lib/python3.11/dist-packages (1.13)\n",
            "Requirement already satisfied: pyyaml in /usr/local/lib/python3.11/dist-packages (6.0.2)\n"
          ]
        }
      ],
      "source": []
    },
    {
      "cell_type": "markdown",
      "metadata": {
        "id": "8nC2CTbiFv_c"
      },
      "source": [
        "# Downloading Datasets from RelBench"
      ]
    },
    {
      "cell_type": "code",
      "execution_count": 1,
      "metadata": {
        "colab": {
          "base_uri": "https://localhost:8080/"
        },
        "id": "Z_kOFoXsT-Go",
        "outputId": "eb1fe17e-da36-4979-b864-ffa16eb12997"
      },
      "outputs": [
        {
          "name": "stdout",
          "output_type": "stream",
          "text": [
            "Requirement already satisfied: relbench[full] in /usr/local/lib/python3.11/dist-packages (1.1.0)\n",
            "Requirement already satisfied: pandas in /usr/local/lib/python3.11/dist-packages (from relbench[full]) (2.2.2)\n",
            "Requirement already satisfied: pooch in /usr/local/lib/python3.11/dist-packages (from relbench[full]) (1.8.2)\n",
            "Requirement already satisfied: pyarrow in /usr/local/lib/python3.11/dist-packages (from relbench[full]) (17.0.0)\n",
            "Requirement already satisfied: numpy in /usr/local/lib/python3.11/dist-packages (from relbench[full]) (1.26.4)\n",
            "Requirement already satisfied: duckdb in /usr/local/lib/python3.11/dist-packages (from relbench[full]) (1.1.3)\n",
            "Requirement already satisfied: scikit-learn in /usr/local/lib/python3.11/dist-packages (from relbench[full]) (1.6.0)\n",
            "Requirement already satisfied: typing-extensions in /usr/local/lib/python3.11/dist-packages (from relbench[full]) (4.12.2)\n",
            "Requirement already satisfied: pytorch_frame>=0.2.3 in /usr/local/lib/python3.11/dist-packages (from relbench[full]) (0.2.4)\n",
            "Requirement already satisfied: torch_geometric in /usr/local/lib/python3.11/dist-packages (from relbench[full]) (2.4.0)\n",
            "Requirement already satisfied: torch in /usr/local/lib/python3.11/dist-packages (from pytorch_frame>=0.2.3->relbench[full]) (2.5.1)\n",
            "Requirement already satisfied: tqdm in /usr/local/lib/python3.11/dist-packages (from pytorch_frame>=0.2.3->relbench[full]) (4.67.1)\n",
            "Requirement already satisfied: Pillow in /usr/local/lib/python3.11/dist-packages (from pytorch_frame>=0.2.3->relbench[full]) (11.1.0)\n",
            "Requirement already satisfied: python-dateutil>=2.8.2 in /usr/local/lib/python3.11/dist-packages (from pandas->relbench[full]) (2.8.2)\n",
            "Requirement already satisfied: pytz>=2020.1 in /usr/local/lib/python3.11/dist-packages (from pandas->relbench[full]) (2024.2)\n",
            "Requirement already satisfied: tzdata>=2022.7 in /usr/local/lib/python3.11/dist-packages (from pandas->relbench[full]) (2024.2)\n",
            "Requirement already satisfied: platformdirs>=2.5.0 in /usr/local/lib/python3.11/dist-packages (from pooch->relbench[full]) (4.3.6)\n",
            "Requirement already satisfied: packaging>=20.0 in /usr/local/lib/python3.11/dist-packages (from pooch->relbench[full]) (24.2)\n",
            "Requirement already satisfied: requests>=2.19.0 in /usr/local/lib/python3.11/dist-packages (from pooch->relbench[full]) (2.32.3)\n",
            "Requirement already satisfied: scipy>=1.6.0 in /usr/local/lib/python3.11/dist-packages (from scikit-learn->relbench[full]) (1.13.1)\n",
            "Requirement already satisfied: joblib>=1.2.0 in /usr/local/lib/python3.11/dist-packages (from scikit-learn->relbench[full]) (1.4.2)\n",
            "Requirement already satisfied: threadpoolctl>=3.1.0 in /usr/local/lib/python3.11/dist-packages (from scikit-learn->relbench[full]) (3.5.0)\n",
            "Requirement already satisfied: jinja2 in /usr/local/lib/python3.11/dist-packages (from torch_geometric->relbench[full]) (3.1.5)\n",
            "Requirement already satisfied: pyparsing in /usr/local/lib/python3.11/dist-packages (from torch_geometric->relbench[full]) (3.2.1)\n",
            "Requirement already satisfied: psutil>=5.8.0 in /usr/local/lib/python3.11/dist-packages (from torch_geometric->relbench[full]) (5.9.5)\n",
            "Requirement already satisfied: six>=1.5 in /usr/local/lib/python3.11/dist-packages (from python-dateutil>=2.8.2->pandas->relbench[full]) (1.17.0)\n",
            "Requirement already satisfied: charset-normalizer<4,>=2 in /usr/local/lib/python3.11/dist-packages (from requests>=2.19.0->pooch->relbench[full]) (3.4.1)\n",
            "Requirement already satisfied: idna<4,>=2.5 in /usr/local/lib/python3.11/dist-packages (from requests>=2.19.0->pooch->relbench[full]) (3.10)\n",
            "Requirement already satisfied: urllib3<3,>=1.21.1 in /usr/local/lib/python3.11/dist-packages (from requests>=2.19.0->pooch->relbench[full]) (2.3.0)\n",
            "Requirement already satisfied: certifi>=2017.4.17 in /usr/local/lib/python3.11/dist-packages (from requests>=2.19.0->pooch->relbench[full]) (2024.12.14)\n",
            "Requirement already satisfied: MarkupSafe>=2.0 in /usr/local/lib/python3.11/dist-packages (from jinja2->torch_geometric->relbench[full]) (3.0.2)\n",
            "Requirement already satisfied: filelock in /usr/local/lib/python3.11/dist-packages (from torch->pytorch_frame>=0.2.3->relbench[full]) (3.16.1)\n",
            "Requirement already satisfied: networkx in /usr/local/lib/python3.11/dist-packages (from torch->pytorch_frame>=0.2.3->relbench[full]) (3.4.2)\n",
            "Requirement already satisfied: fsspec in /usr/local/lib/python3.11/dist-packages (from torch->pytorch_frame>=0.2.3->relbench[full]) (2024.10.0)\n",
            "Requirement already satisfied: nvidia-cuda-nvrtc-cu12==12.4.127 in /usr/local/lib/python3.11/dist-packages (from torch->pytorch_frame>=0.2.3->relbench[full]) (12.4.127)\n",
            "Requirement already satisfied: nvidia-cuda-runtime-cu12==12.4.127 in /usr/local/lib/python3.11/dist-packages (from torch->pytorch_frame>=0.2.3->relbench[full]) (12.4.127)\n",
            "Requirement already satisfied: nvidia-cuda-cupti-cu12==12.4.127 in /usr/local/lib/python3.11/dist-packages (from torch->pytorch_frame>=0.2.3->relbench[full]) (12.4.127)\n",
            "Requirement already satisfied: nvidia-cudnn-cu12==9.1.0.70 in /usr/local/lib/python3.11/dist-packages (from torch->pytorch_frame>=0.2.3->relbench[full]) (9.1.0.70)\n",
            "Requirement already satisfied: nvidia-cublas-cu12==12.4.5.8 in /usr/local/lib/python3.11/dist-packages (from torch->pytorch_frame>=0.2.3->relbench[full]) (12.4.5.8)\n",
            "Requirement already satisfied: nvidia-cufft-cu12==11.2.1.3 in /usr/local/lib/python3.11/dist-packages (from torch->pytorch_frame>=0.2.3->relbench[full]) (11.2.1.3)\n",
            "Requirement already satisfied: nvidia-curand-cu12==10.3.5.147 in /usr/local/lib/python3.11/dist-packages (from torch->pytorch_frame>=0.2.3->relbench[full]) (10.3.5.147)\n",
            "Requirement already satisfied: nvidia-cusolver-cu12==11.6.1.9 in /usr/local/lib/python3.11/dist-packages (from torch->pytorch_frame>=0.2.3->relbench[full]) (11.6.1.9)\n",
            "Requirement already satisfied: nvidia-cusparse-cu12==12.3.1.170 in /usr/local/lib/python3.11/dist-packages (from torch->pytorch_frame>=0.2.3->relbench[full]) (12.3.1.170)\n",
            "Requirement already satisfied: nvidia-nccl-cu12==2.21.5 in /usr/local/lib/python3.11/dist-packages (from torch->pytorch_frame>=0.2.3->relbench[full]) (2.21.5)\n",
            "Requirement already satisfied: nvidia-nvtx-cu12==12.4.127 in /usr/local/lib/python3.11/dist-packages (from torch->pytorch_frame>=0.2.3->relbench[full]) (12.4.127)\n",
            "Requirement already satisfied: nvidia-nvjitlink-cu12==12.4.127 in /usr/local/lib/python3.11/dist-packages (from torch->pytorch_frame>=0.2.3->relbench[full]) (12.4.127)\n",
            "Requirement already satisfied: triton==3.1.0 in /usr/local/lib/python3.11/dist-packages (from torch->pytorch_frame>=0.2.3->relbench[full]) (3.1.0)\n",
            "Requirement already satisfied: sympy==1.13.1 in /usr/local/lib/python3.11/dist-packages (from torch->pytorch_frame>=0.2.3->relbench[full]) (1.13.1)\n",
            "Requirement already satisfied: mpmath<1.4,>=1.1.0 in /usr/local/lib/python3.11/dist-packages (from sympy==1.13.1->torch->pytorch_frame>=0.2.3->relbench[full]) (1.3.0)\n"
          ]
        }
      ],
      "source": [
        "!pip install relbench[full]"
      ]
    },
    {
      "cell_type": "code",
      "execution_count": 2,
      "metadata": {
        "colab": {
          "base_uri": "https://localhost:8080/",
          "height": 35
        },
        "id": "sy-LLkKUUEiv",
        "outputId": "2c5fe15b-3b1a-40a9-fd0b-60af01a7fea2"
      },
      "outputs": [
        {
          "data": {
            "application/vnd.google.colaboratory.intrinsic+json": {
              "type": "string"
            },
            "text/plain": [
              "'1.1.0'"
            ]
          },
          "execution_count": 2,
          "metadata": {},
          "output_type": "execute_result"
        }
      ],
      "source": [
        "import relbench\n",
        "relbench.__version__"
      ]
    },
    {
      "cell_type": "code",
      "execution_count": 3,
      "metadata": {
        "colab": {
          "base_uri": "https://localhost:8080/"
        },
        "id": "9gXf3v2-Vnlz",
        "outputId": "0512937e-1daa-4e5c-8567-3fe151f57146"
      },
      "outputs": [
        {
          "data": {
            "text/plain": [
              "['rel-amazon',\n",
              " 'rel-avito',\n",
              " 'rel-event',\n",
              " 'rel-f1',\n",
              " 'rel-hm',\n",
              " 'rel-stack',\n",
              " 'rel-trial']"
            ]
          },
          "execution_count": 3,
          "metadata": {},
          "output_type": "execute_result"
        }
      ],
      "source": [
        "from relbench.datasets import get_dataset_names, get_dataset\n",
        "\n",
        "get_dataset_names()"
      ]
    },
    {
      "cell_type": "markdown",
      "metadata": {
        "id": "W3OibU-LyYTc"
      },
      "source": [
        "## Testing on F1 dataset"
      ]
    },
    {
      "cell_type": "code",
      "execution_count": 4,
      "metadata": {
        "colab": {
          "base_uri": "https://localhost:8080/"
        },
        "id": "zIOAbryqyXZM",
        "outputId": "978cc3ca-74ce-4723-f785-3930afa067ca"
      },
      "outputs": [
        {
          "name": "stdout",
          "output_type": "stream",
          "text": [
            "Loading Database object from /root/.cache/relbench/rel-f1/db...\n",
            "Done in 0.12 seconds.\n"
          ]
        },
        {
          "name": "stderr",
          "output_type": "stream",
          "text": [
            "/usr/local/lib/python3.11/dist-packages/torch_geometric/typing.py:63: UserWarning: An issue occurred while importing 'torch-scatter'. Disabling its usage. Stacktrace: /usr/local/lib/python3.11/dist-packages/torch_scatter/_version_cuda.so: undefined symbol: _ZN3c1017RegisterOperatorsD1Ev\n",
            "  warnings.warn(f\"An issue occurred while importing 'torch-scatter'. \"\n",
            "/usr/local/lib/python3.11/dist-packages/torch_geometric/typing.py:101: UserWarning: An issue occurred while importing 'torch-sparse'. Disabling its usage. Stacktrace: /usr/local/lib/python3.11/dist-packages/torch_sparse/_version_cuda.so: undefined symbol: _ZN3c1017RegisterOperatorsD1Ev\n",
            "  warnings.warn(f\"An issue occurred while importing 'torch-sparse'. \"\n"
          ]
        },
        {
          "name": "stdout",
          "output_type": "stream",
          "text": [
            "cuda\n"
          ]
        },
        {
          "name": "stderr",
          "output_type": "stream",
          "text": [
            "/usr/local/lib/python3.11/dist-packages/huggingface_hub/utils/_auth.py:94: UserWarning: \n",
            "The secret `HF_TOKEN` does not exist in your Colab secrets.\n",
            "To authenticate with the Hugging Face Hub, create a token in your settings tab (https://huggingface.co/settings/tokens), set it as secret in your Google Colab and restart your session.\n",
            "You will be able to reuse this secret in all of your notebooks.\n",
            "Please note that authentication is recommended but still optional to access public models or datasets.\n",
            "  warnings.warn(\n",
            "/usr/local/lib/python3.11/dist-packages/torch_frame/utils/io.py:113: UserWarning: Weights only load failed. Please file an issue to make `torch.load(weights_only=True)` compatible in your case. Please use `torch.serialization.add_safe_globals([scalar])` to allowlist this global.\n",
            "  warnings.warn(f\"{warn_msg} Please use \"\n",
            "/usr/local/lib/python3.11/dist-packages/torch_frame/utils/io.py:113: UserWarning: Weights only load failed. Please file an issue to make `torch.load(weights_only=True)` compatible in your case. Please use `torch.serialization.add_safe_globals([scalar])` to allowlist this global.\n",
            "  warnings.warn(f\"{warn_msg} Please use \"\n",
            "/usr/local/lib/python3.11/dist-packages/torch_frame/utils/io.py:113: UserWarning: Weights only load failed. Please file an issue to make `torch.load(weights_only=True)` compatible in your case. Please use `torch.serialization.add_safe_globals([scalar])` to allowlist this global.\n",
            "  warnings.warn(f\"{warn_msg} Please use \"\n",
            "/usr/local/lib/python3.11/dist-packages/torch_frame/utils/io.py:113: UserWarning: Weights only load failed. Please file an issue to make `torch.load(weights_only=True)` compatible in your case. Please use `torch.serialization.add_safe_globals([scalar])` to allowlist this global.\n",
            "  warnings.warn(f\"{warn_msg} Please use \"\n",
            "/usr/local/lib/python3.11/dist-packages/torch_frame/utils/io.py:113: UserWarning: Weights only load failed. Please file an issue to make `torch.load(weights_only=True)` compatible in your case. Please use `torch.serialization.add_safe_globals([scalar])` to allowlist this global.\n",
            "  warnings.warn(f\"{warn_msg} Please use \"\n",
            "/usr/local/lib/python3.11/dist-packages/torch_frame/utils/io.py:113: UserWarning: Weights only load failed. Please file an issue to make `torch.load(weights_only=True)` compatible in your case. Please use `torch.serialization.add_safe_globals([scalar])` to allowlist this global.\n",
            "  warnings.warn(f\"{warn_msg} Please use \"\n",
            "/usr/local/lib/python3.11/dist-packages/torch_frame/utils/io.py:113: UserWarning: Weights only load failed. Please file an issue to make `torch.load(weights_only=True)` compatible in your case. Please use `torch.serialization.add_safe_globals([scalar])` to allowlist this global.\n",
            "  warnings.warn(f\"{warn_msg} Please use \"\n"
          ]
        }
      ],
      "source": [
        "hm_dataset = get_dataset(name=\"rel-f1\", download=True)\n",
        "\n",
        "from relbench.modeling.utils import get_stype_proposal\n",
        "\n",
        "hm_db = hm_dataset.get_db(upto_test_timestamp = False)  # Noi dobbiamo scaricare tutto il database, anche quello di test.\n",
        "col_to_stype_dict = get_stype_proposal(hm_db)\n",
        "\n",
        "import torch\n",
        "\n",
        "from torch_geometric.seed import seed_everything\n",
        "\n",
        "\n",
        "# Check that it's cuda if you want it to run in reasonable time!\n",
        "device = torch.device(\"cuda\" if torch.cuda.is_available() else \"cpu\")\n",
        "if torch.cuda.is_available():\n",
        "    torch.set_num_threads(1)\n",
        "print(device)\n",
        "\n",
        "# Set the seed for generating random numbers to ensure reproducibility\n",
        "seed_everything(42)\n",
        "\n",
        "# Path to the directory for caching graph data\n",
        "root_dir = \"./data\"\n",
        "\n",
        "from typing import List, Optional\n",
        "from sentence_transformers import SentenceTransformer\n",
        "from torch import Tensor\n",
        "\n",
        "class GloveTextEmbedding:\n",
        "    def __init__(self, device: Optional[torch.device] = None):\n",
        "        self.model = SentenceTransformer(\n",
        "            \"sentence-transformers/average_word_embeddings_glove.6B.300d\",\n",
        "            device=device,\n",
        "        )\n",
        "\n",
        "    def __call__(self, sentences: List[str]) -> Tensor:\n",
        "        return self.model.encode(sentences, convert_to_tensor=True)\n",
        "\n",
        "\n",
        "import os\n",
        "\n",
        "# Root directory where files will be stored\n",
        "root_dir = \"./data\"\n",
        "\n",
        "# Run the from-scratch graph computation\n",
        "from torch_frame.config.text_embedder import TextEmbedderConfig\n",
        "from relbench.modeling.graph import make_pkey_fkey_graph\n",
        "\n",
        "# Configure the text encoder\n",
        "text_embedder_cfg = TextEmbedderConfig(\n",
        "    text_embedder=GloveTextEmbedding(device=device),\n",
        "    batch_size=256\n",
        ")\n",
        "\n",
        "# Generate graph data\n",
        "hm_data, col_stats_dict = make_pkey_fkey_graph(\n",
        "    hm_db,\n",
        "    col_to_stype_dict=col_to_stype_dict,  # Column types\n",
        "    text_embedder_cfg=text_embedder_cfg,  # Our chosen text encoder\n",
        "    cache_dir=os.path.join(\n",
        "        root_dir, f\"rel-hm_materialized_cache\"\n",
        "    ),  # Store materialized graph for convenience\n",
        ")\n"
      ]
    },
    {
      "cell_type": "code",
      "execution_count": 5,
      "metadata": {
        "colab": {
          "base_uri": "https://localhost:8080/"
        },
        "id": "R_UJomdITem9",
        "outputId": "6296bf4f-8641-48b1-b0d4-94f3f690915e"
      },
      "outputs": [
        {
          "name": "stdout",
          "output_type": "stream",
          "text": [
            "The validation timestep is: 2005-01-01 00:00:00\n",
            "The test timestep is: 2010-01-01 00:00:00\n"
          ]
        }
      ],
      "source": [
        "hm_val_timestep = hm_dataset.val_timestamp\n",
        "hm_test_timestep = hm_dataset.test_timestamp\n",
        "\n",
        "print(f\"The validation timestep is: {hm_val_timestep}\")\n",
        "print(f\"The test timestep is: {hm_test_timestep}\")"
      ]
    },
    {
      "cell_type": "code",
      "execution_count": 6,
      "metadata": {
        "colab": {
          "base_uri": "https://localhost:8080/"
        },
        "id": "n8EkkISoy9j8",
        "outputId": "b4f7bb43-b4b1-489d-8060-bd534940234d"
      },
      "outputs": [
        {
          "data": {
            "text/plain": [
              "HeteroData(\n",
              "  constructor_standings={\n",
              "    tf=TensorFrame(\n",
              "  num_cols=4,\n",
              "  num_rows=13051,\n",
              "  numerical (3): ['points', 'position', 'wins'],\n",
              "  timestamp (1): ['date'],\n",
              "  has_target=False,\n",
              "  device='cpu',\n",
              "),\n",
              "    time=[13051],\n",
              "  },\n",
              "  standings={\n",
              "    tf=TensorFrame(\n",
              "  num_cols=4,\n",
              "  num_rows=34124,\n",
              "  numerical (3): ['points', 'position', 'wins'],\n",
              "  timestamp (1): ['date'],\n",
              "  has_target=False,\n",
              "  device='cpu',\n",
              "),\n",
              "    time=[34124],\n",
              "  },\n",
              "  constructors={ tf=TensorFrame(\n",
              "  num_cols=3,\n",
              "  num_rows=211,\n",
              "  embedding (3): ['constructorRef', 'name', 'nationality'],\n",
              "  has_target=False,\n",
              "  device='cuda:0',\n",
              ") },\n",
              "  constructor_results={\n",
              "    tf=TensorFrame(\n",
              "  num_cols=2,\n",
              "  num_rows=12290,\n",
              "  numerical (1): ['points'],\n",
              "  timestamp (1): ['date'],\n",
              "  has_target=False,\n",
              "  device='cpu',\n",
              "),\n",
              "    time=[12290],\n",
              "  },\n",
              "  results={\n",
              "    tf=TensorFrame(\n",
              "  num_cols=11,\n",
              "  num_rows=26080,\n",
              "  numerical (10): ['fastestLap', 'grid', 'laps', 'milliseconds', 'number', 'points', 'position', 'positionOrder', 'rank', 'statusId'],\n",
              "  timestamp (1): ['date'],\n",
              "  has_target=False,\n",
              "  device='cpu',\n",
              "),\n",
              "    time=[26080],\n",
              "  },\n",
              "  drivers={ tf=TensorFrame(\n",
              "  num_cols=6,\n",
              "  num_rows=857,\n",
              "  timestamp (1): ['dob'],\n",
              "  embedding (5): ['code', 'driverRef', 'forename', 'nationality', 'surname'],\n",
              "  has_target=False,\n",
              "  device='cpu',\n",
              ") },\n",
              "  qualifying={\n",
              "    tf=TensorFrame(\n",
              "  num_cols=3,\n",
              "  num_rows=9815,\n",
              "  numerical (2): ['number', 'position'],\n",
              "  timestamp (1): ['date'],\n",
              "  has_target=False,\n",
              "  device='cpu',\n",
              "),\n",
              "    time=[9815],\n",
              "  },\n",
              "  races={\n",
              "    tf=TensorFrame(\n",
              "  num_cols=5,\n",
              "  num_rows=1101,\n",
              "  categorical (1): ['year'],\n",
              "  numerical (1): ['round'],\n",
              "  timestamp (2): ['date', 'time'],\n",
              "  embedding (1): ['name'],\n",
              "  has_target=False,\n",
              "  device='cpu',\n",
              "),\n",
              "    time=[1101],\n",
              "  },\n",
              "  circuits={ tf=TensorFrame(\n",
              "  num_cols=7,\n",
              "  num_rows=77,\n",
              "  numerical (3): ['alt', 'lat', 'lng'],\n",
              "  embedding (4): ['circuitRef', 'country', 'location', 'name'],\n",
              "  has_target=False,\n",
              "  device='cpu',\n",
              ") },\n",
              "  (constructor_standings, f2p_raceId, races)={ edge_index=[2, 13051] },\n",
              "  (races, rev_f2p_raceId, constructor_standings)={ edge_index=[2, 13051] },\n",
              "  (constructor_standings, f2p_constructorId, constructors)={ edge_index=[2, 13051] },\n",
              "  (constructors, rev_f2p_constructorId, constructor_standings)={ edge_index=[2, 13051] },\n",
              "  (standings, f2p_raceId, races)={ edge_index=[2, 34124] },\n",
              "  (races, rev_f2p_raceId, standings)={ edge_index=[2, 34124] },\n",
              "  (standings, f2p_driverId, drivers)={ edge_index=[2, 34124] },\n",
              "  (drivers, rev_f2p_driverId, standings)={ edge_index=[2, 34124] },\n",
              "  (constructor_results, f2p_raceId, races)={ edge_index=[2, 12290] },\n",
              "  (races, rev_f2p_raceId, constructor_results)={ edge_index=[2, 12290] },\n",
              "  (constructor_results, f2p_constructorId, constructors)={ edge_index=[2, 12290] },\n",
              "  (constructors, rev_f2p_constructorId, constructor_results)={ edge_index=[2, 12290] },\n",
              "  (results, f2p_raceId, races)={ edge_index=[2, 26080] },\n",
              "  (races, rev_f2p_raceId, results)={ edge_index=[2, 26080] },\n",
              "  (results, f2p_driverId, drivers)={ edge_index=[2, 26080] },\n",
              "  (drivers, rev_f2p_driverId, results)={ edge_index=[2, 26080] },\n",
              "  (results, f2p_constructorId, constructors)={ edge_index=[2, 26080] },\n",
              "  (constructors, rev_f2p_constructorId, results)={ edge_index=[2, 26080] },\n",
              "  (qualifying, f2p_raceId, races)={ edge_index=[2, 9815] },\n",
              "  (races, rev_f2p_raceId, qualifying)={ edge_index=[2, 9815] },\n",
              "  (qualifying, f2p_driverId, drivers)={ edge_index=[2, 9815] },\n",
              "  (drivers, rev_f2p_driverId, qualifying)={ edge_index=[2, 9815] },\n",
              "  (qualifying, f2p_constructorId, constructors)={ edge_index=[2, 9815] },\n",
              "  (constructors, rev_f2p_constructorId, qualifying)={ edge_index=[2, 9815] },\n",
              "  (races, f2p_circuitId, circuits)={ edge_index=[2, 1101] },\n",
              "  (circuits, rev_f2p_circuitId, races)={ edge_index=[2, 1101] }\n",
              ")"
            ]
          },
          "execution_count": 6,
          "metadata": {},
          "output_type": "execute_result"
        }
      ],
      "source": [
        "hm_data"
      ]
    },
    {
      "cell_type": "code",
      "execution_count": 7,
      "metadata": {
        "id": "OS6QrqlPUNMQ"
      },
      "outputs": [],
      "source": [
        "edge_index = hm_data[(\"constructor_standings\", \"f2p_raceId\", \"races\")].edge_index"
      ]
    },
    {
      "cell_type": "code",
      "execution_count": 8,
      "metadata": {
        "colab": {
          "base_uri": "https://localhost:8080/"
        },
        "id": "_CkxT9FvUdAh",
        "outputId": "5206f6f8-6d72-4bff-a3d7-3decf58795b4"
      },
      "outputs": [
        {
          "data": {
            "text/plain": [
              "tensor([[    0,     1,     2,  ..., 13048, 13049, 13050],\n",
              "        [   64,    64,    64,  ...,  1090,  1090,  1090]])"
            ]
          },
          "execution_count": 8,
          "metadata": {},
          "output_type": "execute_result"
        }
      ],
      "source": [
        "edge_index"
      ]
    },
    {
      "cell_type": "code",
      "execution_count": 9,
      "metadata": {
        "id": "9QSdTg2iXS9l"
      },
      "outputs": [],
      "source": [
        "edge_index = hm_data[(\"standings\", \"f2p_raceId\", \"races\")].edge_index"
      ]
    },
    {
      "cell_type": "code",
      "execution_count": 10,
      "metadata": {
        "colab": {
          "base_uri": "https://localhost:8080/"
        },
        "id": "JCbTgYPlXTbX",
        "outputId": "5ab777e7-092e-4c8e-d5e8-0a4b0d5878d2"
      },
      "outputs": [
        {
          "data": {
            "text/plain": [
              "tensor([[    0,     1,     2,  ..., 34121, 34122, 34123],\n",
              "        [    0,     0,     0,  ...,  1090,  1090,  1090]])"
            ]
          },
          "execution_count": 10,
          "metadata": {},
          "output_type": "execute_result"
        }
      ],
      "source": [
        "edge_index"
      ]
    },
    {
      "cell_type": "code",
      "execution_count": 11,
      "metadata": {
        "id": "5ZokroaNT8JY"
      },
      "outputs": [],
      "source": [
        "import pandas as pd\n",
        "def train_inference_split_F1_database(pairs, time_node):\n",
        "\n",
        "    final_pairs_train = []\n",
        "    final_pairs_val = []\n",
        "    final_pairs_test = []\n",
        "\n",
        "    # Itera attraverso le coppie e i timestamp\n",
        "    for i in range(pairs.shape[0]):\n",
        "        source_node = pairs[i, 0].item()\n",
        "        target_node = pairs[i, 1].item()\n",
        "\n",
        "        transaction_time_int = hm_data[time_node].time[source_node].item()  # Ottieni il timestamp dal nodo sorgente\n",
        "\n",
        "        # Converti il timestamp intero in pandas.Timestamp\n",
        "        transaction_time = pd.to_datetime(transaction_time_int, unit='s')\n",
        "\n",
        "        # Divido gli edges in train e inference in base al Timestamp\n",
        "        if transaction_time < hm_val_timestep:\n",
        "            final_pairs_train.append((source_node, target_node))\n",
        "        elif hm_val_timestep <= transaction_time and transaction_time < hm_test_timestep:\n",
        "            final_pairs_val.append((source_node, target_node))\n",
        "        else:\n",
        "            final_pairs_test.append((source_node, target_node))\n",
        "\n",
        "    return final_pairs_train, final_pairs_val, final_pairs_test"
      ]
    },
    {
      "cell_type": "code",
      "execution_count": 12,
      "metadata": {
        "id": "DwJhYOs2WltI"
      },
      "outputs": [],
      "source": [
        "def pick_pairs(KG_data, edge):\n",
        "    source_edge_name = edge[0]\n",
        "    target_edge_name = edge[2]\n",
        "\n",
        "    edge_index = KG_data[edge].edge_index # prelevo gli indici\n",
        "    source_nodes = edge_index[0]  # Indici dei nodi sorgente\n",
        "    target_nodes = edge_index[1]  # Indici dei nodi target\n",
        "\n",
        "    pairs_of_indexes = torch.stack((source_nodes, target_nodes), dim=1)\n",
        "\n",
        "\n",
        "    return pairs_of_indexes"
      ]
    },
    {
      "cell_type": "code",
      "execution_count": 13,
      "metadata": {
        "id": "6BRlOL3-VERD"
      },
      "outputs": [],
      "source": [
        "def write_KG_files(KG_data, db_name, edges_dict):\n",
        "    # Creo la cartella 'datasets' se non esiste\n",
        "    dataset_path = os.path.join('datasets', db_name, 'transductive')\n",
        "    os.makedirs(dataset_path, exist_ok=True)\n",
        "\n",
        "    # Percorsi dei file\n",
        "    train_file_path = os.path.join(dataset_path, 'train.txt')\n",
        "    val_file_path = os.path.join(dataset_path, 'valid.txt')\n",
        "    test_file_path = os.path.join(dataset_path, 'test.txt')\n",
        "\n",
        "    # Apro i file in modalità append\n",
        "    with open(train_file_path, 'a') as train_file, \\\n",
        "         open(val_file_path, 'a') as val_file, \\\n",
        "         open(test_file_path, 'a') as test_file:\n",
        "\n",
        "        # Itero su tutto il dizionario passato\n",
        "        for edge, time in edges_dict.items():\n",
        "            # Per ogni edge costruisco le pairs di nodi sorgenti e destinazione\n",
        "            pairs_of_nodes = pick_pairs(KG_data, edge)\n",
        "\n",
        "            # Divido questi nodi in train, test e validation in base al timestamp (time)\n",
        "            train_pairs, val_pairs, test_pairs = train_inference_split_F1_database(pairs = pairs_of_nodes,\n",
        "                                                                                   time_node = time)\n",
        "            # prendo i nomi dei nodi\n",
        "            source_edge_name = edge[0] # nome nodo sorgente\n",
        "            target_edge_name = edge[2] # nodo nome destinazione\n",
        "\n",
        "            # Scrivo ogni dataset nel rispettivo file sotto forma di triplette\n",
        "            for pair in train_pairs:\n",
        "                train_file.write(f\"{source_edge_name}_{pair[0]}\\t{edge[1]}\\t{target_edge_name}_{pair[1]}\\n\")  # Scrivi nel file di train\n",
        "\n",
        "            for pair in val_pairs:\n",
        "                val_file.write(f\"{source_edge_name}_{pair[0]}\\t{edge[1]}\\t{target_edge_name}_{pair[1]}\\n\")  # Scrivi nel file di validation\n",
        "\n",
        "            for pair in test_pairs:\n",
        "                test_file.write(f\"{source_edge_name}_{pair[0]}\\t{edge[1]}\\t{target_edge_name}_{pair[1]}\\n\")  # Scrivi nel file di test\n"
      ]
    },
    {
      "cell_type": "code",
      "execution_count": 14,
      "metadata": {
        "id": "bs7vPr6McUCy"
      },
      "outputs": [],
      "source": [
        "F1_edges_dict = {\n",
        "        ('constructor_standings', 'f2p_raceId', 'races'): 'constructor_standings',\n",
        "        ('races', 'rev_f2p_raceId', 'constructor_standings'): 'races',\n",
        "        ('constructor_standings', 'f2p_constructorId', 'constructors'): 'constructor_standings',\n",
        "        ('constructors', 'rev_f2p_constructorId', 'constructor_standings'): 'constructor_standings',\n",
        "        ('standings', 'f2p_raceId', 'races'): 'standings',\n",
        "        ('races', 'rev_f2p_raceId', 'standings'): 'races',\n",
        "        ('standings', 'f2p_driverId', 'drivers'): 'standings',\n",
        "        ('drivers', 'rev_f2p_driverId', 'standings'): 'standings',\n",
        "        ('constructor_results', 'f2p_raceId', 'races'): 'constructor_results',\n",
        "        ('races', 'rev_f2p_raceId', 'constructor_results'): 'races',\n",
        "        ('constructor_results', 'f2p_constructorId', 'constructors'): 'constructor_results',\n",
        "        ('constructors', 'rev_f2p_constructorId', 'constructor_results'): 'constructor_results',\n",
        "        ('results', 'f2p_raceId', 'races'): 'results',\n",
        "        ('races', 'rev_f2p_raceId', 'results'): 'races',\n",
        "        ('results', 'f2p_driverId', 'drivers'): 'results',\n",
        "        ('drivers', 'rev_f2p_driverId', 'results'): 'results',\n",
        "        ('results', 'f2p_constructorId', 'constructors'): 'results',\n",
        "        ('constructors', 'rev_f2p_constructorId', 'results'): 'results',\n",
        "        ('qualifying', 'f2p_raceId', 'races'): 'qualifying',\n",
        "        ('races', 'rev_f2p_raceId', 'qualifying'): 'races',\n",
        "        ('qualifying', 'f2p_driverId', 'drivers'): 'qualifying',\n",
        "        ('drivers', 'rev_f2p_driverId', 'qualifying'): 'qualifying',\n",
        "        ('qualifying', 'f2p_constructorId', 'constructors'): 'qualifying',\n",
        "        ('constructors', 'rev_f2p_constructorId', 'qualifying'): 'qualifying',\n",
        "        ('races', 'f2p_circuitId', 'circuits'): 'races',\n",
        "        ('circuits', 'rev_f2p_circuitId', 'races'): 'races'\n",
        "    }"
      ]
    },
    {
      "cell_type": "code",
      "execution_count": 15,
      "metadata": {
        "id": "wQVw6dsucU2q"
      },
      "outputs": [],
      "source": [
        "write_KG_files(KG_data = hm_data,\n",
        "               db_name = \"F1\",\n",
        "               edges_dict = F1_edges_dict)"
      ]
    },
    {
      "cell_type": "code",
      "execution_count": 16,
      "metadata": {
        "id": "Wa3Wwxv5i6P4"
      },
      "outputs": [],
      "source": [
        "import random\n",
        "\n",
        "def build_Inductive_KG_files(db_name):\n",
        "    inductive_dataset_path = os.path.join('datasets', db_name, 'inductive')\n",
        "    os.makedirs(inductive_dataset_path, exist_ok=True)\n",
        "\n",
        "    # Percorsi dei file\n",
        "    train_file_path = os.path.join('datasets', db_name, 'transductive', 'train.txt')\n",
        "    val_file_path = os.path.join('datasets', db_name, 'transductive', 'valid.txt')\n",
        "    test_file_path = os.path.join('datasets', db_name,  'transductive', 'test.txt')\n",
        "    # msg_file_path = os.path.join('datasets','transductive',  db_name, 'msg.txt')\n",
        "\n",
        "    # 1. Shuffle del file di train\n",
        "    with open(train_file_path, 'r') as train_file:\n",
        "        train_lines = train_file.readlines()\n",
        "\n",
        "    random.shuffle(train_lines)\n",
        "\n",
        "    train_file_path = train_file_path = os.path.join(inductive_dataset_path, 'train.txt')\n",
        "    with open(train_file_path, 'w') as train_file:\n",
        "        train_file.writelines(train_lines)\n",
        "\n",
        "    # 2. Lettura e shuffle di validation e test\n",
        "    with open(val_file_path, 'r') as val_file:\n",
        "        val_lines = val_file.readlines()\n",
        "\n",
        "    with open(test_file_path, 'r') as test_file:\n",
        "        test_lines = test_file.readlines()\n",
        "\n",
        "    all_lines = val_lines + test_lines\n",
        "    random.shuffle(all_lines)\n",
        "    msg_file_path = os.path.join(inductive_dataset_path, 'inference_graph.txt')\n",
        "    with open(msg_file_path, 'w') as msg_file:\n",
        "        msg_file.writelines(all_lines)\n",
        "\n",
        "\n",
        "    # 3. Riscrittura del file di validation rimuovendo un terzo degli elementi\n",
        "    val_count = len(val_lines)\n",
        "    new_val_count = val_count - val_count // 3\n",
        "    new_val_lines = random.sample(val_lines, new_val_count)\n",
        "    random.shuffle(new_val_lines)\n",
        "    val_file_path = os.path.join(inductive_dataset_path, 'inference_valid.txt')\n",
        "    with open(val_file_path, 'w') as val_file:\n",
        "        val_file.writelines(new_val_lines)\n",
        "\n",
        "    # 4. Riscrittura del file di test rimuovendo un terzo degli elementi\n",
        "    test_count = len(test_lines)\n",
        "    new_test_count = test_count - test_count // 3\n",
        "    new_test_lines = random.sample(test_lines, new_test_count)\n",
        "    random.shuffle(new_test_lines)\n",
        "    test_file_path = os.path.join(inductive_dataset_path, 'inference_test.txt')\n",
        "    with open(test_file_path, 'w') as test_file:\n",
        "        test_file.writelines(new_test_lines)"
      ]
    },
    {
      "cell_type": "code",
      "execution_count": 17,
      "metadata": {
        "id": "q9zT6KW8mJec"
      },
      "outputs": [],
      "source": [
        "build_Inductive_KG_files(\"F1\")"
      ]
    },
    {
      "cell_type": "markdown",
      "metadata": {
        "id": "nik_8gUtnjkG"
      },
      "source": [
        "## Testing ULTRA on F1 dataset"
      ]
    },
    {
      "cell_type": "markdown",
      "metadata": {
        "id": "N2-nu4CvrYNt"
      },
      "source": [
        "### Downloading ULTRA"
      ]
    },
    {
      "cell_type": "code",
      "execution_count": 1,
      "metadata": {
        "colab": {
          "base_uri": "https://localhost:8080/"
        },
        "id": "LEPyRlvnnpc1",
        "outputId": "7632f5ca-8cd9-4249-f007-9faaa8282b9a"
      },
      "outputs": [
        {
          "name": "stdout",
          "output_type": "stream",
          "text": [
            "Looking in indexes: https://download.pytorch.org/whl/cu118\n",
            "Requirement already satisfied: torch==2.1.0 in /usr/local/lib/python3.11/dist-packages (2.1.0+cu118)\n",
            "Requirement already satisfied: filelock in /usr/local/lib/python3.11/dist-packages (from torch==2.1.0) (3.16.1)\n",
            "Requirement already satisfied: typing-extensions in /usr/local/lib/python3.11/dist-packages (from torch==2.1.0) (4.12.2)\n",
            "Requirement already satisfied: sympy in /usr/local/lib/python3.11/dist-packages (from torch==2.1.0) (1.13.1)\n",
            "Requirement already satisfied: networkx in /usr/local/lib/python3.11/dist-packages (from torch==2.1.0) (3.4.2)\n",
            "Requirement already satisfied: jinja2 in /usr/local/lib/python3.11/dist-packages (from torch==2.1.0) (3.1.5)\n",
            "Requirement already satisfied: fsspec in /usr/local/lib/python3.11/dist-packages (from torch==2.1.0) (2024.10.0)\n",
            "Requirement already satisfied: triton==2.1.0 in /usr/local/lib/python3.11/dist-packages (from torch==2.1.0) (2.1.0)\n",
            "Requirement already satisfied: MarkupSafe>=2.0 in /usr/local/lib/python3.11/dist-packages (from jinja2->torch==2.1.0) (3.0.2)\n",
            "Requirement already satisfied: mpmath<1.4,>=1.1.0 in /usr/local/lib/python3.11/dist-packages (from sympy->torch==2.1.0) (1.3.0)\n",
            "Looking in links: https://data.pyg.org/whl/torch-2.1.0+cu118.html\n",
            "Requirement already satisfied: torch-scatter==2.1.2 in /usr/local/lib/python3.11/dist-packages (2.1.2+pt21cu118)\n",
            "Requirement already satisfied: torch-sparse==0.6.18 in /usr/local/lib/python3.11/dist-packages (0.6.18+pt21cu118)\n",
            "Requirement already satisfied: torch-geometric==2.4.0 in /usr/local/lib/python3.11/dist-packages (2.4.0)\n",
            "Requirement already satisfied: scipy in /usr/local/lib/python3.11/dist-packages (from torch-sparse==0.6.18) (1.13.1)\n",
            "Requirement already satisfied: tqdm in /usr/local/lib/python3.11/dist-packages (from torch-geometric==2.4.0) (4.67.1)\n",
            "Requirement already satisfied: numpy in /usr/local/lib/python3.11/dist-packages (from torch-geometric==2.4.0) (1.26.4)\n",
            "Requirement already satisfied: jinja2 in /usr/local/lib/python3.11/dist-packages (from torch-geometric==2.4.0) (3.1.5)\n",
            "Requirement already satisfied: requests in /usr/local/lib/python3.11/dist-packages (from torch-geometric==2.4.0) (2.32.3)\n",
            "Requirement already satisfied: pyparsing in /usr/local/lib/python3.11/dist-packages (from torch-geometric==2.4.0) (3.2.1)\n",
            "Requirement already satisfied: scikit-learn in /usr/local/lib/python3.11/dist-packages (from torch-geometric==2.4.0) (1.6.0)\n",
            "Requirement already satisfied: psutil>=5.8.0 in /usr/local/lib/python3.11/dist-packages (from torch-geometric==2.4.0) (5.9.5)\n",
            "Requirement already satisfied: MarkupSafe>=2.0 in /usr/local/lib/python3.11/dist-packages (from jinja2->torch-geometric==2.4.0) (3.0.2)\n",
            "Requirement already satisfied: charset-normalizer<4,>=2 in /usr/local/lib/python3.11/dist-packages (from requests->torch-geometric==2.4.0) (3.4.1)\n",
            "Requirement already satisfied: idna<4,>=2.5 in /usr/local/lib/python3.11/dist-packages (from requests->torch-geometric==2.4.0) (3.10)\n",
            "Requirement already satisfied: urllib3<3,>=1.21.1 in /usr/local/lib/python3.11/dist-packages (from requests->torch-geometric==2.4.0) (2.3.0)\n",
            "Requirement already satisfied: certifi>=2017.4.17 in /usr/local/lib/python3.11/dist-packages (from requests->torch-geometric==2.4.0) (2024.12.14)\n",
            "Requirement already satisfied: joblib>=1.2.0 in /usr/local/lib/python3.11/dist-packages (from scikit-learn->torch-geometric==2.4.0) (1.4.2)\n",
            "Requirement already satisfied: threadpoolctl>=3.1.0 in /usr/local/lib/python3.11/dist-packages (from scikit-learn->torch-geometric==2.4.0) (3.5.0)\n",
            "Requirement already satisfied: ninja in /usr/local/lib/python3.11/dist-packages (1.11.1.3)\n",
            "Requirement already satisfied: easydict in /usr/local/lib/python3.11/dist-packages (1.13)\n",
            "Requirement already satisfied: pyyaml in /usr/local/lib/python3.11/dist-packages (6.0.2)\n"
          ]
        }
      ],
      "source": [
        "!pip install torch==2.1.0 --index-url https://download.pytorch.org/whl/cu118\n",
        "!pip install torch-scatter==2.1.2 torch-sparse==0.6.18 torch-geometric==2.4.0 -f https://data.pyg.org/whl/torch-2.1.0+cu118.html\n",
        "!pip install ninja easydict pyyaml"
      ]
    },
    {
      "cell_type": "code",
      "execution_count": 21,
      "metadata": {
        "colab": {
          "base_uri": "https://localhost:8080/"
        },
        "id": "iixaqlq3ntAm",
        "outputId": "26a989bd-2497-4791-ee56-2f0bd54509d1"
      },
      "outputs": [
        {
          "name": "stdout",
          "output_type": "stream",
          "text": [
            "fatal: destination path 'ULTRA' already exists and is not an empty directory.\n"
          ]
        }
      ],
      "source": [
        "!git clone https://github.com/DeepGraphLearning/ULTRA.git"
      ]
    },
    {
      "cell_type": "markdown",
      "metadata": {
        "id": "I4HYR92WrczL"
      },
      "source": [
        "### Creating new F1 Dataset"
      ]
    },
    {
      "cell_type": "code",
      "execution_count": 22,
      "metadata": {
        "id": "hTUXFzHVtT7m"
      },
      "outputs": [],
      "source": [
        "import sys\n",
        "sys.path.insert(0,'/content/ULTRA')"
      ]
    },
    {
      "cell_type": "code",
      "execution_count": 23,
      "metadata": {
        "id": "4APHPFfQujoc"
      },
      "outputs": [],
      "source": [
        "from ultra.datasets import InductiveDataset"
      ]
    },
    {
      "cell_type": "code",
      "execution_count": 29,
      "metadata": {
        "id": "rTqr9je1ury-"
      },
      "outputs": [],
      "source": [
        "class F1DatasetInductive(InductiveDataset):\n",
        "\n",
        "    urls = [\n",
        "        \"datasets/F1/inductive/train.txt\",\n",
        "        \"datasets/F1/inductive/inference_graph.txt\",\n",
        "        \"datasets/F1/inductive/inference_valid.txt\",\n",
        "        \"datasets/F1/inductive/inference_test.txt\",\n",
        "        ]\n",
        "    name = \"f1_dataInductive\""
      ]
    },
    {
      "cell_type": "code",
      "execution_count": 32,
      "metadata": {
        "id": "hcp2PHlcwbVa"
      },
      "outputs": [],
      "source": [
        "with open('/content/ULTRA/ultra/datasets.py', 'a') as f:\n",
        "    f.write(\"\"\"\n",
        "class F1DatasetInductive(InductiveDataset):\n",
        "    urls = [\n",
        "        \"/content/datasets/F1/inductive/train.txt\",\n",
        "        \"/content/datasets/F1/inductive/inference_graph.txt\",\n",
        "        \"/content/datasets/F1/inductive/inference_valid.txt\",\n",
        "        \"/content/datasets/F1/inductive/inference_test.txt\",\n",
        "    ]\n",
        "    name = \"f1_dataInductive\"\n",
        "\"\"\")"
      ]
    },
    {
      "cell_type": "code",
      "execution_count": 33,
      "metadata": {
        "colab": {
          "base_uri": "https://localhost:8080/"
        },
        "id": "yRXLd4QXvF5k",
        "outputId": "be5bae74-96d9-44f2-9e02-bff5f70db403"
      },
      "outputs": [
        {
          "name": "stdout",
          "output_type": "stream",
          "text": [
            "10:19:57   Random seed: 1024\n",
            "10:19:57   Config file: ULTRA/config/inductive/inference.yaml\n",
            "10:19:57   {'checkpoint': '/content/ULTRA/ckpts/ultra_4g.pth',\n",
            " 'dataset': {'class': 'F1DatasetInductive',\n",
            "             'root': '~/git/ULTRA/kg-datasets/',\n",
            "             'version': 'v1'},\n",
            " 'model': {'class': 'Ultra',\n",
            "           'entity_model': {'aggregate_func': 'sum',\n",
            "                            'class': 'EntityNBFNet',\n",
            "                            'hidden_dims': [64, 64, 64, 64, 64, 64],\n",
            "                            'input_dim': 64,\n",
            "                            'layer_norm': True,\n",
            "                            'message_func': 'distmult',\n",
            "                            'short_cut': True},\n",
            "           'relation_model': {'aggregate_func': 'sum',\n",
            "                              'class': 'RelNBFNet',\n",
            "                              'hidden_dims': [64, 64, 64, 64, 64, 64],\n",
            "                              'input_dim': 64,\n",
            "                              'layer_norm': True,\n",
            "                              'message_func': 'distmult',\n",
            "                              'short_cut': True}},\n",
            " 'optimizer': {'class': 'AdamW', 'lr': 0.0005},\n",
            " 'output_dir': '~/git/ULTRA/output',\n",
            " 'task': {'adversarial_temperature': 1,\n",
            "          'metric': ['mr', 'mrr', 'hits@1', 'hits@3', 'hits@10', 'hits@10_50'],\n",
            "          'name': 'InductiveInference',\n",
            "          'num_negative': 256,\n",
            "          'strict_negative': True},\n",
            " 'train': {'batch_per_epoch': None,\n",
            "           'batch_size': 16,\n",
            "           'gpus': [0],\n",
            "           'log_interval': 100,\n",
            "           'num_epoch': 0}}\n",
            "Traceback (most recent call last):\n",
            "  File \"/content/ULTRA/script/run.py\", line 243, in <module>\n",
            "    dataset = util.build_dataset(cfg)\n",
            "              ^^^^^^^^^^^^^^^^^^^^^^^\n",
            "  File \"/content/ULTRA/ultra/util.py\", line 149, in build_dataset\n",
            "    dataset = ds_cls(**data_config)\n",
            "              ^^^^^^^^^^^^^^^^^^^^^\n",
            "  File \"/content/ULTRA/ultra/datasets.py\", line 609, in __init__\n",
            "    super().__init__(root, transform, pre_transform)\n",
            "  File \"/usr/local/lib/python3.11/dist-packages/torch_geometric/data/in_memory_dataset.py\", line 76, in __init__\n",
            "    super().__init__(root, transform, pre_transform, pre_filter, log)\n",
            "  File \"/usr/local/lib/python3.11/dist-packages/torch_geometric/data/dataset.py\", line 99, in __init__\n",
            "    self._download()\n",
            "  File \"/usr/local/lib/python3.11/dist-packages/torch_geometric/data/dataset.py\", line 204, in _download\n",
            "    self.download()\n",
            "  File \"/content/ULTRA/ultra/datasets.py\", line 614, in download\n",
            "    download_path = download_url(url % self.version, self.raw_dir)\n",
            "                                 ~~~~^~~~~~~~~~~~~~\n",
            "TypeError: not all arguments converted during string formatting\n"
          ]
        }
      ],
      "source": [
        "!python ULTRA/script/run.py -c ULTRA/config/inductive/inference.yaml --dataset F1DatasetInductive --version v1 --epochs 0 --bpe null --gpus [0] --ckpt /content/ULTRA/ckpts/ultra_4g.pth"
      ]
    },
    {
      "cell_type": "markdown",
      "metadata": {
        "id": "A0rXVf9IEVJS"
      },
      "source": [
        "## Downloading H&M dataset"
      ]
    },
    {
      "cell_type": "code",
      "execution_count": 4,
      "metadata": {
        "colab": {
          "base_uri": "https://localhost:8080/"
        },
        "id": "SeQwhvJTVshl",
        "outputId": "e46c534d-d388-4ca8-f276-976b07282487"
      },
      "outputs": [
        {
          "name": "stderr",
          "output_type": "stream",
          "text": [
            "Downloading file 'rel-hm/db.zip' from 'https://relbench.stanford.edu/download/rel-hm/db.zip' to '/root/.cache/relbench'.\n",
            "100%|███████████████████████████████████████| 143M/143M [00:00<00:00, 27.1GB/s]\n",
            "Unzipping contents of '/root/.cache/relbench/rel-hm/db.zip' to '/root/.cache/relbench/rel-hm/.'\n"
          ]
        }
      ],
      "source": [
        "hm_dataset = get_dataset(name=\"rel-hm\", download=True)"
      ]
    },
    {
      "cell_type": "code",
      "execution_count": 5,
      "metadata": {
        "colab": {
          "base_uri": "https://localhost:8080/"
        },
        "id": "uUd5iD2tYioc",
        "outputId": "ed1a87c2-dd53-4c6e-a677-9685f4612958"
      },
      "outputs": [
        {
          "name": "stdout",
          "output_type": "stream",
          "text": [
            "The validation timestep is: 2020-09-07 00:00:00\n",
            "The test timestep is: 2020-09-14 00:00:00\n"
          ]
        }
      ],
      "source": [
        "# Salvo i timestep di validation e test in modo da usarli dopo per la creazione dei file di input per ULTRA\n",
        "hm_val_timestep = hm_dataset.val_timestamp\n",
        "hm_test_timestep = hm_dataset.test_timestamp\n",
        "\n",
        "print(f\"The validation timestep is: {hm_val_timestep}\")\n",
        "print(f\"The test timestep is: {hm_test_timestep}\")"
      ]
    },
    {
      "cell_type": "code",
      "execution_count": 6,
      "metadata": {
        "colab": {
          "base_uri": "https://localhost:8080/"
        },
        "id": "073e2jOQV9aP",
        "outputId": "d2d015b4-b361-41dc-dbce-d23230a0b734"
      },
      "outputs": [
        {
          "name": "stdout",
          "output_type": "stream",
          "text": [
            "Loading Database object from /root/.cache/relbench/rel-hm/db...\n",
            "Done in 7.86 seconds.\n"
          ]
        }
      ],
      "source": [
        "hm_db = hm_dataset.get_db()"
      ]
    },
    {
      "cell_type": "code",
      "execution_count": 7,
      "metadata": {
        "colab": {
          "base_uri": "https://localhost:8080/"
        },
        "id": "YbUXPI3fBKUX",
        "outputId": "f8089ceb-3d9d-4af6-e8a8-38ff7efe3835"
      },
      "outputs": [
        {
          "data": {
            "text/plain": [
              "dict_keys(['customer', 'article', 'transactions'])"
            ]
          },
          "execution_count": 7,
          "metadata": {},
          "output_type": "execute_result"
        }
      ],
      "source": [
        "hm_db.table_dict.keys()"
      ]
    },
    {
      "cell_type": "markdown",
      "metadata": {
        "id": "bY9FtN2zEY75"
      },
      "source": [
        "### Checking Tables"
      ]
    },
    {
      "cell_type": "code",
      "execution_count": null,
      "metadata": {
        "colab": {
          "base_uri": "https://localhost:8080/"
        },
        "id": "DvwnDZTZBaDW",
        "outputId": "c63a8347-5264-443d-b660-fe6bacd4e33f"
      },
      "outputs": [
        {
          "data": {
            "text/plain": [
              "Table(df=\n",
              "              t_dat  customer_id  article_id     price  sales_channel_id\n",
              "0        2019-09-07          155       51985  0.010153                 1\n",
              "1        2019-09-07          155       51985  0.010153                 1\n",
              "2        2019-09-07          155       83127  0.042356                 1\n",
              "3        2019-09-07          155        6066  0.005068                 1\n",
              "4        2019-09-07          155       78525  0.033881                 1\n",
              "...             ...          ...         ...       ...               ...\n",
              "15187282 2020-09-14      1371926       93801  0.025407                 1\n",
              "15187283 2020-09-14      1371926       17155  0.033881                 1\n",
              "15187284 2020-09-14      1371926       65802  0.030492                 1\n",
              "15187285 2020-09-14      1371926       85883  0.016932                 1\n",
              "15187286 2020-09-14      1371926      104763  0.042356                 1\n",
              "\n",
              "[15187287 rows x 5 columns],\n",
              "  fkey_col_to_pkey_table={'customer_id': 'customer', 'article_id': 'article'},\n",
              "  pkey_col=None,\n",
              "  time_col=t_dat)"
            ]
          },
          "execution_count": 8,
          "metadata": {},
          "output_type": "execute_result"
        }
      ],
      "source": [
        "table = hm_db.table_dict[\"transactions\"]\n",
        "table"
      ]
    },
    {
      "cell_type": "code",
      "execution_count": null,
      "metadata": {
        "colab": {
          "base_uri": "https://localhost:8080/"
        },
        "id": "qT1HhBo-CCDP",
        "outputId": "a266ccbc-fd6d-4a6e-9090-3367b941070c"
      },
      "outputs": [
        {
          "data": {
            "text/plain": [
              "Table(df=\n",
              "         customer_id   FN  Active club_member_status fashion_news_frequency  \\\n",
              "0                  0  NaN     NaN             ACTIVE                   NONE   \n",
              "1                  1  NaN     NaN             ACTIVE                   NONE   \n",
              "2                  2  NaN     NaN             ACTIVE                   NONE   \n",
              "3                  3  NaN     NaN             ACTIVE                   NONE   \n",
              "4                  4  1.0     1.0             ACTIVE              Regularly   \n",
              "...              ...  ...     ...                ...                    ...   \n",
              "1371975      1371975  NaN     NaN             ACTIVE                   NONE   \n",
              "1371976      1371976  NaN     NaN             ACTIVE                   NONE   \n",
              "1371977      1371977  1.0     1.0             ACTIVE              Regularly   \n",
              "1371978      1371978  1.0     1.0             ACTIVE              Regularly   \n",
              "1371979      1371979  NaN     NaN         PRE-CREATE                   NONE   \n",
              "\n",
              "          age                                        postal_code  \n",
              "0        49.0  52043ee2162cf5aa7ee79974281641c6f11a68d276429a...  \n",
              "1        25.0  2973abc54daa8a5f8ccfe9362140c63247c5eee03f1d93...  \n",
              "2        24.0  64f17e6a330a85798e4998f62d0930d14db8db1c054af6...  \n",
              "3        54.0  5d36574f52495e81f019b680c843c443bd343d5ca5b1c2...  \n",
              "4        52.0  25fa5ddee9aac01b35208d01736e57942317d756b32ddd...  \n",
              "...       ...                                                ...  \n",
              "1371975  24.0  7aa399f7e669990daba2d92c577b52237380662f36480b...  \n",
              "1371976  21.0  3f47f1279beb72215f4de557d950e0bfa73789d24acb5e...  \n",
              "1371977  21.0  4563fc79215672cd6a863f2b4bf56b8f898f2d96ed590e...  \n",
              "1371978  18.0  8892c18e9bc3dca6aa4000cb8094fc4b51ee8db2ed14d7...  \n",
              "1371979  65.0  0a1a03306fb2f62164c2a439b38c0caa64b40deaae8687...  \n",
              "\n",
              "[1371980 rows x 7 columns],\n",
              "  fkey_col_to_pkey_table={},\n",
              "  pkey_col=customer_id,\n",
              "  time_col=None)"
            ]
          },
          "execution_count": 9,
          "metadata": {},
          "output_type": "execute_result"
        }
      ],
      "source": [
        "table = hm_db.table_dict[\"customer\"]\n",
        "table"
      ]
    },
    {
      "cell_type": "code",
      "execution_count": null,
      "metadata": {
        "colab": {
          "base_uri": "https://localhost:8080/"
        },
        "id": "UvoN1mrXCMsm",
        "outputId": "19c56963-9370-4f66-a7da-98e22385bacd"
      },
      "outputs": [
        {
          "data": {
            "text/plain": [
              "Table(df=\n",
              "        article_id  product_code               prod_name  product_type_no  \\\n",
              "0                0        108775               Strap top              253   \n",
              "1                1        108775               Strap top              253   \n",
              "2                2        108775           Strap top (1)              253   \n",
              "3                3        110065       OP T-shirt (Idro)              306   \n",
              "4                4        110065       OP T-shirt (Idro)              306   \n",
              "...            ...           ...                     ...              ...   \n",
              "105537      105537        953450  5pk regular Placement1              302   \n",
              "105538      105538        953763       SPORT Malaga tank              253   \n",
              "105539      105539        956217         Cartwheel dress              265   \n",
              "105540      105540        957375        CLAIRE HAIR CLAW               72   \n",
              "105541      105541        959461            Lounge dress              265   \n",
              "\n",
              "       product_type_name  product_group_name  graphical_appearance_no  \\\n",
              "0               Vest top  Garment Upper body                  1010016   \n",
              "1               Vest top  Garment Upper body                  1010016   \n",
              "2               Vest top  Garment Upper body                  1010017   \n",
              "3                    Bra           Underwear                  1010016   \n",
              "4                    Bra           Underwear                  1010016   \n",
              "...                  ...                 ...                      ...   \n",
              "105537             Socks      Socks & Tights                  1010014   \n",
              "105538          Vest top  Garment Upper body                  1010016   \n",
              "105539             Dress   Garment Full body                  1010016   \n",
              "105540         Hair clip         Accessories                  1010016   \n",
              "105541             Dress   Garment Full body                  1010016   \n",
              "\n",
              "       graphical_appearance_name  colour_group_code colour_group_name  ...  \\\n",
              "0                          Solid                  9             Black  ...   \n",
              "1                          Solid                 10             White  ...   \n",
              "2                         Stripe                 11         Off White  ...   \n",
              "3                          Solid                  9             Black  ...   \n",
              "4                          Solid                 10             White  ...   \n",
              "...                          ...                ...               ...  ...   \n",
              "105537           Placement print                  9             Black  ...   \n",
              "105538                     Solid                  9             Black  ...   \n",
              "105539                     Solid                  9             Black  ...   \n",
              "105540                     Solid                  9             Black  ...   \n",
              "105541                     Solid                 11         Off White  ...   \n",
              "\n",
              "          department_name index_code        index_name index_group_no  \\\n",
              "0            Jersey Basic          A        Ladieswear              1   \n",
              "1            Jersey Basic          A        Ladieswear              1   \n",
              "2            Jersey Basic          A        Ladieswear              1   \n",
              "3          Clean Lingerie          B  Lingeries/Tights              1   \n",
              "4          Clean Lingerie          B  Lingeries/Tights              1   \n",
              "...                   ...        ...               ...            ...   \n",
              "105537          Socks Bin          F          Menswear              3   \n",
              "105538             Jersey          A        Ladieswear              1   \n",
              "105539             Jersey          A        Ladieswear              1   \n",
              "105540  Small Accessories          D           Divided              2   \n",
              "105541             Jersey          A        Ladieswear              1   \n",
              "\n",
              "        index_group_name section_no            section_name garment_group_no  \\\n",
              "0             Ladieswear         16  Womens Everyday Basics             1002   \n",
              "1             Ladieswear         16  Womens Everyday Basics             1002   \n",
              "2             Ladieswear         16  Womens Everyday Basics             1002   \n",
              "3             Ladieswear         61         Womens Lingerie             1017   \n",
              "4             Ladieswear         61         Womens Lingerie             1017   \n",
              "...                  ...        ...                     ...              ...   \n",
              "105537          Menswear         26           Men Underwear             1021   \n",
              "105538        Ladieswear          2                    H&M+             1005   \n",
              "105539        Ladieswear         18            Womens Trend             1005   \n",
              "105540           Divided         52     Divided Accessories             1019   \n",
              "105541        Ladieswear         18            Womens Trend             1005   \n",
              "\n",
              "        garment_group_name                                        detail_desc  \n",
              "0             Jersey Basic            Jersey top with narrow shoulder straps.  \n",
              "1             Jersey Basic            Jersey top with narrow shoulder straps.  \n",
              "2             Jersey Basic            Jersey top with narrow shoulder straps.  \n",
              "3        Under-, Nightwear  Microfibre T-shirt bra with underwired, moulde...  \n",
              "4        Under-, Nightwear  Microfibre T-shirt bra with underwired, moulde...  \n",
              "...                    ...                                                ...  \n",
              "105537    Socks and Tights  Socks in a fine-knit cotton blend with a small...  \n",
              "105538        Jersey Fancy  Loose-fitting sports vest top in ribbed fast-d...  \n",
              "105539        Jersey Fancy  Short, A-line dress in jersey with a round nec...  \n",
              "105540         Accessories                           Large plastic hair claw.  \n",
              "105541        Jersey Fancy  Calf-length dress in ribbed jersey made from a...  \n",
              "\n",
              "[105542 rows x 25 columns],\n",
              "  fkey_col_to_pkey_table={},\n",
              "  pkey_col=article_id,\n",
              "  time_col=None)"
            ]
          },
          "execution_count": 10,
          "metadata": {},
          "output_type": "execute_result"
        }
      ],
      "source": [
        "table = hm_db.table_dict[\"article\"]\n",
        "table"
      ]
    },
    {
      "cell_type": "markdown",
      "metadata": {
        "id": "pscg6v-nEooO"
      },
      "source": [
        "### Downloading a task"
      ]
    },
    {
      "cell_type": "code",
      "execution_count": null,
      "metadata": {
        "colab": {
          "base_uri": "https://localhost:8080/"
        },
        "id": "GI5ONBn7EsS1",
        "outputId": "84230e3f-f313-4f8e-cfa3-3dd6aa46c697"
      },
      "outputs": [
        {
          "data": {
            "text/plain": [
              "['user-item-purchase', 'user-churn', 'item-sales']"
            ]
          },
          "execution_count": 11,
          "metadata": {},
          "output_type": "execute_result"
        }
      ],
      "source": [
        "from relbench.tasks import get_task_names, get_task\n",
        "\n",
        "get_task_names(\"rel-hm\")"
      ]
    },
    {
      "cell_type": "code",
      "execution_count": null,
      "metadata": {
        "colab": {
          "base_uri": "https://localhost:8080/"
        },
        "id": "Isz2yOlvFnwz",
        "outputId": "1154a328-dde3-4395-b926-a7dc0d8c78cf"
      },
      "outputs": [
        {
          "name": "stderr",
          "output_type": "stream",
          "text": [
            "Downloading file 'rel-hm/tasks/user-item-purchase.zip' from 'https://relbench.stanford.edu/download/rel-hm/tasks/user-item-purchase.zip' to '/root/.cache/relbench'.\n",
            "100%|█████████████████████████████████████| 46.9M/46.9M [00:00<00:00, 18.2GB/s]\n",
            "Unzipping contents of '/root/.cache/relbench/rel-hm/tasks/user-item-purchase.zip' to '/root/.cache/relbench/rel-hm/tasks/.'\n"
          ]
        }
      ],
      "source": [
        "hm_task = get_task(\"rel-hm\", \"user-item-purchase\", download=True)"
      ]
    },
    {
      "cell_type": "code",
      "execution_count": null,
      "metadata": {
        "id": "CyCQPL6QF6UN"
      },
      "outputs": [],
      "source": [
        "from relbench.base import TaskType\n",
        "assert hm_task.task_type == TaskType.LINK_PREDICTION"
      ]
    },
    {
      "cell_type": "code",
      "execution_count": null,
      "metadata": {
        "id": "Ogz_oBooF77D"
      },
      "outputs": [],
      "source": [
        "train_table = hm_task.get_table(\"train\")\n",
        "val_table = hm_task.get_table(\"val\")\n",
        "test_table = hm_task.get_table(\"test\")"
      ]
    },
    {
      "cell_type": "code",
      "execution_count": null,
      "metadata": {
        "colab": {
          "base_uri": "https://localhost:8080/"
        },
        "id": "oCWaUUhUGLyv",
        "outputId": "e6da7ff3-1bf7-4e72-a6fb-57e4447ad193"
      },
      "outputs": [
        {
          "data": {
            "text/plain": [
              "Table(df=\n",
              "         timestamp  customer_id  \\\n",
              "0       2019-12-09       149853   \n",
              "1       2019-12-09       435491   \n",
              "2       2019-12-09       600889   \n",
              "3       2019-12-09      1271535   \n",
              "4       2019-12-09       124560   \n",
              "...            ...          ...   \n",
              "3878446 2020-04-20       408061   \n",
              "3878447 2020-04-20      1138840   \n",
              "3878448 2020-03-30       140490   \n",
              "3878449 2020-03-30      1094930   \n",
              "3878450 2020-03-30      1217756   \n",
              "\n",
              "                                                article_id  \n",
              "0                                           [11667, 83069]  \n",
              "1        [8061, 56842, 70123, 83386, 14038, 70122, 3315...  \n",
              "2                                           [25756, 72271]  \n",
              "3         [78428, 38992, 91389, 86016, 2556, 72566, 10378]  \n",
              "4                                                  [80745]  \n",
              "...                                                    ...  \n",
              "3878446                                            [82437]  \n",
              "3878447                                           [101299]  \n",
              "3878448                                            [53385]  \n",
              "3878449                                            [53822]  \n",
              "3878450                                            [80651]  \n",
              "\n",
              "[3878451 rows x 3 columns],\n",
              "  fkey_col_to_pkey_table={'customer_id': 'customer', 'article_id': 'article'},\n",
              "  pkey_col=None,\n",
              "  time_col=timestamp)"
            ]
          },
          "execution_count": 15,
          "metadata": {},
          "output_type": "execute_result"
        }
      ],
      "source": [
        "train_table"
      ]
    },
    {
      "cell_type": "markdown",
      "metadata": {
        "id": "9hF0ILdELBjA"
      },
      "source": [
        "## Creating the Graph"
      ]
    },
    {
      "cell_type": "code",
      "execution_count": 8,
      "metadata": {
        "colab": {
          "base_uri": "https://localhost:8080/"
        },
        "id": "JFw19qJOLhvj",
        "outputId": "1d7e5567-3fea-4ca9-91ba-bf1c1a81f518"
      },
      "outputs": [
        {
          "name": "stdout",
          "output_type": "stream",
          "text": [
            "cuda\n"
          ]
        }
      ],
      "source": [
        "import torch\n",
        "\n",
        "from torch_geometric.seed import seed_everything\n",
        "\n",
        "# Check that it's cuda if you want it to run in reasonable time!\n",
        "device = torch.device(\"cuda\" if torch.cuda.is_available() else \"cpu\")\n",
        "if torch.cuda.is_available():\n",
        "    torch.set_num_threads(1)\n",
        "print(device)\n",
        "\n",
        "# Set the seed for generating random numbers to ensure reproducibility\n",
        "seed_everything(42)\n",
        "\n",
        "# Path to the directory for caching graph data\n",
        "root_dir = \"./data\""
      ]
    },
    {
      "cell_type": "code",
      "execution_count": 9,
      "metadata": {
        "colab": {
          "base_uri": "https://localhost:8080/"
        },
        "id": "cQWT90DgLFct",
        "outputId": "653e3fb1-243c-4aa7-d4a7-180cbb9c2592"
      },
      "outputs": [
        {
          "name": "stdout",
          "output_type": "stream",
          "text": [
            "Loading Database object from /root/.cache/relbench/rel-hm/db...\n",
            "Done in 2.04 seconds.\n"
          ]
        }
      ],
      "source": [
        "from relbench.modeling.utils import get_stype_proposal\n",
        "\n",
        "hm_db = hm_dataset.get_db(upto_test_timestamp = False)  # Noi dobbiamo scaricare tutto il database, anche quello di test.\n",
        "col_to_stype_dict = get_stype_proposal(hm_db)"
      ]
    },
    {
      "cell_type": "code",
      "execution_count": 10,
      "metadata": {
        "id": "N-TJvOjQLUDZ"
      },
      "outputs": [],
      "source": [
        "from typing import List, Optional\n",
        "from sentence_transformers import SentenceTransformer\n",
        "from torch import Tensor\n",
        "\n",
        "class GloveTextEmbedding:\n",
        "    def __init__(self, device: Optional[torch.device] = None):\n",
        "        self.model = SentenceTransformer(\n",
        "            \"sentence-transformers/average_word_embeddings_glove.6B.300d\",\n",
        "            device=device,\n",
        "        )\n",
        "\n",
        "    def __call__(self, sentences: List[str]) -> Tensor:\n",
        "        return self.model.encode(sentences, convert_to_tensor=True)"
      ]
    },
    {
      "cell_type": "code",
      "execution_count": 11,
      "metadata": {
        "colab": {
          "base_uri": "https://localhost:8080/",
          "height": 573,
          "referenced_widgets": [
            "372fa50321154fa7a44970e6720828cb",
            "f02e3ec3e15847db97150610c7a09f81",
            "56b29c20214843ca8d24bba5a4d2c3a6",
            "616b8778c6a548c2a659990bf7ec13d8",
            "0ff1e91551c74749a67fa65c9f5cae82",
            "da8d95e744fb4ad5982ea5d8e4337675",
            "2dca1210c1014831b1858ad36f3ee0af",
            "42fb595a96f14ad99690086c85c497d0",
            "9c7b96de2a2943a084fe746c6e390d75",
            "62795f237da14365b448ad57c4f94cab",
            "7840fbd99ab14d1c80633ab5544bd21c",
            "dfe96527da274f7a9ccae96e5d154813",
            "681bd167b35b4be5ba13995feccaa67b",
            "bd45bf885bb34a2aaac1daff1a0e77ce",
            "50b10808f8ca42a0bb820be0c827913a",
            "2ebc1748555c4bf5801be34b3eff1e22",
            "1d7014826bbd4369aea408c858aeb3c9",
            "7d29b305214f4057bd1b7624959368db",
            "bb3c35e549524569a21435af830a2bd5",
            "41539403785d4ecdba2552ebb1634d90",
            "a3e34122d37445fd96e7101c8aa1d39e",
            "c29193ff931244af8c27b586bac281c8",
            "aee95b1aa02e4dc689737054a99919fc",
            "b9336d4896d742749948b8e6e8f5b729",
            "63ee2b2119c9469bbdd126dd2f8100cc",
            "8d66e456c42d4ebd9875e1f4168ee807",
            "90d7001d6997425886d1eb703d24d826",
            "580fa4936083404ab0389247274a3f4b",
            "4c696878bdc54f33abd1ad970d9bb934",
            "900ba9844d664639bfafa3b413589d8b",
            "4530a319fe10428988253799c8f92538",
            "df0aa4ed1d314030901f0b225e6ac68d",
            "714c235bb93b43cdae8a7e745017ed5c",
            "c168c54e3bdf42ff9ddb43e2d1de42f5",
            "9c22176f76964940892a890c3243021b",
            "c4ab496e5da74a59b5044f8b338244a8",
            "a39f75b55fa749b1971bdf55f193dd4e",
            "a8782db70f594625ab0283e3eac00b58",
            "d87ead8010a7432093202540232a0f58",
            "8b74b8c47a294ecbacb2bed9537f1c66",
            "5b9cbe003f204c22a7a293f983749199",
            "28adbf2cf9a64a95890c1b890a5095cf",
            "a61a53af8668461f83bd6bf726277779",
            "e50e8f3293d444a6944ba1057772cb6f",
            "44d90edbfd5843dba15f7c17e36daa33",
            "ab07cd0f7ce74ca8ad8222d4c9afc8a0",
            "0ffdcceb0ec341868b0930f2f3cf87d9",
            "20e379f915934b85b2a4754357261411",
            "7c0fcef2ed7246c580c53e2b88c8c0f6",
            "2c25b32eb64c450a9f185f3bc75d0395",
            "31cbf8b8cab045d38517f5e990830a56",
            "77e489b5e38f47c48b3fc1e7cff79f7e",
            "e7766a9bf84c4e5093579469f0aef6c1",
            "da5d5ead0ca4412c954b1dcf3f746dc0",
            "aa46857f7a7b4ca2b780dbc521a675ca",
            "56165b615d2e4a0b976148152a32c8fd",
            "7fcc2c2aeeea4cc48d65df53febd5a08",
            "b1b2826032c241b38e6476826676c53c",
            "1a52f87733f246dc917e347c580fd83b",
            "150833bb62254b189af51b7832c33baa",
            "5ea989dfea414dc2ae82621bb43bc292",
            "51542c1a1a1041d0afc0f322103c5a5f",
            "e4bce280cd1a46f7895fba1d1d1a8c1b",
            "8062ce7ce7f04c55b6eea068acb01016",
            "35b1073ffc2d436f80763f83e830056b",
            "962b312ef4434c92bbe74aa5e082de66",
            "d7fa6b29acc345ba8ae786894e5ebc12",
            "505d5de548674923947792596bb8d5f9",
            "96de8439bb284f7aad58d00b93f5a939",
            "d8fec7401539447abc6caac011719013",
            "0621f9d4739c43989a6638d0e5bd222f",
            "18fb0ca3a6fc47499021619d65951e20",
            "115e85691ffb41f092282d9283231ec9",
            "216ebaf206a04d4c9e6e974429d3a4d0",
            "f9cf17a73f04494097946eeb39828eab",
            "1dbf6ac716f4455081c7c49a4cc9bb72",
            "ac13b470b1d14887b0b949e52b9c788b"
          ]
        },
        "id": "QAYnqU6tLc1l",
        "outputId": "b72157bb-f084-4645-a21b-ce3b50fab9db"
      },
      "outputs": [
        {
          "name": "stderr",
          "output_type": "stream",
          "text": [
            "/usr/local/lib/python3.11/dist-packages/huggingface_hub/utils/_auth.py:94: UserWarning: \n",
            "The secret `HF_TOKEN` does not exist in your Colab secrets.\n",
            "To authenticate with the Hugging Face Hub, create a token in your settings tab (https://huggingface.co/settings/tokens), set it as secret in your Google Colab and restart your session.\n",
            "You will be able to reuse this secret in all of your notebooks.\n",
            "Please note that authentication is recommended but still optional to access public models or datasets.\n",
            "  warnings.warn(\n"
          ]
        },
        {
          "data": {
            "application/vnd.jupyter.widget-view+json": {
              "model_id": "372fa50321154fa7a44970e6720828cb",
              "version_major": 2,
              "version_minor": 0
            },
            "text/plain": [
              "modules.json:   0%|          | 0.00/248 [00:00<?, ?B/s]"
            ]
          },
          "metadata": {},
          "output_type": "display_data"
        },
        {
          "data": {
            "application/vnd.jupyter.widget-view+json": {
              "model_id": "dfe96527da274f7a9ccae96e5d154813",
              "version_major": 2,
              "version_minor": 0
            },
            "text/plain": [
              "config_sentence_transformers.json:   0%|          | 0.00/122 [00:00<?, ?B/s]"
            ]
          },
          "metadata": {},
          "output_type": "display_data"
        },
        {
          "data": {
            "application/vnd.jupyter.widget-view+json": {
              "model_id": "aee95b1aa02e4dc689737054a99919fc",
              "version_major": 2,
              "version_minor": 0
            },
            "text/plain": [
              "README.md:   0%|          | 0.00/2.19k [00:00<?, ?B/s]"
            ]
          },
          "metadata": {},
          "output_type": "display_data"
        },
        {
          "data": {
            "application/vnd.jupyter.widget-view+json": {
              "model_id": "c168c54e3bdf42ff9ddb43e2d1de42f5",
              "version_major": 2,
              "version_minor": 0
            },
            "text/plain": [
              "(…)WordEmbeddings/wordembedding_config.json:   0%|          | 0.00/164 [00:00<?, ?B/s]"
            ]
          },
          "metadata": {},
          "output_type": "display_data"
        },
        {
          "data": {
            "application/vnd.jupyter.widget-view+json": {
              "model_id": "44d90edbfd5843dba15f7c17e36daa33",
              "version_major": 2,
              "version_minor": 0
            },
            "text/plain": [
              "pytorch_model.bin:   0%|          | 0.00/480M [00:00<?, ?B/s]"
            ]
          },
          "metadata": {},
          "output_type": "display_data"
        },
        {
          "data": {
            "application/vnd.jupyter.widget-view+json": {
              "model_id": "56165b615d2e4a0b976148152a32c8fd",
              "version_major": 2,
              "version_minor": 0
            },
            "text/plain": [
              "(…)beddings/whitespacetokenizer_config.json:   0%|          | 0.00/4.61M [00:00<?, ?B/s]"
            ]
          },
          "metadata": {},
          "output_type": "display_data"
        },
        {
          "data": {
            "application/vnd.jupyter.widget-view+json": {
              "model_id": "d7fa6b29acc345ba8ae786894e5ebc12",
              "version_major": 2,
              "version_minor": 0
            },
            "text/plain": [
              "1_Pooling/config.json:   0%|          | 0.00/190 [00:00<?, ?B/s]"
            ]
          },
          "metadata": {},
          "output_type": "display_data"
        },
        {
          "name": "stderr",
          "output_type": "stream",
          "text": [
            "Embedding raw data in mini-batch: 100%|██████████| 5360/5360 [00:28<00:00, 187.12it/s]\n",
            "Embedding raw data in mini-batch: 100%|██████████| 5360/5360 [00:33<00:00, 159.58it/s]\n",
            "Embedding raw data in mini-batch: 100%|██████████| 413/413 [00:02<00:00, 178.20it/s]\n",
            "Embedding raw data in mini-batch: 100%|██████████| 413/413 [00:02<00:00, 170.69it/s]\n",
            "Embedding raw data in mini-batch: 100%|██████████| 413/413 [00:04<00:00, 83.03it/s]\n",
            "Embedding raw data in mini-batch: 100%|██████████| 413/413 [00:02<00:00, 165.92it/s]\n",
            "Embedding raw data in mini-batch: 100%|██████████| 413/413 [00:02<00:00, 191.31it/s]\n",
            "Embedding raw data in mini-batch: 100%|██████████| 413/413 [00:02<00:00, 190.50it/s]\n",
            "Embedding raw data in mini-batch: 100%|██████████| 413/413 [00:02<00:00, 165.47it/s]\n",
            "Embedding raw data in mini-batch: 100%|██████████| 413/413 [00:02<00:00, 157.40it/s]\n",
            "Embedding raw data in mini-batch: 100%|██████████| 413/413 [00:02<00:00, 143.28it/s]\n",
            "Embedding raw data in mini-batch: 100%|██████████| 413/413 [00:02<00:00, 178.42it/s]\n"
          ]
        }
      ],
      "source": [
        "import os\n",
        "\n",
        "# Root directory where files will be stored\n",
        "root_dir = \"./data\"\n",
        "\n",
        "# Run the from-scratch graph computation\n",
        "from torch_frame.config.text_embedder import TextEmbedderConfig\n",
        "from relbench.modeling.graph import make_pkey_fkey_graph\n",
        "\n",
        "# Configure the text encoder\n",
        "text_embedder_cfg = TextEmbedderConfig(\n",
        "    text_embedder=GloveTextEmbedding(device=device),\n",
        "    batch_size=256\n",
        ")\n",
        "\n",
        "# Generate graph data\n",
        "hm_data, col_stats_dict = make_pkey_fkey_graph(\n",
        "    hm_db,\n",
        "    col_to_stype_dict=col_to_stype_dict,  # Column types\n",
        "    text_embedder_cfg=text_embedder_cfg,  # Our chosen text encoder\n",
        "    cache_dir=os.path.join(\n",
        "        root_dir, f\"rel-hm_materialized_cache\"\n",
        "    ),  # Store materialized graph for convenience\n",
        ")"
      ]
    },
    {
      "cell_type": "code",
      "execution_count": 12,
      "metadata": {
        "colab": {
          "base_uri": "https://localhost:8080/"
        },
        "id": "mLHmIccmLvo_",
        "outputId": "b988e025-5c05-4399-91f7-afe9d9126dff"
      },
      "outputs": [
        {
          "data": {
            "text/plain": [
              "HeteroData(\n",
              "  customer={ tf=TensorFrame([1371980, 6]) },\n",
              "  article={ tf=TensorFrame([105542, 24]) },\n",
              "  transactions={\n",
              "    tf=TensorFrame([15453651, 3]),\n",
              "    time=[15453651],\n",
              "  },\n",
              "  (transactions, f2p_customer_id, customer)={ edge_index=[2, 15453651] },\n",
              "  (customer, rev_f2p_customer_id, transactions)={ edge_index=[2, 15453651] },\n",
              "  (transactions, f2p_article_id, article)={ edge_index=[2, 15453651] },\n",
              "  (article, rev_f2p_article_id, transactions)={ edge_index=[2, 15453651] }\n",
              ")"
            ]
          },
          "execution_count": 12,
          "metadata": {},
          "output_type": "execute_result"
        }
      ],
      "source": [
        "hm_data"
      ]
    },
    {
      "cell_type": "code",
      "execution_count": 13,
      "metadata": {
        "colab": {
          "base_uri": "https://localhost:8080/"
        },
        "id": "26w7mrCbl6ml",
        "outputId": "b896a09f-cdf8-45a7-ec20-f9574b58c1c4"
      },
      "outputs": [
        {
          "data": {
            "text/plain": [
              "{'edge_index': tensor([[       0,        1,        2,  ..., 15453648, 15453649, 15453650],\n",
              "        [     155,      155,      155,  ...,  1371721,  1371747,  1371960]])}"
            ]
          },
          "execution_count": 13,
          "metadata": {},
          "output_type": "execute_result"
        }
      ],
      "source": [
        "hm_data[(\"transactions\", \"f2p_customer_id\", \"customer\")]"
      ]
    },
    {
      "cell_type": "markdown",
      "metadata": {
        "id": "rONn1kunO1oW"
      },
      "source": [
        "Arrivati a questo punto abbiamo il nostro dataset sottoforma di grafo.\n",
        "\n",
        "Ora, quello che dobbiamo fare è rappresentare le relazioni presenti nel grafo in quattro file .txt:\n",
        "\n",
        "* \"transductive_train_set_link\",\n",
        "* \"inference_graph_link\",\n",
        "* \"inference_valid_set_link\",\n",
        "* \"inference_test_set_link\".\n"
      ]
    },
    {
      "cell_type": "markdown",
      "metadata": {
        "id": "UIP4TQTMgVxV"
      },
      "source": [
        "## KG .txt files creation"
      ]
    },
    {
      "cell_type": "code",
      "execution_count": 14,
      "metadata": {
        "colab": {
          "base_uri": "https://localhost:8080/"
        },
        "id": "mgjiQDungbIL",
        "outputId": "9664d9af-3f19-43b9-9005-76e0c6fafc78"
      },
      "outputs": [
        {
          "name": "stdout",
          "output_type": "stream",
          "text": [
            "The validation timestep is: 2020-09-07 00:00:00\n",
            "The test timestep is: 2020-09-14 00:00:00\n"
          ]
        }
      ],
      "source": [
        "print(f\"The validation timestep is: {hm_val_timestep}\")\n",
        "print(f\"The test timestep is: {hm_test_timestep}\")"
      ]
    },
    {
      "cell_type": "code",
      "execution_count": 15,
      "metadata": {
        "colab": {
          "base_uri": "https://localhost:8080/"
        },
        "id": "PUp0_yVppqC2",
        "outputId": "b2132abd-a4b5-4e64-a29a-97aa437989ba"
      },
      "outputs": [
        {
          "name": "stdout",
          "output_type": "stream",
          "text": [
            "<class 'pandas._libs.tslibs.timestamps.Timestamp'>\n"
          ]
        }
      ],
      "source": [
        "print(type(hm_val_timestep))"
      ]
    },
    {
      "cell_type": "markdown",
      "metadata": {
        "id": "wWkGZreVgp8t"
      },
      "source": [
        "*   Information up to September 7, 2020 can be used for training.\n",
        "*   Information up to September 14, 2020 can be used for validation.\n",
        "*   Information after September 14, 2020 can be used for testing."
      ]
    },
    {
      "cell_type": "code",
      "execution_count": 16,
      "metadata": {
        "colab": {
          "base_uri": "https://localhost:8080/"
        },
        "id": "UIf_Gjpkg3Sn",
        "outputId": "96adc3d3-5ec7-47e5-b311-6804f7b1dd60"
      },
      "outputs": [
        {
          "data": {
            "text/plain": [
              "tensor([1567814400, 1567814400, 1567814400,  ..., 1600732800, 1600732800,\n",
              "        1600732800])"
            ]
          },
          "execution_count": 16,
          "metadata": {},
          "output_type": "execute_result"
        }
      ],
      "source": [
        "# The temporal information is inside transaction, there is inside the time for each node\n",
        "hm_data[\"transactions\"].time"
      ]
    },
    {
      "cell_type": "code",
      "execution_count": 17,
      "metadata": {
        "id": "ODqwSUs9jPjC"
      },
      "outputs": [],
      "source": [
        "# prendo tutti gli edges di questo tipo presenti\n",
        "edge_index = hm_data[(\"transactions\", \"f2p_customer_id\", \"customer\")].edge_index"
      ]
    },
    {
      "cell_type": "code",
      "execution_count": 18,
      "metadata": {
        "id": "JF3KBuWLj_ap"
      },
      "outputs": [],
      "source": [
        "# Estraggo le coppie di nodi\n",
        "source_nodes = edge_index[0]  # Indici dei nodi sorgente (transactions)\n",
        "target_nodes = edge_index[1]  # Indici dei nodi target (customer)"
      ]
    },
    {
      "cell_type": "code",
      "execution_count": 19,
      "metadata": {
        "id": "d11h6zIylDA5"
      },
      "outputs": [],
      "source": [
        "# combino le coppie di indici [0, 155] vuol dire che la transazione 0 è stata fatta dal customer 155\n",
        "pairs_of_indexes = torch.stack((source_nodes, target_nodes), dim=1)"
      ]
    },
    {
      "cell_type": "code",
      "execution_count": 20,
      "metadata": {
        "colab": {
          "base_uri": "https://localhost:8080/"
        },
        "id": "JlgNr8mtlEKr",
        "outputId": "b3858b88-11fa-45c7-9333-26e6ca284b51"
      },
      "outputs": [
        {
          "data": {
            "text/plain": [
              "tensor([[       0,      155],\n",
              "        [       1,      155],\n",
              "        [       2,      155],\n",
              "        ...,\n",
              "        [15453648,  1371721],\n",
              "        [15453649,  1371747],\n",
              "        [15453650,  1371960]])"
            ]
          },
          "execution_count": 20,
          "metadata": {},
          "output_type": "execute_result"
        }
      ],
      "source": [
        "pairs_of_indexes"
      ]
    },
    {
      "cell_type": "code",
      "execution_count": 21,
      "metadata": {
        "colab": {
          "base_uri": "https://localhost:8080/"
        },
        "id": "1ov4_AfS0dMw",
        "outputId": "249e7fd0-9048-4432-ea69-ed27adae3296"
      },
      "outputs": [
        {
          "data": {
            "text/plain": [
              "15453651"
            ]
          },
          "execution_count": 21,
          "metadata": {},
          "output_type": "execute_result"
        }
      ],
      "source": [
        "len(pairs_of_indexes)"
      ]
    },
    {
      "cell_type": "code",
      "execution_count": 29,
      "metadata": {
        "id": "IqHnCFY11CEP"
      },
      "outputs": [],
      "source": [
        "import numpy as np\n",
        "import pandas as pd\n",
        "\n",
        "# Riduci pairs_of_indexes\n",
        "num_pairs = pairs_of_indexes.shape[0]\n",
        "num_to_keep = num_pairs // 4500  # circa 3440 elementi -> 13760 elementi in totale tra train e inference (4 relazioni)\n",
        "\n",
        "# Seleziona casualmente\n",
        "random_indices = np.random.choice(num_pairs, num_to_keep, replace=False)"
      ]
    },
    {
      "cell_type": "code",
      "execution_count": 30,
      "metadata": {
        "colab": {
          "base_uri": "https://localhost:8080/"
        },
        "id": "30kklV0yNpe4",
        "outputId": "523c4150-2b85-447c-aac4-c260f8675f39"
      },
      "outputs": [
        {
          "name": "stdout",
          "output_type": "stream",
          "text": [
            "3434\n"
          ]
        }
      ],
      "source": [
        "reduced_pairs = pairs_of_indexes[random_indices]\n",
        "print(reduced_pairs.shape[0])"
      ]
    },
    {
      "cell_type": "code",
      "execution_count": 31,
      "metadata": {
        "id": "EObIxxtDangP"
      },
      "outputs": [],
      "source": [
        "def train_inference_splitting(pairs):\n",
        "\n",
        "    final_pairs_train = []\n",
        "    final_pairs_val = []\n",
        "    final_pairs_test = []\n",
        "\n",
        "    # Itera attraverso le coppie e i timestamp\n",
        "    for i in range(pairs.shape[0]):\n",
        "        source_node = pairs[i, 0].item()\n",
        "        target_node = pairs[i, 1].item()\n",
        "        transaction_time_int = hm_data[\"transactions\"].time[source_node].item()  # Ottieni il timestamp\n",
        "\n",
        "        # Converti il timestamp intero in pandas.Timestamp\n",
        "        transaction_time = pd.to_datetime(transaction_time_int, unit='s')\n",
        "\n",
        "        # Divido gli edges in train e inference in base al Timestamp\n",
        "        if transaction_time < hm_val_timestep:\n",
        "            final_pairs_train.append((source_node, target_node))\n",
        "        elif hm_val_timestep <= transaction_time and transaction_time < hm_test_timestep:\n",
        "            final_pairs_val.append((source_node, target_node))\n",
        "        else:\n",
        "            final_pairs_test.append((source_node, target_node))\n",
        "\n",
        "    return final_pairs_train, final_pairs_val, final_pairs_test"
      ]
    },
    {
      "cell_type": "code",
      "execution_count": 32,
      "metadata": {
        "id": "KqItdeTai69n"
      },
      "outputs": [],
      "source": [
        "train_pairs, val_pairs, test_pairs = train_inference_splitting(reduced_pairs)"
      ]
    },
    {
      "cell_type": "code",
      "execution_count": 33,
      "metadata": {
        "colab": {
          "base_uri": "https://localhost:8080/"
        },
        "id": "KQ2U8AveoTar",
        "outputId": "defe19c2-7fb0-49a8-e310-e9fe9c0bf758"
      },
      "outputs": [
        {
          "name": "stdout",
          "output_type": "stream",
          "text": [
            "3292\n",
            "62\n",
            "80\n"
          ]
        }
      ],
      "source": [
        "print(len(train_pairs))\n",
        "print(len(val_pairs))\n",
        "print(len(test_pairs))"
      ]
    },
    {
      "cell_type": "code",
      "execution_count": 43,
      "metadata": {
        "id": "7giSjh9xR0G6"
      },
      "outputs": [],
      "source": [
        "# In dataset di msg dev'essere costituito da tutti gli elementi presenti in test e val, ma non è vero il viceversa\n",
        "# Quindi, procedo eliminando un certo numero di elementi da val_pairs e da test_pairs\n",
        "\n",
        "validation_count = (4 * len(val_pairs)) // 5 # numero di elementi per edge che voglio nel validation set\n",
        "test_count = (4 * len(test_pairs)) // 5 # numero di elementi per edge che voglio nel test set\n",
        "\n",
        "\n",
        "validation_indices = np.random.choice(len(val_pairs), validation_count, replace=False)\n",
        "test_indices = np.random.choice(len(test_pairs), test_count, replace=False)"
      ]
    },
    {
      "cell_type": "code",
      "execution_count": 44,
      "metadata": {
        "id": "1A-J7wuzUT0B"
      },
      "outputs": [],
      "source": [
        "red_val_pairs = [val_pairs[i] for i in validation_indices]\n",
        "red_test_pairs = [test_pairs[i] for i in test_indices]"
      ]
    },
    {
      "cell_type": "code",
      "execution_count": 45,
      "metadata": {
        "colab": {
          "base_uri": "https://localhost:8080/"
        },
        "id": "3-lTqvLaUAcf",
        "outputId": "45ef87cd-a005-43c4-9ac9-ae3a441b07b0"
      },
      "outputs": [
        {
          "name": "stdout",
          "output_type": "stream",
          "text": [
            "49\n",
            "64\n"
          ]
        }
      ],
      "source": [
        "print(len(red_val_pairs))\n",
        "print(len(red_test_pairs))"
      ]
    },
    {
      "cell_type": "code",
      "execution_count": null,
      "metadata": {
        "id": "N8HD__RRn5le"
      },
      "outputs": [],
      "source": [
        "\timport os\n",
        "\n",
        "  save_dir = f\"./{args.data_tgt}/\"\n",
        "\tos.makedirs(save_dir, exist_ok=True)\n",
        "\twrite(save_dir + 'train.txt', train)\n",
        "\twrite(save_dir + 'kg_inference.txt', test)"
      ]
    },
    {
      "cell_type": "markdown",
      "metadata": {
        "id": "16_JLwgNAOs1"
      },
      "source": [
        "# ULTRA"
      ]
    },
    {
      "cell_type": "code",
      "execution_count": null,
      "metadata": {
        "id": "8kKxT4m3AP__"
      },
      "outputs": [],
      "source": [
        "!pip install torch==2.1.0 --index-url https://download.pytorch.org/whl/cu118\n",
        "!pip install torch-scatter==2.1.2 torch-sparse==0.6.18 torch-geometric==2.4.0 -f https://data.pyg.org/whl/torch-2.1.0+cu118.html\n",
        "!pip install ninja easydict pyyaml"
      ]
    },
    {
      "cell_type": "code",
      "execution_count": null,
      "metadata": {
        "id": "n8Q57Q6dAQvK"
      },
      "outputs": [],
      "source": [
        "!git clone https://github.com/DeepGraphLearning/ULTRA.git"
      ]
    },
    {
      "cell_type": "code",
      "execution_count": null,
      "metadata": {
        "id": "Jq3KX-1TAVnu"
      },
      "outputs": [],
      "source": [
        "!python ULTRA/script/run.py -c ULTRA/config/inductive/inference.yaml --dataset FB15k237Inductive --version v1 --epochs 0 --bpe null --gpus [0] --ckpt /content/ULTRA/ckpts/ultra_4g.pth"
      ]
    }
  ],
  "metadata": {
    "accelerator": "GPU",
    "colab": {
      "gpuType": "T4",
      "provenance": []
    },
    "kernelspec": {
      "display_name": "Python 3",
      "name": "python3"
    },
    "language_info": {
      "name": "python"
    },
    "widgets": {
      "application/vnd.jupyter.widget-state+json": {
        "0621f9d4739c43989a6638d0e5bd222f": {
          "model_module": "@jupyter-widgets/base",
          "model_module_version": "1.2.0",
          "model_name": "LayoutModel",
          "state": {
            "_model_module": "@jupyter-widgets/base",
            "_model_module_version": "1.2.0",
            "_model_name": "LayoutModel",
            "_view_count": null,
            "_view_module": "@jupyter-widgets/base",
            "_view_module_version": "1.2.0",
            "_view_name": "LayoutView",
            "align_content": null,
            "align_items": null,
            "align_self": null,
            "border": null,
            "bottom": null,
            "display": null,
            "flex": null,
            "flex_flow": null,
            "grid_area": null,
            "grid_auto_columns": null,
            "grid_auto_flow": null,
            "grid_auto_rows": null,
            "grid_column": null,
            "grid_gap": null,
            "grid_row": null,
            "grid_template_areas": null,
            "grid_template_columns": null,
            "grid_template_rows": null,
            "height": null,
            "justify_content": null,
            "justify_items": null,
            "left": null,
            "margin": null,
            "max_height": null,
            "max_width": null,
            "min_height": null,
            "min_width": null,
            "object_fit": null,
            "object_position": null,
            "order": null,
            "overflow": null,
            "overflow_x": null,
            "overflow_y": null,
            "padding": null,
            "right": null,
            "top": null,
            "visibility": null,
            "width": null
          }
        },
        "0ff1e91551c74749a67fa65c9f5cae82": {
          "model_module": "@jupyter-widgets/base",
          "model_module_version": "1.2.0",
          "model_name": "LayoutModel",
          "state": {
            "_model_module": "@jupyter-widgets/base",
            "_model_module_version": "1.2.0",
            "_model_name": "LayoutModel",
            "_view_count": null,
            "_view_module": "@jupyter-widgets/base",
            "_view_module_version": "1.2.0",
            "_view_name": "LayoutView",
            "align_content": null,
            "align_items": null,
            "align_self": null,
            "border": null,
            "bottom": null,
            "display": null,
            "flex": null,
            "flex_flow": null,
            "grid_area": null,
            "grid_auto_columns": null,
            "grid_auto_flow": null,
            "grid_auto_rows": null,
            "grid_column": null,
            "grid_gap": null,
            "grid_row": null,
            "grid_template_areas": null,
            "grid_template_columns": null,
            "grid_template_rows": null,
            "height": null,
            "justify_content": null,
            "justify_items": null,
            "left": null,
            "margin": null,
            "max_height": null,
            "max_width": null,
            "min_height": null,
            "min_width": null,
            "object_fit": null,
            "object_position": null,
            "order": null,
            "overflow": null,
            "overflow_x": null,
            "overflow_y": null,
            "padding": null,
            "right": null,
            "top": null,
            "visibility": null,
            "width": null
          }
        },
        "0ffdcceb0ec341868b0930f2f3cf87d9": {
          "model_module": "@jupyter-widgets/controls",
          "model_module_version": "1.5.0",
          "model_name": "FloatProgressModel",
          "state": {
            "_dom_classes": [],
            "_model_module": "@jupyter-widgets/controls",
            "_model_module_version": "1.5.0",
            "_model_name": "FloatProgressModel",
            "_view_count": null,
            "_view_module": "@jupyter-widgets/controls",
            "_view_module_version": "1.5.0",
            "_view_name": "ProgressView",
            "bar_style": "success",
            "description": "",
            "description_tooltip": null,
            "layout": "IPY_MODEL_77e489b5e38f47c48b3fc1e7cff79f7e",
            "max": 480002027,
            "min": 0,
            "orientation": "horizontal",
            "style": "IPY_MODEL_e7766a9bf84c4e5093579469f0aef6c1",
            "value": 480002027
          }
        },
        "115e85691ffb41f092282d9283231ec9": {
          "model_module": "@jupyter-widgets/controls",
          "model_module_version": "1.5.0",
          "model_name": "DescriptionStyleModel",
          "state": {
            "_model_module": "@jupyter-widgets/controls",
            "_model_module_version": "1.5.0",
            "_model_name": "DescriptionStyleModel",
            "_view_count": null,
            "_view_module": "@jupyter-widgets/base",
            "_view_module_version": "1.2.0",
            "_view_name": "StyleView",
            "description_width": ""
          }
        },
        "150833bb62254b189af51b7832c33baa": {
          "model_module": "@jupyter-widgets/base",
          "model_module_version": "1.2.0",
          "model_name": "LayoutModel",
          "state": {
            "_model_module": "@jupyter-widgets/base",
            "_model_module_version": "1.2.0",
            "_model_name": "LayoutModel",
            "_view_count": null,
            "_view_module": "@jupyter-widgets/base",
            "_view_module_version": "1.2.0",
            "_view_name": "LayoutView",
            "align_content": null,
            "align_items": null,
            "align_self": null,
            "border": null,
            "bottom": null,
            "display": null,
            "flex": null,
            "flex_flow": null,
            "grid_area": null,
            "grid_auto_columns": null,
            "grid_auto_flow": null,
            "grid_auto_rows": null,
            "grid_column": null,
            "grid_gap": null,
            "grid_row": null,
            "grid_template_areas": null,
            "grid_template_columns": null,
            "grid_template_rows": null,
            "height": null,
            "justify_content": null,
            "justify_items": null,
            "left": null,
            "margin": null,
            "max_height": null,
            "max_width": null,
            "min_height": null,
            "min_width": null,
            "object_fit": null,
            "object_position": null,
            "order": null,
            "overflow": null,
            "overflow_x": null,
            "overflow_y": null,
            "padding": null,
            "right": null,
            "top": null,
            "visibility": null,
            "width": null
          }
        },
        "18fb0ca3a6fc47499021619d65951e20": {
          "model_module": "@jupyter-widgets/base",
          "model_module_version": "1.2.0",
          "model_name": "LayoutModel",
          "state": {
            "_model_module": "@jupyter-widgets/base",
            "_model_module_version": "1.2.0",
            "_model_name": "LayoutModel",
            "_view_count": null,
            "_view_module": "@jupyter-widgets/base",
            "_view_module_version": "1.2.0",
            "_view_name": "LayoutView",
            "align_content": null,
            "align_items": null,
            "align_self": null,
            "border": null,
            "bottom": null,
            "display": null,
            "flex": null,
            "flex_flow": null,
            "grid_area": null,
            "grid_auto_columns": null,
            "grid_auto_flow": null,
            "grid_auto_rows": null,
            "grid_column": null,
            "grid_gap": null,
            "grid_row": null,
            "grid_template_areas": null,
            "grid_template_columns": null,
            "grid_template_rows": null,
            "height": null,
            "justify_content": null,
            "justify_items": null,
            "left": null,
            "margin": null,
            "max_height": null,
            "max_width": null,
            "min_height": null,
            "min_width": null,
            "object_fit": null,
            "object_position": null,
            "order": null,
            "overflow": null,
            "overflow_x": null,
            "overflow_y": null,
            "padding": null,
            "right": null,
            "top": null,
            "visibility": null,
            "width": null
          }
        },
        "1a52f87733f246dc917e347c580fd83b": {
          "model_module": "@jupyter-widgets/controls",
          "model_module_version": "1.5.0",
          "model_name": "HTMLModel",
          "state": {
            "_dom_classes": [],
            "_model_module": "@jupyter-widgets/controls",
            "_model_module_version": "1.5.0",
            "_model_name": "HTMLModel",
            "_view_count": null,
            "_view_module": "@jupyter-widgets/controls",
            "_view_module_version": "1.5.0",
            "_view_name": "HTMLView",
            "description": "",
            "description_tooltip": null,
            "layout": "IPY_MODEL_35b1073ffc2d436f80763f83e830056b",
            "placeholder": "​",
            "style": "IPY_MODEL_962b312ef4434c92bbe74aa5e082de66",
            "value": " 4.61M/4.61M [00:00&lt;00:00, 16.3MB/s]"
          }
        },
        "1d7014826bbd4369aea408c858aeb3c9": {
          "model_module": "@jupyter-widgets/base",
          "model_module_version": "1.2.0",
          "model_name": "LayoutModel",
          "state": {
            "_model_module": "@jupyter-widgets/base",
            "_model_module_version": "1.2.0",
            "_model_name": "LayoutModel",
            "_view_count": null,
            "_view_module": "@jupyter-widgets/base",
            "_view_module_version": "1.2.0",
            "_view_name": "LayoutView",
            "align_content": null,
            "align_items": null,
            "align_self": null,
            "border": null,
            "bottom": null,
            "display": null,
            "flex": null,
            "flex_flow": null,
            "grid_area": null,
            "grid_auto_columns": null,
            "grid_auto_flow": null,
            "grid_auto_rows": null,
            "grid_column": null,
            "grid_gap": null,
            "grid_row": null,
            "grid_template_areas": null,
            "grid_template_columns": null,
            "grid_template_rows": null,
            "height": null,
            "justify_content": null,
            "justify_items": null,
            "left": null,
            "margin": null,
            "max_height": null,
            "max_width": null,
            "min_height": null,
            "min_width": null,
            "object_fit": null,
            "object_position": null,
            "order": null,
            "overflow": null,
            "overflow_x": null,
            "overflow_y": null,
            "padding": null,
            "right": null,
            "top": null,
            "visibility": null,
            "width": null
          }
        },
        "1dbf6ac716f4455081c7c49a4cc9bb72": {
          "model_module": "@jupyter-widgets/base",
          "model_module_version": "1.2.0",
          "model_name": "LayoutModel",
          "state": {
            "_model_module": "@jupyter-widgets/base",
            "_model_module_version": "1.2.0",
            "_model_name": "LayoutModel",
            "_view_count": null,
            "_view_module": "@jupyter-widgets/base",
            "_view_module_version": "1.2.0",
            "_view_name": "LayoutView",
            "align_content": null,
            "align_items": null,
            "align_self": null,
            "border": null,
            "bottom": null,
            "display": null,
            "flex": null,
            "flex_flow": null,
            "grid_area": null,
            "grid_auto_columns": null,
            "grid_auto_flow": null,
            "grid_auto_rows": null,
            "grid_column": null,
            "grid_gap": null,
            "grid_row": null,
            "grid_template_areas": null,
            "grid_template_columns": null,
            "grid_template_rows": null,
            "height": null,
            "justify_content": null,
            "justify_items": null,
            "left": null,
            "margin": null,
            "max_height": null,
            "max_width": null,
            "min_height": null,
            "min_width": null,
            "object_fit": null,
            "object_position": null,
            "order": null,
            "overflow": null,
            "overflow_x": null,
            "overflow_y": null,
            "padding": null,
            "right": null,
            "top": null,
            "visibility": null,
            "width": null
          }
        },
        "20e379f915934b85b2a4754357261411": {
          "model_module": "@jupyter-widgets/controls",
          "model_module_version": "1.5.0",
          "model_name": "HTMLModel",
          "state": {
            "_dom_classes": [],
            "_model_module": "@jupyter-widgets/controls",
            "_model_module_version": "1.5.0",
            "_model_name": "HTMLModel",
            "_view_count": null,
            "_view_module": "@jupyter-widgets/controls",
            "_view_module_version": "1.5.0",
            "_view_name": "HTMLView",
            "description": "",
            "description_tooltip": null,
            "layout": "IPY_MODEL_da5d5ead0ca4412c954b1dcf3f746dc0",
            "placeholder": "​",
            "style": "IPY_MODEL_aa46857f7a7b4ca2b780dbc521a675ca",
            "value": " 480M/480M [00:04&lt;00:00, 107MB/s]"
          }
        },
        "216ebaf206a04d4c9e6e974429d3a4d0": {
          "model_module": "@jupyter-widgets/base",
          "model_module_version": "1.2.0",
          "model_name": "LayoutModel",
          "state": {
            "_model_module": "@jupyter-widgets/base",
            "_model_module_version": "1.2.0",
            "_model_name": "LayoutModel",
            "_view_count": null,
            "_view_module": "@jupyter-widgets/base",
            "_view_module_version": "1.2.0",
            "_view_name": "LayoutView",
            "align_content": null,
            "align_items": null,
            "align_self": null,
            "border": null,
            "bottom": null,
            "display": null,
            "flex": null,
            "flex_flow": null,
            "grid_area": null,
            "grid_auto_columns": null,
            "grid_auto_flow": null,
            "grid_auto_rows": null,
            "grid_column": null,
            "grid_gap": null,
            "grid_row": null,
            "grid_template_areas": null,
            "grid_template_columns": null,
            "grid_template_rows": null,
            "height": null,
            "justify_content": null,
            "justify_items": null,
            "left": null,
            "margin": null,
            "max_height": null,
            "max_width": null,
            "min_height": null,
            "min_width": null,
            "object_fit": null,
            "object_position": null,
            "order": null,
            "overflow": null,
            "overflow_x": null,
            "overflow_y": null,
            "padding": null,
            "right": null,
            "top": null,
            "visibility": null,
            "width": null
          }
        },
        "28adbf2cf9a64a95890c1b890a5095cf": {
          "model_module": "@jupyter-widgets/controls",
          "model_module_version": "1.5.0",
          "model_name": "ProgressStyleModel",
          "state": {
            "_model_module": "@jupyter-widgets/controls",
            "_model_module_version": "1.5.0",
            "_model_name": "ProgressStyleModel",
            "_view_count": null,
            "_view_module": "@jupyter-widgets/base",
            "_view_module_version": "1.2.0",
            "_view_name": "StyleView",
            "bar_color": null,
            "description_width": ""
          }
        },
        "2c25b32eb64c450a9f185f3bc75d0395": {
          "model_module": "@jupyter-widgets/base",
          "model_module_version": "1.2.0",
          "model_name": "LayoutModel",
          "state": {
            "_model_module": "@jupyter-widgets/base",
            "_model_module_version": "1.2.0",
            "_model_name": "LayoutModel",
            "_view_count": null,
            "_view_module": "@jupyter-widgets/base",
            "_view_module_version": "1.2.0",
            "_view_name": "LayoutView",
            "align_content": null,
            "align_items": null,
            "align_self": null,
            "border": null,
            "bottom": null,
            "display": null,
            "flex": null,
            "flex_flow": null,
            "grid_area": null,
            "grid_auto_columns": null,
            "grid_auto_flow": null,
            "grid_auto_rows": null,
            "grid_column": null,
            "grid_gap": null,
            "grid_row": null,
            "grid_template_areas": null,
            "grid_template_columns": null,
            "grid_template_rows": null,
            "height": null,
            "justify_content": null,
            "justify_items": null,
            "left": null,
            "margin": null,
            "max_height": null,
            "max_width": null,
            "min_height": null,
            "min_width": null,
            "object_fit": null,
            "object_position": null,
            "order": null,
            "overflow": null,
            "overflow_x": null,
            "overflow_y": null,
            "padding": null,
            "right": null,
            "top": null,
            "visibility": null,
            "width": null
          }
        },
        "2dca1210c1014831b1858ad36f3ee0af": {
          "model_module": "@jupyter-widgets/controls",
          "model_module_version": "1.5.0",
          "model_name": "DescriptionStyleModel",
          "state": {
            "_model_module": "@jupyter-widgets/controls",
            "_model_module_version": "1.5.0",
            "_model_name": "DescriptionStyleModel",
            "_view_count": null,
            "_view_module": "@jupyter-widgets/base",
            "_view_module_version": "1.2.0",
            "_view_name": "StyleView",
            "description_width": ""
          }
        },
        "2ebc1748555c4bf5801be34b3eff1e22": {
          "model_module": "@jupyter-widgets/base",
          "model_module_version": "1.2.0",
          "model_name": "LayoutModel",
          "state": {
            "_model_module": "@jupyter-widgets/base",
            "_model_module_version": "1.2.0",
            "_model_name": "LayoutModel",
            "_view_count": null,
            "_view_module": "@jupyter-widgets/base",
            "_view_module_version": "1.2.0",
            "_view_name": "LayoutView",
            "align_content": null,
            "align_items": null,
            "align_self": null,
            "border": null,
            "bottom": null,
            "display": null,
            "flex": null,
            "flex_flow": null,
            "grid_area": null,
            "grid_auto_columns": null,
            "grid_auto_flow": null,
            "grid_auto_rows": null,
            "grid_column": null,
            "grid_gap": null,
            "grid_row": null,
            "grid_template_areas": null,
            "grid_template_columns": null,
            "grid_template_rows": null,
            "height": null,
            "justify_content": null,
            "justify_items": null,
            "left": null,
            "margin": null,
            "max_height": null,
            "max_width": null,
            "min_height": null,
            "min_width": null,
            "object_fit": null,
            "object_position": null,
            "order": null,
            "overflow": null,
            "overflow_x": null,
            "overflow_y": null,
            "padding": null,
            "right": null,
            "top": null,
            "visibility": null,
            "width": null
          }
        },
        "31cbf8b8cab045d38517f5e990830a56": {
          "model_module": "@jupyter-widgets/controls",
          "model_module_version": "1.5.0",
          "model_name": "DescriptionStyleModel",
          "state": {
            "_model_module": "@jupyter-widgets/controls",
            "_model_module_version": "1.5.0",
            "_model_name": "DescriptionStyleModel",
            "_view_count": null,
            "_view_module": "@jupyter-widgets/base",
            "_view_module_version": "1.2.0",
            "_view_name": "StyleView",
            "description_width": ""
          }
        },
        "35b1073ffc2d436f80763f83e830056b": {
          "model_module": "@jupyter-widgets/base",
          "model_module_version": "1.2.0",
          "model_name": "LayoutModel",
          "state": {
            "_model_module": "@jupyter-widgets/base",
            "_model_module_version": "1.2.0",
            "_model_name": "LayoutModel",
            "_view_count": null,
            "_view_module": "@jupyter-widgets/base",
            "_view_module_version": "1.2.0",
            "_view_name": "LayoutView",
            "align_content": null,
            "align_items": null,
            "align_self": null,
            "border": null,
            "bottom": null,
            "display": null,
            "flex": null,
            "flex_flow": null,
            "grid_area": null,
            "grid_auto_columns": null,
            "grid_auto_flow": null,
            "grid_auto_rows": null,
            "grid_column": null,
            "grid_gap": null,
            "grid_row": null,
            "grid_template_areas": null,
            "grid_template_columns": null,
            "grid_template_rows": null,
            "height": null,
            "justify_content": null,
            "justify_items": null,
            "left": null,
            "margin": null,
            "max_height": null,
            "max_width": null,
            "min_height": null,
            "min_width": null,
            "object_fit": null,
            "object_position": null,
            "order": null,
            "overflow": null,
            "overflow_x": null,
            "overflow_y": null,
            "padding": null,
            "right": null,
            "top": null,
            "visibility": null,
            "width": null
          }
        },
        "372fa50321154fa7a44970e6720828cb": {
          "model_module": "@jupyter-widgets/controls",
          "model_module_version": "1.5.0",
          "model_name": "HBoxModel",
          "state": {
            "_dom_classes": [],
            "_model_module": "@jupyter-widgets/controls",
            "_model_module_version": "1.5.0",
            "_model_name": "HBoxModel",
            "_view_count": null,
            "_view_module": "@jupyter-widgets/controls",
            "_view_module_version": "1.5.0",
            "_view_name": "HBoxView",
            "box_style": "",
            "children": [
              "IPY_MODEL_f02e3ec3e15847db97150610c7a09f81",
              "IPY_MODEL_56b29c20214843ca8d24bba5a4d2c3a6",
              "IPY_MODEL_616b8778c6a548c2a659990bf7ec13d8"
            ],
            "layout": "IPY_MODEL_0ff1e91551c74749a67fa65c9f5cae82"
          }
        },
        "41539403785d4ecdba2552ebb1634d90": {
          "model_module": "@jupyter-widgets/controls",
          "model_module_version": "1.5.0",
          "model_name": "ProgressStyleModel",
          "state": {
            "_model_module": "@jupyter-widgets/controls",
            "_model_module_version": "1.5.0",
            "_model_name": "ProgressStyleModel",
            "_view_count": null,
            "_view_module": "@jupyter-widgets/base",
            "_view_module_version": "1.2.0",
            "_view_name": "StyleView",
            "bar_color": null,
            "description_width": ""
          }
        },
        "42fb595a96f14ad99690086c85c497d0": {
          "model_module": "@jupyter-widgets/base",
          "model_module_version": "1.2.0",
          "model_name": "LayoutModel",
          "state": {
            "_model_module": "@jupyter-widgets/base",
            "_model_module_version": "1.2.0",
            "_model_name": "LayoutModel",
            "_view_count": null,
            "_view_module": "@jupyter-widgets/base",
            "_view_module_version": "1.2.0",
            "_view_name": "LayoutView",
            "align_content": null,
            "align_items": null,
            "align_self": null,
            "border": null,
            "bottom": null,
            "display": null,
            "flex": null,
            "flex_flow": null,
            "grid_area": null,
            "grid_auto_columns": null,
            "grid_auto_flow": null,
            "grid_auto_rows": null,
            "grid_column": null,
            "grid_gap": null,
            "grid_row": null,
            "grid_template_areas": null,
            "grid_template_columns": null,
            "grid_template_rows": null,
            "height": null,
            "justify_content": null,
            "justify_items": null,
            "left": null,
            "margin": null,
            "max_height": null,
            "max_width": null,
            "min_height": null,
            "min_width": null,
            "object_fit": null,
            "object_position": null,
            "order": null,
            "overflow": null,
            "overflow_x": null,
            "overflow_y": null,
            "padding": null,
            "right": null,
            "top": null,
            "visibility": null,
            "width": null
          }
        },
        "44d90edbfd5843dba15f7c17e36daa33": {
          "model_module": "@jupyter-widgets/controls",
          "model_module_version": "1.5.0",
          "model_name": "HBoxModel",
          "state": {
            "_dom_classes": [],
            "_model_module": "@jupyter-widgets/controls",
            "_model_module_version": "1.5.0",
            "_model_name": "HBoxModel",
            "_view_count": null,
            "_view_module": "@jupyter-widgets/controls",
            "_view_module_version": "1.5.0",
            "_view_name": "HBoxView",
            "box_style": "",
            "children": [
              "IPY_MODEL_ab07cd0f7ce74ca8ad8222d4c9afc8a0",
              "IPY_MODEL_0ffdcceb0ec341868b0930f2f3cf87d9",
              "IPY_MODEL_20e379f915934b85b2a4754357261411"
            ],
            "layout": "IPY_MODEL_7c0fcef2ed7246c580c53e2b88c8c0f6"
          }
        },
        "4530a319fe10428988253799c8f92538": {
          "model_module": "@jupyter-widgets/controls",
          "model_module_version": "1.5.0",
          "model_name": "ProgressStyleModel",
          "state": {
            "_model_module": "@jupyter-widgets/controls",
            "_model_module_version": "1.5.0",
            "_model_name": "ProgressStyleModel",
            "_view_count": null,
            "_view_module": "@jupyter-widgets/base",
            "_view_module_version": "1.2.0",
            "_view_name": "StyleView",
            "bar_color": null,
            "description_width": ""
          }
        },
        "4c696878bdc54f33abd1ad970d9bb934": {
          "model_module": "@jupyter-widgets/controls",
          "model_module_version": "1.5.0",
          "model_name": "DescriptionStyleModel",
          "state": {
            "_model_module": "@jupyter-widgets/controls",
            "_model_module_version": "1.5.0",
            "_model_name": "DescriptionStyleModel",
            "_view_count": null,
            "_view_module": "@jupyter-widgets/base",
            "_view_module_version": "1.2.0",
            "_view_name": "StyleView",
            "description_width": ""
          }
        },
        "505d5de548674923947792596bb8d5f9": {
          "model_module": "@jupyter-widgets/controls",
          "model_module_version": "1.5.0",
          "model_name": "HTMLModel",
          "state": {
            "_dom_classes": [],
            "_model_module": "@jupyter-widgets/controls",
            "_model_module_version": "1.5.0",
            "_model_name": "HTMLModel",
            "_view_count": null,
            "_view_module": "@jupyter-widgets/controls",
            "_view_module_version": "1.5.0",
            "_view_name": "HTMLView",
            "description": "",
            "description_tooltip": null,
            "layout": "IPY_MODEL_18fb0ca3a6fc47499021619d65951e20",
            "placeholder": "​",
            "style": "IPY_MODEL_115e85691ffb41f092282d9283231ec9",
            "value": "1_Pooling/config.json: 100%"
          }
        },
        "50b10808f8ca42a0bb820be0c827913a": {
          "model_module": "@jupyter-widgets/controls",
          "model_module_version": "1.5.0",
          "model_name": "HTMLModel",
          "state": {
            "_dom_classes": [],
            "_model_module": "@jupyter-widgets/controls",
            "_model_module_version": "1.5.0",
            "_model_name": "HTMLModel",
            "_view_count": null,
            "_view_module": "@jupyter-widgets/controls",
            "_view_module_version": "1.5.0",
            "_view_name": "HTMLView",
            "description": "",
            "description_tooltip": null,
            "layout": "IPY_MODEL_a3e34122d37445fd96e7101c8aa1d39e",
            "placeholder": "​",
            "style": "IPY_MODEL_c29193ff931244af8c27b586bac281c8",
            "value": " 122/122 [00:00&lt;00:00, 8.39kB/s]"
          }
        },
        "51542c1a1a1041d0afc0f322103c5a5f": {
          "model_module": "@jupyter-widgets/controls",
          "model_module_version": "1.5.0",
          "model_name": "DescriptionStyleModel",
          "state": {
            "_model_module": "@jupyter-widgets/controls",
            "_model_module_version": "1.5.0",
            "_model_name": "DescriptionStyleModel",
            "_view_count": null,
            "_view_module": "@jupyter-widgets/base",
            "_view_module_version": "1.2.0",
            "_view_name": "StyleView",
            "description_width": ""
          }
        },
        "56165b615d2e4a0b976148152a32c8fd": {
          "model_module": "@jupyter-widgets/controls",
          "model_module_version": "1.5.0",
          "model_name": "HBoxModel",
          "state": {
            "_dom_classes": [],
            "_model_module": "@jupyter-widgets/controls",
            "_model_module_version": "1.5.0",
            "_model_name": "HBoxModel",
            "_view_count": null,
            "_view_module": "@jupyter-widgets/controls",
            "_view_module_version": "1.5.0",
            "_view_name": "HBoxView",
            "box_style": "",
            "children": [
              "IPY_MODEL_7fcc2c2aeeea4cc48d65df53febd5a08",
              "IPY_MODEL_b1b2826032c241b38e6476826676c53c",
              "IPY_MODEL_1a52f87733f246dc917e347c580fd83b"
            ],
            "layout": "IPY_MODEL_150833bb62254b189af51b7832c33baa"
          }
        },
        "56b29c20214843ca8d24bba5a4d2c3a6": {
          "model_module": "@jupyter-widgets/controls",
          "model_module_version": "1.5.0",
          "model_name": "FloatProgressModel",
          "state": {
            "_dom_classes": [],
            "_model_module": "@jupyter-widgets/controls",
            "_model_module_version": "1.5.0",
            "_model_name": "FloatProgressModel",
            "_view_count": null,
            "_view_module": "@jupyter-widgets/controls",
            "_view_module_version": "1.5.0",
            "_view_name": "ProgressView",
            "bar_style": "success",
            "description": "",
            "description_tooltip": null,
            "layout": "IPY_MODEL_42fb595a96f14ad99690086c85c497d0",
            "max": 248,
            "min": 0,
            "orientation": "horizontal",
            "style": "IPY_MODEL_9c7b96de2a2943a084fe746c6e390d75",
            "value": 248
          }
        },
        "580fa4936083404ab0389247274a3f4b": {
          "model_module": "@jupyter-widgets/base",
          "model_module_version": "1.2.0",
          "model_name": "LayoutModel",
          "state": {
            "_model_module": "@jupyter-widgets/base",
            "_model_module_version": "1.2.0",
            "_model_name": "LayoutModel",
            "_view_count": null,
            "_view_module": "@jupyter-widgets/base",
            "_view_module_version": "1.2.0",
            "_view_name": "LayoutView",
            "align_content": null,
            "align_items": null,
            "align_self": null,
            "border": null,
            "bottom": null,
            "display": null,
            "flex": null,
            "flex_flow": null,
            "grid_area": null,
            "grid_auto_columns": null,
            "grid_auto_flow": null,
            "grid_auto_rows": null,
            "grid_column": null,
            "grid_gap": null,
            "grid_row": null,
            "grid_template_areas": null,
            "grid_template_columns": null,
            "grid_template_rows": null,
            "height": null,
            "justify_content": null,
            "justify_items": null,
            "left": null,
            "margin": null,
            "max_height": null,
            "max_width": null,
            "min_height": null,
            "min_width": null,
            "object_fit": null,
            "object_position": null,
            "order": null,
            "overflow": null,
            "overflow_x": null,
            "overflow_y": null,
            "padding": null,
            "right": null,
            "top": null,
            "visibility": null,
            "width": null
          }
        },
        "5b9cbe003f204c22a7a293f983749199": {
          "model_module": "@jupyter-widgets/base",
          "model_module_version": "1.2.0",
          "model_name": "LayoutModel",
          "state": {
            "_model_module": "@jupyter-widgets/base",
            "_model_module_version": "1.2.0",
            "_model_name": "LayoutModel",
            "_view_count": null,
            "_view_module": "@jupyter-widgets/base",
            "_view_module_version": "1.2.0",
            "_view_name": "LayoutView",
            "align_content": null,
            "align_items": null,
            "align_self": null,
            "border": null,
            "bottom": null,
            "display": null,
            "flex": null,
            "flex_flow": null,
            "grid_area": null,
            "grid_auto_columns": null,
            "grid_auto_flow": null,
            "grid_auto_rows": null,
            "grid_column": null,
            "grid_gap": null,
            "grid_row": null,
            "grid_template_areas": null,
            "grid_template_columns": null,
            "grid_template_rows": null,
            "height": null,
            "justify_content": null,
            "justify_items": null,
            "left": null,
            "margin": null,
            "max_height": null,
            "max_width": null,
            "min_height": null,
            "min_width": null,
            "object_fit": null,
            "object_position": null,
            "order": null,
            "overflow": null,
            "overflow_x": null,
            "overflow_y": null,
            "padding": null,
            "right": null,
            "top": null,
            "visibility": null,
            "width": null
          }
        },
        "5ea989dfea414dc2ae82621bb43bc292": {
          "model_module": "@jupyter-widgets/base",
          "model_module_version": "1.2.0",
          "model_name": "LayoutModel",
          "state": {
            "_model_module": "@jupyter-widgets/base",
            "_model_module_version": "1.2.0",
            "_model_name": "LayoutModel",
            "_view_count": null,
            "_view_module": "@jupyter-widgets/base",
            "_view_module_version": "1.2.0",
            "_view_name": "LayoutView",
            "align_content": null,
            "align_items": null,
            "align_self": null,
            "border": null,
            "bottom": null,
            "display": null,
            "flex": null,
            "flex_flow": null,
            "grid_area": null,
            "grid_auto_columns": null,
            "grid_auto_flow": null,
            "grid_auto_rows": null,
            "grid_column": null,
            "grid_gap": null,
            "grid_row": null,
            "grid_template_areas": null,
            "grid_template_columns": null,
            "grid_template_rows": null,
            "height": null,
            "justify_content": null,
            "justify_items": null,
            "left": null,
            "margin": null,
            "max_height": null,
            "max_width": null,
            "min_height": null,
            "min_width": null,
            "object_fit": null,
            "object_position": null,
            "order": null,
            "overflow": null,
            "overflow_x": null,
            "overflow_y": null,
            "padding": null,
            "right": null,
            "top": null,
            "visibility": null,
            "width": null
          }
        },
        "616b8778c6a548c2a659990bf7ec13d8": {
          "model_module": "@jupyter-widgets/controls",
          "model_module_version": "1.5.0",
          "model_name": "HTMLModel",
          "state": {
            "_dom_classes": [],
            "_model_module": "@jupyter-widgets/controls",
            "_model_module_version": "1.5.0",
            "_model_name": "HTMLModel",
            "_view_count": null,
            "_view_module": "@jupyter-widgets/controls",
            "_view_module_version": "1.5.0",
            "_view_name": "HTMLView",
            "description": "",
            "description_tooltip": null,
            "layout": "IPY_MODEL_62795f237da14365b448ad57c4f94cab",
            "placeholder": "​",
            "style": "IPY_MODEL_7840fbd99ab14d1c80633ab5544bd21c",
            "value": " 248/248 [00:00&lt;00:00, 18.6kB/s]"
          }
        },
        "62795f237da14365b448ad57c4f94cab": {
          "model_module": "@jupyter-widgets/base",
          "model_module_version": "1.2.0",
          "model_name": "LayoutModel",
          "state": {
            "_model_module": "@jupyter-widgets/base",
            "_model_module_version": "1.2.0",
            "_model_name": "LayoutModel",
            "_view_count": null,
            "_view_module": "@jupyter-widgets/base",
            "_view_module_version": "1.2.0",
            "_view_name": "LayoutView",
            "align_content": null,
            "align_items": null,
            "align_self": null,
            "border": null,
            "bottom": null,
            "display": null,
            "flex": null,
            "flex_flow": null,
            "grid_area": null,
            "grid_auto_columns": null,
            "grid_auto_flow": null,
            "grid_auto_rows": null,
            "grid_column": null,
            "grid_gap": null,
            "grid_row": null,
            "grid_template_areas": null,
            "grid_template_columns": null,
            "grid_template_rows": null,
            "height": null,
            "justify_content": null,
            "justify_items": null,
            "left": null,
            "margin": null,
            "max_height": null,
            "max_width": null,
            "min_height": null,
            "min_width": null,
            "object_fit": null,
            "object_position": null,
            "order": null,
            "overflow": null,
            "overflow_x": null,
            "overflow_y": null,
            "padding": null,
            "right": null,
            "top": null,
            "visibility": null,
            "width": null
          }
        },
        "63ee2b2119c9469bbdd126dd2f8100cc": {
          "model_module": "@jupyter-widgets/controls",
          "model_module_version": "1.5.0",
          "model_name": "FloatProgressModel",
          "state": {
            "_dom_classes": [],
            "_model_module": "@jupyter-widgets/controls",
            "_model_module_version": "1.5.0",
            "_model_name": "FloatProgressModel",
            "_view_count": null,
            "_view_module": "@jupyter-widgets/controls",
            "_view_module_version": "1.5.0",
            "_view_name": "ProgressView",
            "bar_style": "success",
            "description": "",
            "description_tooltip": null,
            "layout": "IPY_MODEL_900ba9844d664639bfafa3b413589d8b",
            "max": 2186,
            "min": 0,
            "orientation": "horizontal",
            "style": "IPY_MODEL_4530a319fe10428988253799c8f92538",
            "value": 2186
          }
        },
        "681bd167b35b4be5ba13995feccaa67b": {
          "model_module": "@jupyter-widgets/controls",
          "model_module_version": "1.5.0",
          "model_name": "HTMLModel",
          "state": {
            "_dom_classes": [],
            "_model_module": "@jupyter-widgets/controls",
            "_model_module_version": "1.5.0",
            "_model_name": "HTMLModel",
            "_view_count": null,
            "_view_module": "@jupyter-widgets/controls",
            "_view_module_version": "1.5.0",
            "_view_name": "HTMLView",
            "description": "",
            "description_tooltip": null,
            "layout": "IPY_MODEL_1d7014826bbd4369aea408c858aeb3c9",
            "placeholder": "​",
            "style": "IPY_MODEL_7d29b305214f4057bd1b7624959368db",
            "value": "config_sentence_transformers.json: 100%"
          }
        },
        "714c235bb93b43cdae8a7e745017ed5c": {
          "model_module": "@jupyter-widgets/controls",
          "model_module_version": "1.5.0",
          "model_name": "DescriptionStyleModel",
          "state": {
            "_model_module": "@jupyter-widgets/controls",
            "_model_module_version": "1.5.0",
            "_model_name": "DescriptionStyleModel",
            "_view_count": null,
            "_view_module": "@jupyter-widgets/base",
            "_view_module_version": "1.2.0",
            "_view_name": "StyleView",
            "description_width": ""
          }
        },
        "77e489b5e38f47c48b3fc1e7cff79f7e": {
          "model_module": "@jupyter-widgets/base",
          "model_module_version": "1.2.0",
          "model_name": "LayoutModel",
          "state": {
            "_model_module": "@jupyter-widgets/base",
            "_model_module_version": "1.2.0",
            "_model_name": "LayoutModel",
            "_view_count": null,
            "_view_module": "@jupyter-widgets/base",
            "_view_module_version": "1.2.0",
            "_view_name": "LayoutView",
            "align_content": null,
            "align_items": null,
            "align_self": null,
            "border": null,
            "bottom": null,
            "display": null,
            "flex": null,
            "flex_flow": null,
            "grid_area": null,
            "grid_auto_columns": null,
            "grid_auto_flow": null,
            "grid_auto_rows": null,
            "grid_column": null,
            "grid_gap": null,
            "grid_row": null,
            "grid_template_areas": null,
            "grid_template_columns": null,
            "grid_template_rows": null,
            "height": null,
            "justify_content": null,
            "justify_items": null,
            "left": null,
            "margin": null,
            "max_height": null,
            "max_width": null,
            "min_height": null,
            "min_width": null,
            "object_fit": null,
            "object_position": null,
            "order": null,
            "overflow": null,
            "overflow_x": null,
            "overflow_y": null,
            "padding": null,
            "right": null,
            "top": null,
            "visibility": null,
            "width": null
          }
        },
        "7840fbd99ab14d1c80633ab5544bd21c": {
          "model_module": "@jupyter-widgets/controls",
          "model_module_version": "1.5.0",
          "model_name": "DescriptionStyleModel",
          "state": {
            "_model_module": "@jupyter-widgets/controls",
            "_model_module_version": "1.5.0",
            "_model_name": "DescriptionStyleModel",
            "_view_count": null,
            "_view_module": "@jupyter-widgets/base",
            "_view_module_version": "1.2.0",
            "_view_name": "StyleView",
            "description_width": ""
          }
        },
        "7c0fcef2ed7246c580c53e2b88c8c0f6": {
          "model_module": "@jupyter-widgets/base",
          "model_module_version": "1.2.0",
          "model_name": "LayoutModel",
          "state": {
            "_model_module": "@jupyter-widgets/base",
            "_model_module_version": "1.2.0",
            "_model_name": "LayoutModel",
            "_view_count": null,
            "_view_module": "@jupyter-widgets/base",
            "_view_module_version": "1.2.0",
            "_view_name": "LayoutView",
            "align_content": null,
            "align_items": null,
            "align_self": null,
            "border": null,
            "bottom": null,
            "display": null,
            "flex": null,
            "flex_flow": null,
            "grid_area": null,
            "grid_auto_columns": null,
            "grid_auto_flow": null,
            "grid_auto_rows": null,
            "grid_column": null,
            "grid_gap": null,
            "grid_row": null,
            "grid_template_areas": null,
            "grid_template_columns": null,
            "grid_template_rows": null,
            "height": null,
            "justify_content": null,
            "justify_items": null,
            "left": null,
            "margin": null,
            "max_height": null,
            "max_width": null,
            "min_height": null,
            "min_width": null,
            "object_fit": null,
            "object_position": null,
            "order": null,
            "overflow": null,
            "overflow_x": null,
            "overflow_y": null,
            "padding": null,
            "right": null,
            "top": null,
            "visibility": null,
            "width": null
          }
        },
        "7d29b305214f4057bd1b7624959368db": {
          "model_module": "@jupyter-widgets/controls",
          "model_module_version": "1.5.0",
          "model_name": "DescriptionStyleModel",
          "state": {
            "_model_module": "@jupyter-widgets/controls",
            "_model_module_version": "1.5.0",
            "_model_name": "DescriptionStyleModel",
            "_view_count": null,
            "_view_module": "@jupyter-widgets/base",
            "_view_module_version": "1.2.0",
            "_view_name": "StyleView",
            "description_width": ""
          }
        },
        "7fcc2c2aeeea4cc48d65df53febd5a08": {
          "model_module": "@jupyter-widgets/controls",
          "model_module_version": "1.5.0",
          "model_name": "HTMLModel",
          "state": {
            "_dom_classes": [],
            "_model_module": "@jupyter-widgets/controls",
            "_model_module_version": "1.5.0",
            "_model_name": "HTMLModel",
            "_view_count": null,
            "_view_module": "@jupyter-widgets/controls",
            "_view_module_version": "1.5.0",
            "_view_name": "HTMLView",
            "description": "",
            "description_tooltip": null,
            "layout": "IPY_MODEL_5ea989dfea414dc2ae82621bb43bc292",
            "placeholder": "​",
            "style": "IPY_MODEL_51542c1a1a1041d0afc0f322103c5a5f",
            "value": "(…)beddings/whitespacetokenizer_config.json: 100%"
          }
        },
        "8062ce7ce7f04c55b6eea068acb01016": {
          "model_module": "@jupyter-widgets/controls",
          "model_module_version": "1.5.0",
          "model_name": "ProgressStyleModel",
          "state": {
            "_model_module": "@jupyter-widgets/controls",
            "_model_module_version": "1.5.0",
            "_model_name": "ProgressStyleModel",
            "_view_count": null,
            "_view_module": "@jupyter-widgets/base",
            "_view_module_version": "1.2.0",
            "_view_name": "StyleView",
            "bar_color": null,
            "description_width": ""
          }
        },
        "8b74b8c47a294ecbacb2bed9537f1c66": {
          "model_module": "@jupyter-widgets/controls",
          "model_module_version": "1.5.0",
          "model_name": "DescriptionStyleModel",
          "state": {
            "_model_module": "@jupyter-widgets/controls",
            "_model_module_version": "1.5.0",
            "_model_name": "DescriptionStyleModel",
            "_view_count": null,
            "_view_module": "@jupyter-widgets/base",
            "_view_module_version": "1.2.0",
            "_view_name": "StyleView",
            "description_width": ""
          }
        },
        "8d66e456c42d4ebd9875e1f4168ee807": {
          "model_module": "@jupyter-widgets/controls",
          "model_module_version": "1.5.0",
          "model_name": "HTMLModel",
          "state": {
            "_dom_classes": [],
            "_model_module": "@jupyter-widgets/controls",
            "_model_module_version": "1.5.0",
            "_model_name": "HTMLModel",
            "_view_count": null,
            "_view_module": "@jupyter-widgets/controls",
            "_view_module_version": "1.5.0",
            "_view_name": "HTMLView",
            "description": "",
            "description_tooltip": null,
            "layout": "IPY_MODEL_df0aa4ed1d314030901f0b225e6ac68d",
            "placeholder": "​",
            "style": "IPY_MODEL_714c235bb93b43cdae8a7e745017ed5c",
            "value": " 2.19k/2.19k [00:00&lt;00:00, 170kB/s]"
          }
        },
        "900ba9844d664639bfafa3b413589d8b": {
          "model_module": "@jupyter-widgets/base",
          "model_module_version": "1.2.0",
          "model_name": "LayoutModel",
          "state": {
            "_model_module": "@jupyter-widgets/base",
            "_model_module_version": "1.2.0",
            "_model_name": "LayoutModel",
            "_view_count": null,
            "_view_module": "@jupyter-widgets/base",
            "_view_module_version": "1.2.0",
            "_view_name": "LayoutView",
            "align_content": null,
            "align_items": null,
            "align_self": null,
            "border": null,
            "bottom": null,
            "display": null,
            "flex": null,
            "flex_flow": null,
            "grid_area": null,
            "grid_auto_columns": null,
            "grid_auto_flow": null,
            "grid_auto_rows": null,
            "grid_column": null,
            "grid_gap": null,
            "grid_row": null,
            "grid_template_areas": null,
            "grid_template_columns": null,
            "grid_template_rows": null,
            "height": null,
            "justify_content": null,
            "justify_items": null,
            "left": null,
            "margin": null,
            "max_height": null,
            "max_width": null,
            "min_height": null,
            "min_width": null,
            "object_fit": null,
            "object_position": null,
            "order": null,
            "overflow": null,
            "overflow_x": null,
            "overflow_y": null,
            "padding": null,
            "right": null,
            "top": null,
            "visibility": null,
            "width": null
          }
        },
        "90d7001d6997425886d1eb703d24d826": {
          "model_module": "@jupyter-widgets/base",
          "model_module_version": "1.2.0",
          "model_name": "LayoutModel",
          "state": {
            "_model_module": "@jupyter-widgets/base",
            "_model_module_version": "1.2.0",
            "_model_name": "LayoutModel",
            "_view_count": null,
            "_view_module": "@jupyter-widgets/base",
            "_view_module_version": "1.2.0",
            "_view_name": "LayoutView",
            "align_content": null,
            "align_items": null,
            "align_self": null,
            "border": null,
            "bottom": null,
            "display": null,
            "flex": null,
            "flex_flow": null,
            "grid_area": null,
            "grid_auto_columns": null,
            "grid_auto_flow": null,
            "grid_auto_rows": null,
            "grid_column": null,
            "grid_gap": null,
            "grid_row": null,
            "grid_template_areas": null,
            "grid_template_columns": null,
            "grid_template_rows": null,
            "height": null,
            "justify_content": null,
            "justify_items": null,
            "left": null,
            "margin": null,
            "max_height": null,
            "max_width": null,
            "min_height": null,
            "min_width": null,
            "object_fit": null,
            "object_position": null,
            "order": null,
            "overflow": null,
            "overflow_x": null,
            "overflow_y": null,
            "padding": null,
            "right": null,
            "top": null,
            "visibility": null,
            "width": null
          }
        },
        "962b312ef4434c92bbe74aa5e082de66": {
          "model_module": "@jupyter-widgets/controls",
          "model_module_version": "1.5.0",
          "model_name": "DescriptionStyleModel",
          "state": {
            "_model_module": "@jupyter-widgets/controls",
            "_model_module_version": "1.5.0",
            "_model_name": "DescriptionStyleModel",
            "_view_count": null,
            "_view_module": "@jupyter-widgets/base",
            "_view_module_version": "1.2.0",
            "_view_name": "StyleView",
            "description_width": ""
          }
        },
        "96de8439bb284f7aad58d00b93f5a939": {
          "model_module": "@jupyter-widgets/controls",
          "model_module_version": "1.5.0",
          "model_name": "FloatProgressModel",
          "state": {
            "_dom_classes": [],
            "_model_module": "@jupyter-widgets/controls",
            "_model_module_version": "1.5.0",
            "_model_name": "FloatProgressModel",
            "_view_count": null,
            "_view_module": "@jupyter-widgets/controls",
            "_view_module_version": "1.5.0",
            "_view_name": "ProgressView",
            "bar_style": "success",
            "description": "",
            "description_tooltip": null,
            "layout": "IPY_MODEL_216ebaf206a04d4c9e6e974429d3a4d0",
            "max": 190,
            "min": 0,
            "orientation": "horizontal",
            "style": "IPY_MODEL_f9cf17a73f04494097946eeb39828eab",
            "value": 190
          }
        },
        "9c22176f76964940892a890c3243021b": {
          "model_module": "@jupyter-widgets/controls",
          "model_module_version": "1.5.0",
          "model_name": "HTMLModel",
          "state": {
            "_dom_classes": [],
            "_model_module": "@jupyter-widgets/controls",
            "_model_module_version": "1.5.0",
            "_model_name": "HTMLModel",
            "_view_count": null,
            "_view_module": "@jupyter-widgets/controls",
            "_view_module_version": "1.5.0",
            "_view_name": "HTMLView",
            "description": "",
            "description_tooltip": null,
            "layout": "IPY_MODEL_d87ead8010a7432093202540232a0f58",
            "placeholder": "​",
            "style": "IPY_MODEL_8b74b8c47a294ecbacb2bed9537f1c66",
            "value": "(…)WordEmbeddings/wordembedding_config.json: 100%"
          }
        },
        "9c7b96de2a2943a084fe746c6e390d75": {
          "model_module": "@jupyter-widgets/controls",
          "model_module_version": "1.5.0",
          "model_name": "ProgressStyleModel",
          "state": {
            "_model_module": "@jupyter-widgets/controls",
            "_model_module_version": "1.5.0",
            "_model_name": "ProgressStyleModel",
            "_view_count": null,
            "_view_module": "@jupyter-widgets/base",
            "_view_module_version": "1.2.0",
            "_view_name": "StyleView",
            "bar_color": null,
            "description_width": ""
          }
        },
        "a39f75b55fa749b1971bdf55f193dd4e": {
          "model_module": "@jupyter-widgets/controls",
          "model_module_version": "1.5.0",
          "model_name": "HTMLModel",
          "state": {
            "_dom_classes": [],
            "_model_module": "@jupyter-widgets/controls",
            "_model_module_version": "1.5.0",
            "_model_name": "HTMLModel",
            "_view_count": null,
            "_view_module": "@jupyter-widgets/controls",
            "_view_module_version": "1.5.0",
            "_view_name": "HTMLView",
            "description": "",
            "description_tooltip": null,
            "layout": "IPY_MODEL_a61a53af8668461f83bd6bf726277779",
            "placeholder": "​",
            "style": "IPY_MODEL_e50e8f3293d444a6944ba1057772cb6f",
            "value": " 164/164 [00:00&lt;00:00, 10.7kB/s]"
          }
        },
        "a3e34122d37445fd96e7101c8aa1d39e": {
          "model_module": "@jupyter-widgets/base",
          "model_module_version": "1.2.0",
          "model_name": "LayoutModel",
          "state": {
            "_model_module": "@jupyter-widgets/base",
            "_model_module_version": "1.2.0",
            "_model_name": "LayoutModel",
            "_view_count": null,
            "_view_module": "@jupyter-widgets/base",
            "_view_module_version": "1.2.0",
            "_view_name": "LayoutView",
            "align_content": null,
            "align_items": null,
            "align_self": null,
            "border": null,
            "bottom": null,
            "display": null,
            "flex": null,
            "flex_flow": null,
            "grid_area": null,
            "grid_auto_columns": null,
            "grid_auto_flow": null,
            "grid_auto_rows": null,
            "grid_column": null,
            "grid_gap": null,
            "grid_row": null,
            "grid_template_areas": null,
            "grid_template_columns": null,
            "grid_template_rows": null,
            "height": null,
            "justify_content": null,
            "justify_items": null,
            "left": null,
            "margin": null,
            "max_height": null,
            "max_width": null,
            "min_height": null,
            "min_width": null,
            "object_fit": null,
            "object_position": null,
            "order": null,
            "overflow": null,
            "overflow_x": null,
            "overflow_y": null,
            "padding": null,
            "right": null,
            "top": null,
            "visibility": null,
            "width": null
          }
        },
        "a61a53af8668461f83bd6bf726277779": {
          "model_module": "@jupyter-widgets/base",
          "model_module_version": "1.2.0",
          "model_name": "LayoutModel",
          "state": {
            "_model_module": "@jupyter-widgets/base",
            "_model_module_version": "1.2.0",
            "_model_name": "LayoutModel",
            "_view_count": null,
            "_view_module": "@jupyter-widgets/base",
            "_view_module_version": "1.2.0",
            "_view_name": "LayoutView",
            "align_content": null,
            "align_items": null,
            "align_self": null,
            "border": null,
            "bottom": null,
            "display": null,
            "flex": null,
            "flex_flow": null,
            "grid_area": null,
            "grid_auto_columns": null,
            "grid_auto_flow": null,
            "grid_auto_rows": null,
            "grid_column": null,
            "grid_gap": null,
            "grid_row": null,
            "grid_template_areas": null,
            "grid_template_columns": null,
            "grid_template_rows": null,
            "height": null,
            "justify_content": null,
            "justify_items": null,
            "left": null,
            "margin": null,
            "max_height": null,
            "max_width": null,
            "min_height": null,
            "min_width": null,
            "object_fit": null,
            "object_position": null,
            "order": null,
            "overflow": null,
            "overflow_x": null,
            "overflow_y": null,
            "padding": null,
            "right": null,
            "top": null,
            "visibility": null,
            "width": null
          }
        },
        "a8782db70f594625ab0283e3eac00b58": {
          "model_module": "@jupyter-widgets/base",
          "model_module_version": "1.2.0",
          "model_name": "LayoutModel",
          "state": {
            "_model_module": "@jupyter-widgets/base",
            "_model_module_version": "1.2.0",
            "_model_name": "LayoutModel",
            "_view_count": null,
            "_view_module": "@jupyter-widgets/base",
            "_view_module_version": "1.2.0",
            "_view_name": "LayoutView",
            "align_content": null,
            "align_items": null,
            "align_self": null,
            "border": null,
            "bottom": null,
            "display": null,
            "flex": null,
            "flex_flow": null,
            "grid_area": null,
            "grid_auto_columns": null,
            "grid_auto_flow": null,
            "grid_auto_rows": null,
            "grid_column": null,
            "grid_gap": null,
            "grid_row": null,
            "grid_template_areas": null,
            "grid_template_columns": null,
            "grid_template_rows": null,
            "height": null,
            "justify_content": null,
            "justify_items": null,
            "left": null,
            "margin": null,
            "max_height": null,
            "max_width": null,
            "min_height": null,
            "min_width": null,
            "object_fit": null,
            "object_position": null,
            "order": null,
            "overflow": null,
            "overflow_x": null,
            "overflow_y": null,
            "padding": null,
            "right": null,
            "top": null,
            "visibility": null,
            "width": null
          }
        },
        "aa46857f7a7b4ca2b780dbc521a675ca": {
          "model_module": "@jupyter-widgets/controls",
          "model_module_version": "1.5.0",
          "model_name": "DescriptionStyleModel",
          "state": {
            "_model_module": "@jupyter-widgets/controls",
            "_model_module_version": "1.5.0",
            "_model_name": "DescriptionStyleModel",
            "_view_count": null,
            "_view_module": "@jupyter-widgets/base",
            "_view_module_version": "1.2.0",
            "_view_name": "StyleView",
            "description_width": ""
          }
        },
        "ab07cd0f7ce74ca8ad8222d4c9afc8a0": {
          "model_module": "@jupyter-widgets/controls",
          "model_module_version": "1.5.0",
          "model_name": "HTMLModel",
          "state": {
            "_dom_classes": [],
            "_model_module": "@jupyter-widgets/controls",
            "_model_module_version": "1.5.0",
            "_model_name": "HTMLModel",
            "_view_count": null,
            "_view_module": "@jupyter-widgets/controls",
            "_view_module_version": "1.5.0",
            "_view_name": "HTMLView",
            "description": "",
            "description_tooltip": null,
            "layout": "IPY_MODEL_2c25b32eb64c450a9f185f3bc75d0395",
            "placeholder": "​",
            "style": "IPY_MODEL_31cbf8b8cab045d38517f5e990830a56",
            "value": "pytorch_model.bin: 100%"
          }
        },
        "ac13b470b1d14887b0b949e52b9c788b": {
          "model_module": "@jupyter-widgets/controls",
          "model_module_version": "1.5.0",
          "model_name": "DescriptionStyleModel",
          "state": {
            "_model_module": "@jupyter-widgets/controls",
            "_model_module_version": "1.5.0",
            "_model_name": "DescriptionStyleModel",
            "_view_count": null,
            "_view_module": "@jupyter-widgets/base",
            "_view_module_version": "1.2.0",
            "_view_name": "StyleView",
            "description_width": ""
          }
        },
        "aee95b1aa02e4dc689737054a99919fc": {
          "model_module": "@jupyter-widgets/controls",
          "model_module_version": "1.5.0",
          "model_name": "HBoxModel",
          "state": {
            "_dom_classes": [],
            "_model_module": "@jupyter-widgets/controls",
            "_model_module_version": "1.5.0",
            "_model_name": "HBoxModel",
            "_view_count": null,
            "_view_module": "@jupyter-widgets/controls",
            "_view_module_version": "1.5.0",
            "_view_name": "HBoxView",
            "box_style": "",
            "children": [
              "IPY_MODEL_b9336d4896d742749948b8e6e8f5b729",
              "IPY_MODEL_63ee2b2119c9469bbdd126dd2f8100cc",
              "IPY_MODEL_8d66e456c42d4ebd9875e1f4168ee807"
            ],
            "layout": "IPY_MODEL_90d7001d6997425886d1eb703d24d826"
          }
        },
        "b1b2826032c241b38e6476826676c53c": {
          "model_module": "@jupyter-widgets/controls",
          "model_module_version": "1.5.0",
          "model_name": "FloatProgressModel",
          "state": {
            "_dom_classes": [],
            "_model_module": "@jupyter-widgets/controls",
            "_model_module_version": "1.5.0",
            "_model_name": "FloatProgressModel",
            "_view_count": null,
            "_view_module": "@jupyter-widgets/controls",
            "_view_module_version": "1.5.0",
            "_view_name": "ProgressView",
            "bar_style": "success",
            "description": "",
            "description_tooltip": null,
            "layout": "IPY_MODEL_e4bce280cd1a46f7895fba1d1d1a8c1b",
            "max": 4605941,
            "min": 0,
            "orientation": "horizontal",
            "style": "IPY_MODEL_8062ce7ce7f04c55b6eea068acb01016",
            "value": 4605941
          }
        },
        "b9336d4896d742749948b8e6e8f5b729": {
          "model_module": "@jupyter-widgets/controls",
          "model_module_version": "1.5.0",
          "model_name": "HTMLModel",
          "state": {
            "_dom_classes": [],
            "_model_module": "@jupyter-widgets/controls",
            "_model_module_version": "1.5.0",
            "_model_name": "HTMLModel",
            "_view_count": null,
            "_view_module": "@jupyter-widgets/controls",
            "_view_module_version": "1.5.0",
            "_view_name": "HTMLView",
            "description": "",
            "description_tooltip": null,
            "layout": "IPY_MODEL_580fa4936083404ab0389247274a3f4b",
            "placeholder": "​",
            "style": "IPY_MODEL_4c696878bdc54f33abd1ad970d9bb934",
            "value": "README.md: 100%"
          }
        },
        "bb3c35e549524569a21435af830a2bd5": {
          "model_module": "@jupyter-widgets/base",
          "model_module_version": "1.2.0",
          "model_name": "LayoutModel",
          "state": {
            "_model_module": "@jupyter-widgets/base",
            "_model_module_version": "1.2.0",
            "_model_name": "LayoutModel",
            "_view_count": null,
            "_view_module": "@jupyter-widgets/base",
            "_view_module_version": "1.2.0",
            "_view_name": "LayoutView",
            "align_content": null,
            "align_items": null,
            "align_self": null,
            "border": null,
            "bottom": null,
            "display": null,
            "flex": null,
            "flex_flow": null,
            "grid_area": null,
            "grid_auto_columns": null,
            "grid_auto_flow": null,
            "grid_auto_rows": null,
            "grid_column": null,
            "grid_gap": null,
            "grid_row": null,
            "grid_template_areas": null,
            "grid_template_columns": null,
            "grid_template_rows": null,
            "height": null,
            "justify_content": null,
            "justify_items": null,
            "left": null,
            "margin": null,
            "max_height": null,
            "max_width": null,
            "min_height": null,
            "min_width": null,
            "object_fit": null,
            "object_position": null,
            "order": null,
            "overflow": null,
            "overflow_x": null,
            "overflow_y": null,
            "padding": null,
            "right": null,
            "top": null,
            "visibility": null,
            "width": null
          }
        },
        "bd45bf885bb34a2aaac1daff1a0e77ce": {
          "model_module": "@jupyter-widgets/controls",
          "model_module_version": "1.5.0",
          "model_name": "FloatProgressModel",
          "state": {
            "_dom_classes": [],
            "_model_module": "@jupyter-widgets/controls",
            "_model_module_version": "1.5.0",
            "_model_name": "FloatProgressModel",
            "_view_count": null,
            "_view_module": "@jupyter-widgets/controls",
            "_view_module_version": "1.5.0",
            "_view_name": "ProgressView",
            "bar_style": "success",
            "description": "",
            "description_tooltip": null,
            "layout": "IPY_MODEL_bb3c35e549524569a21435af830a2bd5",
            "max": 122,
            "min": 0,
            "orientation": "horizontal",
            "style": "IPY_MODEL_41539403785d4ecdba2552ebb1634d90",
            "value": 122
          }
        },
        "c168c54e3bdf42ff9ddb43e2d1de42f5": {
          "model_module": "@jupyter-widgets/controls",
          "model_module_version": "1.5.0",
          "model_name": "HBoxModel",
          "state": {
            "_dom_classes": [],
            "_model_module": "@jupyter-widgets/controls",
            "_model_module_version": "1.5.0",
            "_model_name": "HBoxModel",
            "_view_count": null,
            "_view_module": "@jupyter-widgets/controls",
            "_view_module_version": "1.5.0",
            "_view_name": "HBoxView",
            "box_style": "",
            "children": [
              "IPY_MODEL_9c22176f76964940892a890c3243021b",
              "IPY_MODEL_c4ab496e5da74a59b5044f8b338244a8",
              "IPY_MODEL_a39f75b55fa749b1971bdf55f193dd4e"
            ],
            "layout": "IPY_MODEL_a8782db70f594625ab0283e3eac00b58"
          }
        },
        "c29193ff931244af8c27b586bac281c8": {
          "model_module": "@jupyter-widgets/controls",
          "model_module_version": "1.5.0",
          "model_name": "DescriptionStyleModel",
          "state": {
            "_model_module": "@jupyter-widgets/controls",
            "_model_module_version": "1.5.0",
            "_model_name": "DescriptionStyleModel",
            "_view_count": null,
            "_view_module": "@jupyter-widgets/base",
            "_view_module_version": "1.2.0",
            "_view_name": "StyleView",
            "description_width": ""
          }
        },
        "c4ab496e5da74a59b5044f8b338244a8": {
          "model_module": "@jupyter-widgets/controls",
          "model_module_version": "1.5.0",
          "model_name": "FloatProgressModel",
          "state": {
            "_dom_classes": [],
            "_model_module": "@jupyter-widgets/controls",
            "_model_module_version": "1.5.0",
            "_model_name": "FloatProgressModel",
            "_view_count": null,
            "_view_module": "@jupyter-widgets/controls",
            "_view_module_version": "1.5.0",
            "_view_name": "ProgressView",
            "bar_style": "success",
            "description": "",
            "description_tooltip": null,
            "layout": "IPY_MODEL_5b9cbe003f204c22a7a293f983749199",
            "max": 164,
            "min": 0,
            "orientation": "horizontal",
            "style": "IPY_MODEL_28adbf2cf9a64a95890c1b890a5095cf",
            "value": 164
          }
        },
        "d7fa6b29acc345ba8ae786894e5ebc12": {
          "model_module": "@jupyter-widgets/controls",
          "model_module_version": "1.5.0",
          "model_name": "HBoxModel",
          "state": {
            "_dom_classes": [],
            "_model_module": "@jupyter-widgets/controls",
            "_model_module_version": "1.5.0",
            "_model_name": "HBoxModel",
            "_view_count": null,
            "_view_module": "@jupyter-widgets/controls",
            "_view_module_version": "1.5.0",
            "_view_name": "HBoxView",
            "box_style": "",
            "children": [
              "IPY_MODEL_505d5de548674923947792596bb8d5f9",
              "IPY_MODEL_96de8439bb284f7aad58d00b93f5a939",
              "IPY_MODEL_d8fec7401539447abc6caac011719013"
            ],
            "layout": "IPY_MODEL_0621f9d4739c43989a6638d0e5bd222f"
          }
        },
        "d87ead8010a7432093202540232a0f58": {
          "model_module": "@jupyter-widgets/base",
          "model_module_version": "1.2.0",
          "model_name": "LayoutModel",
          "state": {
            "_model_module": "@jupyter-widgets/base",
            "_model_module_version": "1.2.0",
            "_model_name": "LayoutModel",
            "_view_count": null,
            "_view_module": "@jupyter-widgets/base",
            "_view_module_version": "1.2.0",
            "_view_name": "LayoutView",
            "align_content": null,
            "align_items": null,
            "align_self": null,
            "border": null,
            "bottom": null,
            "display": null,
            "flex": null,
            "flex_flow": null,
            "grid_area": null,
            "grid_auto_columns": null,
            "grid_auto_flow": null,
            "grid_auto_rows": null,
            "grid_column": null,
            "grid_gap": null,
            "grid_row": null,
            "grid_template_areas": null,
            "grid_template_columns": null,
            "grid_template_rows": null,
            "height": null,
            "justify_content": null,
            "justify_items": null,
            "left": null,
            "margin": null,
            "max_height": null,
            "max_width": null,
            "min_height": null,
            "min_width": null,
            "object_fit": null,
            "object_position": null,
            "order": null,
            "overflow": null,
            "overflow_x": null,
            "overflow_y": null,
            "padding": null,
            "right": null,
            "top": null,
            "visibility": null,
            "width": null
          }
        },
        "d8fec7401539447abc6caac011719013": {
          "model_module": "@jupyter-widgets/controls",
          "model_module_version": "1.5.0",
          "model_name": "HTMLModel",
          "state": {
            "_dom_classes": [],
            "_model_module": "@jupyter-widgets/controls",
            "_model_module_version": "1.5.0",
            "_model_name": "HTMLModel",
            "_view_count": null,
            "_view_module": "@jupyter-widgets/controls",
            "_view_module_version": "1.5.0",
            "_view_name": "HTMLView",
            "description": "",
            "description_tooltip": null,
            "layout": "IPY_MODEL_1dbf6ac716f4455081c7c49a4cc9bb72",
            "placeholder": "​",
            "style": "IPY_MODEL_ac13b470b1d14887b0b949e52b9c788b",
            "value": " 190/190 [00:00&lt;00:00, 12.0kB/s]"
          }
        },
        "da5d5ead0ca4412c954b1dcf3f746dc0": {
          "model_module": "@jupyter-widgets/base",
          "model_module_version": "1.2.0",
          "model_name": "LayoutModel",
          "state": {
            "_model_module": "@jupyter-widgets/base",
            "_model_module_version": "1.2.0",
            "_model_name": "LayoutModel",
            "_view_count": null,
            "_view_module": "@jupyter-widgets/base",
            "_view_module_version": "1.2.0",
            "_view_name": "LayoutView",
            "align_content": null,
            "align_items": null,
            "align_self": null,
            "border": null,
            "bottom": null,
            "display": null,
            "flex": null,
            "flex_flow": null,
            "grid_area": null,
            "grid_auto_columns": null,
            "grid_auto_flow": null,
            "grid_auto_rows": null,
            "grid_column": null,
            "grid_gap": null,
            "grid_row": null,
            "grid_template_areas": null,
            "grid_template_columns": null,
            "grid_template_rows": null,
            "height": null,
            "justify_content": null,
            "justify_items": null,
            "left": null,
            "margin": null,
            "max_height": null,
            "max_width": null,
            "min_height": null,
            "min_width": null,
            "object_fit": null,
            "object_position": null,
            "order": null,
            "overflow": null,
            "overflow_x": null,
            "overflow_y": null,
            "padding": null,
            "right": null,
            "top": null,
            "visibility": null,
            "width": null
          }
        },
        "da8d95e744fb4ad5982ea5d8e4337675": {
          "model_module": "@jupyter-widgets/base",
          "model_module_version": "1.2.0",
          "model_name": "LayoutModel",
          "state": {
            "_model_module": "@jupyter-widgets/base",
            "_model_module_version": "1.2.0",
            "_model_name": "LayoutModel",
            "_view_count": null,
            "_view_module": "@jupyter-widgets/base",
            "_view_module_version": "1.2.0",
            "_view_name": "LayoutView",
            "align_content": null,
            "align_items": null,
            "align_self": null,
            "border": null,
            "bottom": null,
            "display": null,
            "flex": null,
            "flex_flow": null,
            "grid_area": null,
            "grid_auto_columns": null,
            "grid_auto_flow": null,
            "grid_auto_rows": null,
            "grid_column": null,
            "grid_gap": null,
            "grid_row": null,
            "grid_template_areas": null,
            "grid_template_columns": null,
            "grid_template_rows": null,
            "height": null,
            "justify_content": null,
            "justify_items": null,
            "left": null,
            "margin": null,
            "max_height": null,
            "max_width": null,
            "min_height": null,
            "min_width": null,
            "object_fit": null,
            "object_position": null,
            "order": null,
            "overflow": null,
            "overflow_x": null,
            "overflow_y": null,
            "padding": null,
            "right": null,
            "top": null,
            "visibility": null,
            "width": null
          }
        },
        "df0aa4ed1d314030901f0b225e6ac68d": {
          "model_module": "@jupyter-widgets/base",
          "model_module_version": "1.2.0",
          "model_name": "LayoutModel",
          "state": {
            "_model_module": "@jupyter-widgets/base",
            "_model_module_version": "1.2.0",
            "_model_name": "LayoutModel",
            "_view_count": null,
            "_view_module": "@jupyter-widgets/base",
            "_view_module_version": "1.2.0",
            "_view_name": "LayoutView",
            "align_content": null,
            "align_items": null,
            "align_self": null,
            "border": null,
            "bottom": null,
            "display": null,
            "flex": null,
            "flex_flow": null,
            "grid_area": null,
            "grid_auto_columns": null,
            "grid_auto_flow": null,
            "grid_auto_rows": null,
            "grid_column": null,
            "grid_gap": null,
            "grid_row": null,
            "grid_template_areas": null,
            "grid_template_columns": null,
            "grid_template_rows": null,
            "height": null,
            "justify_content": null,
            "justify_items": null,
            "left": null,
            "margin": null,
            "max_height": null,
            "max_width": null,
            "min_height": null,
            "min_width": null,
            "object_fit": null,
            "object_position": null,
            "order": null,
            "overflow": null,
            "overflow_x": null,
            "overflow_y": null,
            "padding": null,
            "right": null,
            "top": null,
            "visibility": null,
            "width": null
          }
        },
        "dfe96527da274f7a9ccae96e5d154813": {
          "model_module": "@jupyter-widgets/controls",
          "model_module_version": "1.5.0",
          "model_name": "HBoxModel",
          "state": {
            "_dom_classes": [],
            "_model_module": "@jupyter-widgets/controls",
            "_model_module_version": "1.5.0",
            "_model_name": "HBoxModel",
            "_view_count": null,
            "_view_module": "@jupyter-widgets/controls",
            "_view_module_version": "1.5.0",
            "_view_name": "HBoxView",
            "box_style": "",
            "children": [
              "IPY_MODEL_681bd167b35b4be5ba13995feccaa67b",
              "IPY_MODEL_bd45bf885bb34a2aaac1daff1a0e77ce",
              "IPY_MODEL_50b10808f8ca42a0bb820be0c827913a"
            ],
            "layout": "IPY_MODEL_2ebc1748555c4bf5801be34b3eff1e22"
          }
        },
        "e4bce280cd1a46f7895fba1d1d1a8c1b": {
          "model_module": "@jupyter-widgets/base",
          "model_module_version": "1.2.0",
          "model_name": "LayoutModel",
          "state": {
            "_model_module": "@jupyter-widgets/base",
            "_model_module_version": "1.2.0",
            "_model_name": "LayoutModel",
            "_view_count": null,
            "_view_module": "@jupyter-widgets/base",
            "_view_module_version": "1.2.0",
            "_view_name": "LayoutView",
            "align_content": null,
            "align_items": null,
            "align_self": null,
            "border": null,
            "bottom": null,
            "display": null,
            "flex": null,
            "flex_flow": null,
            "grid_area": null,
            "grid_auto_columns": null,
            "grid_auto_flow": null,
            "grid_auto_rows": null,
            "grid_column": null,
            "grid_gap": null,
            "grid_row": null,
            "grid_template_areas": null,
            "grid_template_columns": null,
            "grid_template_rows": null,
            "height": null,
            "justify_content": null,
            "justify_items": null,
            "left": null,
            "margin": null,
            "max_height": null,
            "max_width": null,
            "min_height": null,
            "min_width": null,
            "object_fit": null,
            "object_position": null,
            "order": null,
            "overflow": null,
            "overflow_x": null,
            "overflow_y": null,
            "padding": null,
            "right": null,
            "top": null,
            "visibility": null,
            "width": null
          }
        },
        "e50e8f3293d444a6944ba1057772cb6f": {
          "model_module": "@jupyter-widgets/controls",
          "model_module_version": "1.5.0",
          "model_name": "DescriptionStyleModel",
          "state": {
            "_model_module": "@jupyter-widgets/controls",
            "_model_module_version": "1.5.0",
            "_model_name": "DescriptionStyleModel",
            "_view_count": null,
            "_view_module": "@jupyter-widgets/base",
            "_view_module_version": "1.2.0",
            "_view_name": "StyleView",
            "description_width": ""
          }
        },
        "e7766a9bf84c4e5093579469f0aef6c1": {
          "model_module": "@jupyter-widgets/controls",
          "model_module_version": "1.5.0",
          "model_name": "ProgressStyleModel",
          "state": {
            "_model_module": "@jupyter-widgets/controls",
            "_model_module_version": "1.5.0",
            "_model_name": "ProgressStyleModel",
            "_view_count": null,
            "_view_module": "@jupyter-widgets/base",
            "_view_module_version": "1.2.0",
            "_view_name": "StyleView",
            "bar_color": null,
            "description_width": ""
          }
        },
        "f02e3ec3e15847db97150610c7a09f81": {
          "model_module": "@jupyter-widgets/controls",
          "model_module_version": "1.5.0",
          "model_name": "HTMLModel",
          "state": {
            "_dom_classes": [],
            "_model_module": "@jupyter-widgets/controls",
            "_model_module_version": "1.5.0",
            "_model_name": "HTMLModel",
            "_view_count": null,
            "_view_module": "@jupyter-widgets/controls",
            "_view_module_version": "1.5.0",
            "_view_name": "HTMLView",
            "description": "",
            "description_tooltip": null,
            "layout": "IPY_MODEL_da8d95e744fb4ad5982ea5d8e4337675",
            "placeholder": "​",
            "style": "IPY_MODEL_2dca1210c1014831b1858ad36f3ee0af",
            "value": "modules.json: 100%"
          }
        },
        "f9cf17a73f04494097946eeb39828eab": {
          "model_module": "@jupyter-widgets/controls",
          "model_module_version": "1.5.0",
          "model_name": "ProgressStyleModel",
          "state": {
            "_model_module": "@jupyter-widgets/controls",
            "_model_module_version": "1.5.0",
            "_model_name": "ProgressStyleModel",
            "_view_count": null,
            "_view_module": "@jupyter-widgets/base",
            "_view_module_version": "1.2.0",
            "_view_name": "StyleView",
            "bar_color": null,
            "description_width": ""
          }
        }
      }
    }
  },
  "nbformat": 4,
  "nbformat_minor": 0
}
