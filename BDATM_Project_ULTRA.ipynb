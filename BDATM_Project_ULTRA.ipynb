{
  "cells": [
    {
      "cell_type": "markdown",
      "source": [
        "# Downloading dependencies"
      ],
      "metadata": {
        "id": "jUBnHeKnKQQ8"
      }
    },
    {
      "cell_type": "code",
      "source": [
        "!pip install torch==2.1.0 --index-url https://download.pytorch.org/whl/cu118\n",
        "!pip install torch-scatter==2.1.2 torch-sparse==0.6.18 torch-geometric==2.4.0 -f https://data.pyg.org/whl/torch-2.1.0+cu118.html\n",
        "!pip install ninja easydict pyyaml\n",
        "!export CUDA_HOME=/usr/local/cuda-11.8/"
      ],
      "metadata": {
        "colab": {
          "base_uri": "https://localhost:8080/"
        },
        "id": "3zNCVFIlKTpz",
        "outputId": "ddbf95a9-77eb-49a3-dd61-9be2bfc10f5c"
      },
      "execution_count": 1,
      "outputs": [
        {
          "output_type": "stream",
          "name": "stdout",
          "text": [
            "Looking in indexes: https://download.pytorch.org/whl/cu118\n",
            "Collecting torch==2.1.0\n",
            "  Downloading https://download.pytorch.org/whl/cu118/torch-2.1.0%2Bcu118-cp311-cp311-linux_x86_64.whl (2325.9 MB)\n",
            "\u001b[2K     \u001b[90m━━━━━━━━━━━━━━━━━━━━━━━━━━━━━━━━━━━━━━━━\u001b[0m \u001b[32m2.3/2.3 GB\u001b[0m \u001b[31m491.4 kB/s\u001b[0m eta \u001b[36m0:00:00\u001b[0m\n",
            "\u001b[?25hRequirement already satisfied: filelock in /usr/local/lib/python3.11/dist-packages (from torch==2.1.0) (3.17.0)\n",
            "Requirement already satisfied: typing-extensions in /usr/local/lib/python3.11/dist-packages (from torch==2.1.0) (4.12.2)\n",
            "Requirement already satisfied: sympy in /usr/local/lib/python3.11/dist-packages (from torch==2.1.0) (1.13.1)\n",
            "Requirement already satisfied: networkx in /usr/local/lib/python3.11/dist-packages (from torch==2.1.0) (3.4.2)\n",
            "Requirement already satisfied: jinja2 in /usr/local/lib/python3.11/dist-packages (from torch==2.1.0) (3.1.5)\n",
            "Requirement already satisfied: fsspec in /usr/local/lib/python3.11/dist-packages (from torch==2.1.0) (2024.10.0)\n",
            "Collecting triton==2.1.0 (from torch==2.1.0)\n",
            "  Downloading https://download.pytorch.org/whl/triton-2.1.0-0-cp311-cp311-manylinux2014_x86_64.manylinux_2_17_x86_64.whl (89.2 MB)\n",
            "\u001b[2K     \u001b[90m━━━━━━━━━━━━━━━━━━━━━━━━━━━━━━━━━━━━━━━━\u001b[0m \u001b[32m89.2/89.2 MB\u001b[0m \u001b[31m8.8 MB/s\u001b[0m eta \u001b[36m0:00:00\u001b[0m\n",
            "\u001b[?25hRequirement already satisfied: MarkupSafe>=2.0 in /usr/local/lib/python3.11/dist-packages (from jinja2->torch==2.1.0) (3.0.2)\n",
            "Requirement already satisfied: mpmath<1.4,>=1.1.0 in /usr/local/lib/python3.11/dist-packages (from sympy->torch==2.1.0) (1.3.0)\n",
            "Installing collected packages: triton, torch\n",
            "  Attempting uninstall: triton\n",
            "    Found existing installation: triton 3.1.0\n",
            "    Uninstalling triton-3.1.0:\n",
            "      Successfully uninstalled triton-3.1.0\n",
            "  Attempting uninstall: torch\n",
            "    Found existing installation: torch 2.5.1+cu121\n",
            "    Uninstalling torch-2.5.1+cu121:\n",
            "      Successfully uninstalled torch-2.5.1+cu121\n",
            "\u001b[31mERROR: pip's dependency resolver does not currently take into account all the packages that are installed. This behaviour is the source of the following dependency conflicts.\n",
            "torchaudio 2.5.1+cu121 requires torch==2.5.1, but you have torch 2.1.0+cu118 which is incompatible.\n",
            "torchvision 0.20.1+cu121 requires torch==2.5.1, but you have torch 2.1.0+cu118 which is incompatible.\u001b[0m\u001b[31m\n",
            "\u001b[0mSuccessfully installed torch-2.1.0+cu118 triton-2.1.0\n",
            "Looking in links: https://data.pyg.org/whl/torch-2.1.0+cu118.html\n",
            "Collecting torch-scatter==2.1.2\n",
            "  Downloading https://data.pyg.org/whl/torch-2.1.0%2Bcu118/torch_scatter-2.1.2%2Bpt21cu118-cp311-cp311-linux_x86_64.whl (10.2 MB)\n",
            "\u001b[2K     \u001b[90m━━━━━━━━━━━━━━━━━━━━━━━━━━━━━━━━━━━━━━━━\u001b[0m \u001b[32m10.2/10.2 MB\u001b[0m \u001b[31m81.9 MB/s\u001b[0m eta \u001b[36m0:00:00\u001b[0m\n",
            "\u001b[?25hCollecting torch-sparse==0.6.18\n",
            "  Downloading https://data.pyg.org/whl/torch-2.1.0%2Bcu118/torch_sparse-0.6.18%2Bpt21cu118-cp311-cp311-linux_x86_64.whl (4.9 MB)\n",
            "\u001b[2K     \u001b[90m━━━━━━━━━━━━━━━━━━━━━━━━━━━━━━━━━━━━━━━━\u001b[0m \u001b[32m4.9/4.9 MB\u001b[0m \u001b[31m3.9 MB/s\u001b[0m eta \u001b[36m0:00:00\u001b[0m\n",
            "\u001b[?25hCollecting torch-geometric==2.4.0\n",
            "  Downloading torch_geometric-2.4.0-py3-none-any.whl.metadata (63 kB)\n",
            "\u001b[2K     \u001b[90m━━━━━━━━━━━━━━━━━━━━━━━━━━━━━━━━━━━━━━━━\u001b[0m \u001b[32m63.9/63.9 kB\u001b[0m \u001b[31m4.0 MB/s\u001b[0m eta \u001b[36m0:00:00\u001b[0m\n",
            "\u001b[?25hRequirement already satisfied: scipy in /usr/local/lib/python3.11/dist-packages (from torch-sparse==0.6.18) (1.13.1)\n",
            "Requirement already satisfied: tqdm in /usr/local/lib/python3.11/dist-packages (from torch-geometric==2.4.0) (4.67.1)\n",
            "Requirement already satisfied: numpy in /usr/local/lib/python3.11/dist-packages (from torch-geometric==2.4.0) (1.26.4)\n",
            "Requirement already satisfied: jinja2 in /usr/local/lib/python3.11/dist-packages (from torch-geometric==2.4.0) (3.1.5)\n",
            "Requirement already satisfied: requests in /usr/local/lib/python3.11/dist-packages (from torch-geometric==2.4.0) (2.32.3)\n",
            "Requirement already satisfied: pyparsing in /usr/local/lib/python3.11/dist-packages (from torch-geometric==2.4.0) (3.2.1)\n",
            "Requirement already satisfied: scikit-learn in /usr/local/lib/python3.11/dist-packages (from torch-geometric==2.4.0) (1.6.1)\n",
            "Requirement already satisfied: psutil>=5.8.0 in /usr/local/lib/python3.11/dist-packages (from torch-geometric==2.4.0) (5.9.5)\n",
            "Requirement already satisfied: MarkupSafe>=2.0 in /usr/local/lib/python3.11/dist-packages (from jinja2->torch-geometric==2.4.0) (3.0.2)\n",
            "Requirement already satisfied: charset-normalizer<4,>=2 in /usr/local/lib/python3.11/dist-packages (from requests->torch-geometric==2.4.0) (3.4.1)\n",
            "Requirement already satisfied: idna<4,>=2.5 in /usr/local/lib/python3.11/dist-packages (from requests->torch-geometric==2.4.0) (3.10)\n",
            "Requirement already satisfied: urllib3<3,>=1.21.1 in /usr/local/lib/python3.11/dist-packages (from requests->torch-geometric==2.4.0) (2.3.0)\n",
            "Requirement already satisfied: certifi>=2017.4.17 in /usr/local/lib/python3.11/dist-packages (from requests->torch-geometric==2.4.0) (2024.12.14)\n",
            "Requirement already satisfied: joblib>=1.2.0 in /usr/local/lib/python3.11/dist-packages (from scikit-learn->torch-geometric==2.4.0) (1.4.2)\n",
            "Requirement already satisfied: threadpoolctl>=3.1.0 in /usr/local/lib/python3.11/dist-packages (from scikit-learn->torch-geometric==2.4.0) (3.5.0)\n",
            "Downloading torch_geometric-2.4.0-py3-none-any.whl (1.0 MB)\n",
            "\u001b[2K   \u001b[90m━━━━━━━━━━━━━━━━━━━━━━━━━━━━━━━━━━━━━━━━\u001b[0m \u001b[32m1.0/1.0 MB\u001b[0m \u001b[31m38.9 MB/s\u001b[0m eta \u001b[36m0:00:00\u001b[0m\n",
            "\u001b[?25hInstalling collected packages: torch-scatter, torch-sparse, torch-geometric\n",
            "Successfully installed torch-geometric-2.4.0 torch-scatter-2.1.2+pt21cu118 torch-sparse-0.6.18+pt21cu118\n",
            "Collecting ninja\n",
            "  Downloading ninja-1.11.1.3-py3-none-manylinux_2_12_x86_64.manylinux2010_x86_64.whl.metadata (5.3 kB)\n",
            "Requirement already satisfied: easydict in /usr/local/lib/python3.11/dist-packages (1.13)\n",
            "Requirement already satisfied: pyyaml in /usr/local/lib/python3.11/dist-packages (6.0.2)\n",
            "Downloading ninja-1.11.1.3-py3-none-manylinux_2_12_x86_64.manylinux2010_x86_64.whl (422 kB)\n",
            "\u001b[2K   \u001b[90m━━━━━━━━━━━━━━━━━━━━━━━━━━━━━━━━━━━━━━━━\u001b[0m \u001b[32m422.9/422.9 kB\u001b[0m \u001b[31m17.9 MB/s\u001b[0m eta \u001b[36m0:00:00\u001b[0m\n",
            "\u001b[?25hInstalling collected packages: ninja\n",
            "Successfully installed ninja-1.11.1.3\n"
          ]
        }
      ]
    },
    {
      "cell_type": "markdown",
      "source": [
        "# Downloading ULTRA"
      ],
      "metadata": {
        "id": "brzBGNlZKfEk"
      }
    },
    {
      "cell_type": "code",
      "source": [
        "!git clone https://github.com/DeepGraphLearning/ULTRA.git"
      ],
      "metadata": {
        "colab": {
          "base_uri": "https://localhost:8080/"
        },
        "id": "LOBw4--CKg_Q",
        "outputId": "87d54ee9-2850-4f35-84f4-8d450e66ac03"
      },
      "execution_count": 2,
      "outputs": [
        {
          "output_type": "stream",
          "name": "stdout",
          "text": [
            "Cloning into 'ULTRA'...\n",
            "remote: Enumerating objects: 171, done.\u001b[K\n",
            "remote: Counting objects: 100% (79/79), done.\u001b[K\n",
            "remote: Compressing objects: 100% (21/21), done.\u001b[K\n",
            "remote: Total 171 (delta 61), reused 58 (delta 58), pack-reused 92 (from 1)\u001b[K\n",
            "Receiving objects: 100% (171/171), 7.62 MiB | 24.02 MiB/s, done.\n",
            "Resolving deltas: 100% (85/85), done.\n"
          ]
        }
      ]
    },
    {
      "cell_type": "markdown",
      "source": [
        "# Imports and Environment Setup"
      ],
      "metadata": {
        "id": "qe1eGvPLKk_e"
      }
    },
    {
      "cell_type": "code",
      "source": [
        "import sys\n",
        "import os\n",
        "import subprocess\n",
        "sys.path.insert(0,'/content/ULTRA')\n",
        "from ultra.datasets import InductiveDataset, IngramInductive"
      ],
      "metadata": {
        "id": "sUlt6E_6KmsU"
      },
      "execution_count": 3,
      "outputs": []
    },
    {
      "cell_type": "markdown",
      "source": [
        "# ULTRA Datasets Building"
      ],
      "metadata": {
        "id": "T4M71hD-KyYY"
      }
    },
    {
      "cell_type": "markdown",
      "source": [
        "In this section we are going to build our Custom Datasets. In particular, our datasets are built similarly to the ones used for testing Ingram. Thus, we are going to extend the class IngramInductive.\n",
        "\n",
        "The data will be downloaded from the public git repository we previously built."
      ],
      "metadata": {
        "id": "J65llEQfK2FR"
      }
    },
    {
      "cell_type": "markdown",
      "source": [
        "## F1 Dataset"
      ],
      "metadata": {
        "id": "8_Qmo5DbLJRr"
      }
    },
    {
      "cell_type": "code",
      "source": [
        "code = \"\"\"\n",
        "class F1DatasetInductiveIngram(IngramInductive):\n",
        "    urls = [\n",
        "        \"https://raw.githubusercontent.com/RiccardoRomeo01/BDATM_project_public_data/main/datasets/F1-%s/inductive/train.txt\",\n",
        "        \"https://raw.githubusercontent.com/RiccardoRomeo01/BDATM_project_public_data/main/datasets/F1-%s/inductive/inference_graph.txt\",\n",
        "        \"https://raw.githubusercontent.com/RiccardoRomeo01/BDATM_project_public_data/main/datasets/F1-%s/inductive/inference_valid.txt\",\n",
        "        \"https://raw.githubusercontent.com/RiccardoRomeo01/BDATM_project_public_data/main/datasets/F1-%s/inductive/inference_test.txt\",\n",
        "    ]\n",
        "    name = \"f1_dataInductive\"\n",
        "\"\"\"\n",
        "\n",
        "# We write add the new class to the datasets file of ULTRA in order to easily run the entire script\n",
        "with open('/content/ULTRA/ultra/datasets.py', 'r') as f:\n",
        "    content = f.read()\n",
        "\n",
        "if \"class F1DatasetInductiveIngram\" not in content:\n",
        "    with open('/content/ULTRA/ultra/datasets.py', 'a') as f:\n",
        "        f.write(code)"
      ],
      "metadata": {
        "id": "Z_bscPNmL4ia"
      },
      "execution_count": null,
      "outputs": []
    },
    {
      "cell_type": "markdown",
      "source": [
        "## H&M Dataset"
      ],
      "metadata": {
        "id": "BVQcU7XkS1h4"
      }
    },
    {
      "cell_type": "code",
      "source": [
        "code = \"\"\"\n",
        "class HMDatasetInductiveIngram(IngramInductive):\n",
        "    urls = [\n",
        "        \"https://raw.githubusercontent.com/RiccardoRomeo01/BDATM_project_public_data/main/datasets/HM-%s/inductive/train.txt\",\n",
        "        \"https://raw.githubusercontent.com/RiccardoRomeo01/BDATM_project_public_data/main/datasets/HM-%s/inductive/inference_graph.txt\",\n",
        "        \"https://raw.githubusercontent.com/RiccardoRomeo01/BDATM_project_public_data/main/datasets/HM-%s/inductive/inference_valid.txt\",\n",
        "        \"https://raw.githubusercontent.com/RiccardoRomeo01/BDATM_project_public_data/main/datasets/HM-%s/inductive/inference_test.txt\",\n",
        "    ]\n",
        "    name = \"hm_dataInductive\"\n",
        "\"\"\"\n",
        "\n",
        "# We write add the new class to the datasets file of ULTRA in order to easily run the entire script\n",
        "with open('/content/ULTRA/ultra/datasets.py', 'r') as f:\n",
        "    content = f.read()\n",
        "\n",
        "if \"class F1DatasetInductiveIngram\" not in content:\n",
        "    with open('/content/ULTRA/ultra/datasets.py', 'a') as f:\n",
        "        f.write(code)"
      ],
      "metadata": {
        "id": "K9wudM0PS3Oa"
      },
      "execution_count": 4,
      "outputs": []
    },
    {
      "cell_type": "markdown",
      "source": [
        "# Zero-Shot ULTRA Testing"
      ],
      "metadata": {
        "id": "gFdYnw4iMf7l"
      }
    },
    {
      "cell_type": "markdown",
      "source": [
        "In this section we are going to test ULTRA on our custom datasets.\n",
        "\n",
        "As we know, we can use any of the checkpoints in the ckpts directory given by ULTRA, thus, we are going to test ULTRA on several checkpoints."
      ],
      "metadata": {
        "id": "ObjlGZrGMmwf"
      }
    },
    {
      "cell_type": "markdown",
      "source": [
        "## Testing ULTRA on F1 Dataset"
      ],
      "metadata": {
        "id": "94dBiu19N7nY"
      }
    },
    {
      "cell_type": "markdown",
      "source": [
        "### Using ULTRA trained on 3 graphs\n"
      ],
      "metadata": {
        "id": "-EIhtX10OC6Y"
      }
    },
    {
      "cell_type": "markdown",
      "source": [
        "In this section we are going to use the checkpoint: `ultra_3g.pth`, which has been trained on three graphs: `FB15k237`, `WN18RR`, `CoDExMedium` for 800,000 steps."
      ],
      "metadata": {
        "id": "9hsPSmSdOWZx"
      }
    },
    {
      "cell_type": "code",
      "source": [
        "##### Here we setup the arguments used to run the script #####\n",
        "\n",
        "script_path = \"ULTRA/script/run.py\" # we want to run ULTRA on a single dataset\n",
        "config_path = \"ULTRA/config/inductive/inference.yaml\" # we want to test ULTRA on inference shot\n",
        "dataset = \"F1DatasetInductiveIngram\" # we want to use the F1 dataset\n",
        "version = \"v2\" # this is the version of input files\n",
        "epochs = 0 # we want to perform zero-shot, thus we impose zero training epochs\n",
        "bpe = \"null\" # batch-per-epochs\n",
        "gpus = \"[0]\" # we run the experimet on a single GPU\n",
        "checkpoint_path = \"/content/ULTRA/ckpts/ultra_3g.pth\" # we use ULTRA trained on 3 graphs"
      ],
      "metadata": {
        "id": "RfUX0ZLJO9bn"
      },
      "execution_count": null,
      "outputs": []
    },
    {
      "cell_type": "code",
      "source": [
        "!python {script_path} -c {config_path} --dataset {dataset} --version {version} --epochs {epochs} --bpe {bpe} --gpus {gpus} --ckpt {checkpoint_path}"
      ],
      "metadata": {
        "colab": {
          "base_uri": "https://localhost:8080/"
        },
        "id": "z9w9tP1Ah8NQ",
        "outputId": "b44faad7-d3fb-4040-fcdd-038cc9580210"
      },
      "execution_count": null,
      "outputs": [
        {
          "output_type": "stream",
          "name": "stdout",
          "text": [
            "16:12:24   Random seed: 1024\n",
            "16:12:24   Config file: ULTRA/config/inductive/inference.yaml\n",
            "16:12:24   {'checkpoint': '/content/ULTRA/ckpts/ultra_3g.pth',\n",
            " 'dataset': {'class': 'F1DatasetInductiveIngram',\n",
            "             'root': '~/git/ULTRA/kg-datasets/',\n",
            "             'version': 'v2'},\n",
            " 'model': {'class': 'Ultra',\n",
            "           'entity_model': {'aggregate_func': 'sum',\n",
            "                            'class': 'EntityNBFNet',\n",
            "                            'hidden_dims': [64, 64, 64, 64, 64, 64],\n",
            "                            'input_dim': 64,\n",
            "                            'layer_norm': True,\n",
            "                            'message_func': 'distmult',\n",
            "                            'short_cut': True},\n",
            "           'relation_model': {'aggregate_func': 'sum',\n",
            "                              'class': 'RelNBFNet',\n",
            "                              'hidden_dims': [64, 64, 64, 64, 64, 64],\n",
            "                              'input_dim': 64,\n",
            "                              'layer_norm': True,\n",
            "                              'message_func': 'distmult',\n",
            "                              'short_cut': True}},\n",
            " 'optimizer': {'class': 'AdamW', 'lr': 0.0005},\n",
            " 'output_dir': '~/git/ULTRA/output',\n",
            " 'task': {'adversarial_temperature': 1,\n",
            "          'metric': ['mr', 'mrr', 'hits@1', 'hits@3', 'hits@10', 'hits@10_50'],\n",
            "          'name': 'InductiveInference',\n",
            "          'num_negative': 256,\n",
            "          'strict_negative': True},\n",
            " 'train': {'batch_per_epoch': None,\n",
            "           'batch_size': 16,\n",
            "           'gpus': [0],\n",
            "           'log_interval': 100,\n",
            "           'num_epoch': 0}}\n",
            "Downloading https://raw.githubusercontent.com/RiccardoRomeo01/BDATM_project_public_data/main/datasets/F1-v2/inductive/train.txt\n",
            "Downloading https://raw.githubusercontent.com/RiccardoRomeo01/BDATM_project_public_data/main/datasets/F1-v2/inductive/inference_graph.txt\n",
            "Downloading https://raw.githubusercontent.com/RiccardoRomeo01/BDATM_project_public_data/main/datasets/F1-v2/inductive/inference_valid.txt\n",
            "Downloading https://raw.githubusercontent.com/RiccardoRomeo01/BDATM_project_public_data/main/datasets/F1-v2/inductive/inference_test.txt\n",
            "Processing...\n",
            "/content/ULTRA/ultra/tasks.py:181: UserWarning: Sparse CSR tensor support is in beta state. If you miss a functionality in the sparse tensor support, please submit a feature request to https://github.com/pytorch/pytorch/issues. (Triggered internally at ../aten/src/ATen/SparseCsrTensorImpl.cpp:53.)\n",
            "  Ahh = torch.sparse.mm(EhT, Eh).coalesce()\n",
            "Done!\n",
            "16:12:25   F1DatasetInductiveIngram(v2) dataset\n",
            "16:12:25   #train: 8671, #valid: 658, #test: 2033\n",
            "16:12:25   >>>>>>>>>>>>>>>>>>>>>>>>>>>>>>\n",
            "16:12:25   Evaluate on valid\n",
            "Load rspmm extension. This may take a while...\n",
            "16:14:12   mr: 2.33587\n",
            "16:14:12   mrr: 0.772117\n",
            "16:14:12   hits@1: 0.660334\n",
            "16:14:12   hits@3: 0.857143\n",
            "16:14:12   hits@10: 0.987082\n",
            "16:14:12   hits@10_50: 1\n",
            "16:14:12   >>>>>>>>>>>>>>>>>>>>>>>>>>>>>>\n",
            "16:14:12   Evaluate on test\n",
            "16:14:17   mr: 2.55263\n",
            "16:14:17   mrr: 0.764825\n",
            "16:14:17   hits@1: 0.650025\n",
            "16:14:17   hits@3: 0.859075\n",
            "16:14:17   hits@10: 0.981554\n",
            "16:14:17   hits@10_50: 1\n"
          ]
        }
      ]
    },
    {
      "cell_type": "markdown",
      "source": [
        "### Using ULTRA trained on 4 graphs"
      ],
      "metadata": {
        "id": "ijISP5bZQ1I-"
      }
    },
    {
      "cell_type": "markdown",
      "source": [
        "In this section we are going to use the checkpoint: `ultra_4g.pth`, which has been trained on three graphs: `FB15k237`, `WN18RR`, `CoDExMedium`, `NELL995` for 400,000 steps."
      ],
      "metadata": {
        "id": "PcYyRwtHQ3jS"
      }
    },
    {
      "cell_type": "code",
      "source": [
        "##### Here we setup the arguments used to run the script #####\n",
        "\n",
        "script_path = \"ULTRA/script/run.py\" # we want to run ULTRA on a single dataset\n",
        "config_path = \"ULTRA/config/inductive/inference.yaml\" # we want to test ULTRA on inference shot\n",
        "dataset = \"F1DatasetInductiveIngram\" # we want to use the F1 dataset\n",
        "version = \"v2\" # this is the version of input files\n",
        "epochs = 0 # we want to perform zero-shot, thus we impose zero training epochs\n",
        "bpe = \"null\" # batch-per-epochs\n",
        "gpus = \"[0]\" # we run the experimet on a single GPU\n",
        "checkpoint_path = \"/content/ULTRA/ckpts/ultra_4g.pth\" # we use ULTRA trained on 3 graphs"
      ],
      "metadata": {
        "id": "roG0vzaIQ_sx"
      },
      "execution_count": null,
      "outputs": []
    },
    {
      "cell_type": "code",
      "source": [
        "!python {script_path} -c {config_path} --dataset {dataset} --version {version} --epochs {epochs} --bpe {bpe} --gpus {gpus} --ckpt {checkpoint_path}"
      ],
      "metadata": {
        "id": "PRaOe1SyRDUZ",
        "colab": {
          "base_uri": "https://localhost:8080/"
        },
        "outputId": "46936c9a-9ba4-4324-f8e1-8e5e7f60bcc1"
      },
      "execution_count": null,
      "outputs": [
        {
          "output_type": "stream",
          "name": "stdout",
          "text": [
            "16:24:50   Random seed: 1024\n",
            "16:24:50   Config file: ULTRA/config/inductive/inference.yaml\n",
            "16:24:50   {'checkpoint': '/content/ULTRA/ckpts/ultra_4g.pth',\n",
            " 'dataset': {'class': 'F1DatasetInductiveIngram',\n",
            "             'root': '~/git/ULTRA/kg-datasets/',\n",
            "             'version': 'v2'},\n",
            " 'model': {'class': 'Ultra',\n",
            "           'entity_model': {'aggregate_func': 'sum',\n",
            "                            'class': 'EntityNBFNet',\n",
            "                            'hidden_dims': [64, 64, 64, 64, 64, 64],\n",
            "                            'input_dim': 64,\n",
            "                            'layer_norm': True,\n",
            "                            'message_func': 'distmult',\n",
            "                            'short_cut': True},\n",
            "           'relation_model': {'aggregate_func': 'sum',\n",
            "                              'class': 'RelNBFNet',\n",
            "                              'hidden_dims': [64, 64, 64, 64, 64, 64],\n",
            "                              'input_dim': 64,\n",
            "                              'layer_norm': True,\n",
            "                              'message_func': 'distmult',\n",
            "                              'short_cut': True}},\n",
            " 'optimizer': {'class': 'AdamW', 'lr': 0.0005},\n",
            " 'output_dir': '~/git/ULTRA/output',\n",
            " 'task': {'adversarial_temperature': 1,\n",
            "          'metric': ['mr', 'mrr', 'hits@1', 'hits@3', 'hits@10', 'hits@10_50'],\n",
            "          'name': 'InductiveInference',\n",
            "          'num_negative': 256,\n",
            "          'strict_negative': True},\n",
            " 'train': {'batch_per_epoch': None,\n",
            "           'batch_size': 16,\n",
            "           'gpus': [0],\n",
            "           'log_interval': 100,\n",
            "           'num_epoch': 0}}\n",
            "Downloading https://raw.githubusercontent.com/RiccardoRomeo01/BDATM_project_public_data/main/datasets/F1-v2/inductive/train.txt\n",
            "Downloading https://raw.githubusercontent.com/RiccardoRomeo01/BDATM_project_public_data/main/datasets/F1-v2/inductive/inference_graph.txt\n",
            "Downloading https://raw.githubusercontent.com/RiccardoRomeo01/BDATM_project_public_data/main/datasets/F1-v2/inductive/inference_valid.txt\n",
            "Downloading https://raw.githubusercontent.com/RiccardoRomeo01/BDATM_project_public_data/main/datasets/F1-v2/inductive/inference_test.txt\n",
            "Processing...\n",
            "/content/ULTRA/ultra/tasks.py:181: UserWarning: Sparse CSR tensor support is in beta state. If you miss a functionality in the sparse tensor support, please submit a feature request to https://github.com/pytorch/pytorch/issues. (Triggered internally at ../aten/src/ATen/SparseCsrTensorImpl.cpp:53.)\n",
            "  Ahh = torch.sparse.mm(EhT, Eh).coalesce()\n",
            "Done!\n",
            "16:24:51   F1DatasetInductiveIngram(v2) dataset\n",
            "16:24:51   #train: 8671, #valid: 658, #test: 2033\n",
            "16:24:52   >>>>>>>>>>>>>>>>>>>>>>>>>>>>>>\n",
            "16:24:52   Evaluate on valid\n",
            "Load rspmm extension. This may take a while...\n",
            "16:26:40   mr: 1.33967\n",
            "16:26:40   mrr: 0.901073\n",
            "16:26:40   hits@1: 0.846505\n",
            "16:26:40   hits@3: 0.943769\n",
            "16:26:40   hits@10: 1\n",
            "16:26:41   hits@10_50: 1\n",
            "16:26:41   >>>>>>>>>>>>>>>>>>>>>>>>>>>>>>\n",
            "16:26:41   Evaluate on test\n",
            "16:26:46   mr: 1.3003\n",
            "16:26:46   mrr: 0.908957\n",
            "16:26:46   hits@1: 0.855386\n",
            "16:26:46   hits@3: 0.957944\n",
            "16:26:46   hits@10: 1\n",
            "16:26:46   hits@10_50: 1\n"
          ]
        }
      ]
    },
    {
      "cell_type": "markdown",
      "source": [
        "## Testing ULTRA on H&M Dataset"
      ],
      "metadata": {
        "id": "xDAUyytSSqbP"
      }
    },
    {
      "cell_type": "markdown",
      "source": [
        "### Using ULTRA trained on 3 graphs"
      ],
      "metadata": {
        "id": "2hXqRlWmSvjO"
      }
    },
    {
      "cell_type": "code",
      "source": [
        "##### Here we setup the arguments used to run the script #####\n",
        "\n",
        "script_path = \"ULTRA/script/run.py\" # we want to run ULTRA on a single dataset\n",
        "config_path = \"ULTRA/config/inductive/inference.yaml\" # we want to test ULTRA on inference shot\n",
        "dataset = \"HMDatasetInductiveIngram\" # we want to use the F1 dataset\n",
        "version = \"v1\" # this is the version of input files\n",
        "epochs = 0 # we want to perform zero-shot, thus we impose zero training epochs\n",
        "bpe = \"null\" # batch-per-epochs\n",
        "gpus = \"[0]\" # we run the experimet on a single GPU\n",
        "checkpoint_path = \"/content/ULTRA/ckpts/ultra_3g.pth\" # we use ULTRA trained on 3 graphs"
      ],
      "metadata": {
        "id": "K6PL5zwWTH2Q"
      },
      "execution_count": 5,
      "outputs": []
    },
    {
      "cell_type": "code",
      "source": [
        "!python {script_path} -c {config_path} --dataset {dataset} --version {version} --epochs {epochs} --bpe {bpe} --gpus {gpus} --ckpt {checkpoint_path}"
      ],
      "metadata": {
        "colab": {
          "base_uri": "https://localhost:8080/"
        },
        "id": "8Sr-6hhITJz3",
        "outputId": "06499c5a-f607-48b9-90e1-aab4130cc053"
      },
      "execution_count": 6,
      "outputs": [
        {
          "output_type": "stream",
          "name": "stdout",
          "text": [
            "16:36:17   Random seed: 1024\n",
            "16:36:17   Config file: ULTRA/config/inductive/inference.yaml\n",
            "16:36:17   {'checkpoint': '/content/ULTRA/ckpts/ultra_3g.pth',\n",
            " 'dataset': {'class': 'HMDatasetInductiveIngram',\n",
            "             'root': '~/git/ULTRA/kg-datasets/',\n",
            "             'version': 'v1'},\n",
            " 'model': {'class': 'Ultra',\n",
            "           'entity_model': {'aggregate_func': 'sum',\n",
            "                            'class': 'EntityNBFNet',\n",
            "                            'hidden_dims': [64, 64, 64, 64, 64, 64],\n",
            "                            'input_dim': 64,\n",
            "                            'layer_norm': True,\n",
            "                            'message_func': 'distmult',\n",
            "                            'short_cut': True},\n",
            "           'relation_model': {'aggregate_func': 'sum',\n",
            "                              'class': 'RelNBFNet',\n",
            "                              'hidden_dims': [64, 64, 64, 64, 64, 64],\n",
            "                              'input_dim': 64,\n",
            "                              'layer_norm': True,\n",
            "                              'message_func': 'distmult',\n",
            "                              'short_cut': True}},\n",
            " 'optimizer': {'class': 'AdamW', 'lr': 0.0005},\n",
            " 'output_dir': '~/git/ULTRA/output',\n",
            " 'task': {'adversarial_temperature': 1,\n",
            "          'metric': ['mr', 'mrr', 'hits@1', 'hits@3', 'hits@10', 'hits@10_50'],\n",
            "          'name': 'InductiveInference',\n",
            "          'num_negative': 256,\n",
            "          'strict_negative': True},\n",
            " 'train': {'batch_per_epoch': None,\n",
            "           'batch_size': 16,\n",
            "           'gpus': [0],\n",
            "           'log_interval': 100,\n",
            "           'num_epoch': 0}}\n",
            "Downloading https://raw.githubusercontent.com/RiccardoRomeo01/BDATM_project_public_data/main/datasets/HM-v1/inductive/train.txt\n",
            "Downloading https://raw.githubusercontent.com/RiccardoRomeo01/BDATM_project_public_data/main/datasets/HM-v1/inductive/inference_graph.txt\n",
            "Downloading https://raw.githubusercontent.com/RiccardoRomeo01/BDATM_project_public_data/main/datasets/HM-v1/inductive/inference_valid.txt\n",
            "Downloading https://raw.githubusercontent.com/RiccardoRomeo01/BDATM_project_public_data/main/datasets/HM-v1/inductive/inference_test.txt\n",
            "Processing...\n",
            "/content/ULTRA/ultra/tasks.py:181: UserWarning: Sparse CSR tensor support is in beta state. If you miss a functionality in the sparse tensor support, please submit a feature request to https://github.com/pytorch/pytorch/issues. (Triggered internally at ../aten/src/ATen/SparseCsrTensorImpl.cpp:53.)\n",
            "  Ahh = torch.sparse.mm(EhT, Eh).coalesce()\n",
            "Done!\n",
            "16:36:21   HMDatasetInductiveIngram(v1) dataset\n",
            "16:36:21   #train: 3032, #valid: 682, #test: 2102\n",
            "16:36:21   >>>>>>>>>>>>>>>>>>>>>>>>>>>>>>\n",
            "16:36:21   Evaluate on valid\n",
            "Load rspmm extension. This may take a while...\n",
            "16:38:08   mr: 1\n",
            "16:38:08   mrr: 1\n",
            "16:38:08   hits@1: 1\n",
            "16:38:08   hits@3: 1\n",
            "16:38:08   hits@10: 1\n",
            "16:38:08   hits@10_50: 1\n",
            "16:38:08   >>>>>>>>>>>>>>>>>>>>>>>>>>>>>>\n",
            "16:38:08   Evaluate on test\n",
            "16:38:16   mr: 1\n",
            "16:38:16   mrr: 1\n",
            "16:38:16   hits@1: 1\n",
            "16:38:16   hits@3: 1\n",
            "16:38:16   hits@10: 1\n",
            "16:38:16   hits@10_50: 1\n"
          ]
        }
      ]
    },
    {
      "cell_type": "markdown",
      "source": [
        "### Using ULTRA trained on 4 graphs"
      ],
      "metadata": {
        "id": "x0zeM6PJSwFp"
      }
    },
    {
      "cell_type": "code",
      "source": [
        "##### Here we setup the arguments used to run the script #####\n",
        "\n",
        "script_path = \"ULTRA/script/run.py\" # we want to run ULTRA on a single dataset\n",
        "config_path = \"ULTRA/config/inductive/inference.yaml\" # we want to test ULTRA on inference shot\n",
        "dataset = \"HMDatasetInductiveIngram\" # we want to use the F1 dataset\n",
        "version = \"v1\" # this is the version of input files\n",
        "epochs = 0 # we want to perform zero-shot, thus we impose zero training epochs\n",
        "bpe = \"null\" # batch-per-epochs\n",
        "gpus = \"[0]\" # we run the experimet on a single GPU\n",
        "checkpoint_path = \"/content/ULTRA/ckpts/ultra_4g.pth\" # we use ULTRA trained on 4 graphs"
      ],
      "metadata": {
        "id": "Gvsqp9URTOIx"
      },
      "execution_count": 5,
      "outputs": []
    },
    {
      "cell_type": "code",
      "source": [
        "!python {script_path} -c {config_path} --dataset {dataset} --version {version} --epochs {epochs} --bpe {bpe} --gpus {gpus} --ckpt {checkpoint_path}"
      ],
      "metadata": {
        "colab": {
          "base_uri": "https://localhost:8080/"
        },
        "id": "YgQWAoDETQra",
        "outputId": "2c2c6402-463b-4db6-d365-51955cd6edcb"
      },
      "execution_count": 6,
      "outputs": [
        {
          "output_type": "stream",
          "name": "stdout",
          "text": [
            "17:06:53   Random seed: 1024\n",
            "17:06:53   Config file: ULTRA/config/inductive/inference.yaml\n",
            "17:06:53   {'checkpoint': '/content/ULTRA/ckpts/ultra_4g.pth',\n",
            " 'dataset': {'class': 'HMDatasetInductiveIngram',\n",
            "             'root': '~/git/ULTRA/kg-datasets/',\n",
            "             'version': 'v1'},\n",
            " 'model': {'class': 'Ultra',\n",
            "           'entity_model': {'aggregate_func': 'sum',\n",
            "                            'class': 'EntityNBFNet',\n",
            "                            'hidden_dims': [64, 64, 64, 64, 64, 64],\n",
            "                            'input_dim': 64,\n",
            "                            'layer_norm': True,\n",
            "                            'message_func': 'distmult',\n",
            "                            'short_cut': True},\n",
            "           'relation_model': {'aggregate_func': 'sum',\n",
            "                              'class': 'RelNBFNet',\n",
            "                              'hidden_dims': [64, 64, 64, 64, 64, 64],\n",
            "                              'input_dim': 64,\n",
            "                              'layer_norm': True,\n",
            "                              'message_func': 'distmult',\n",
            "                              'short_cut': True}},\n",
            " 'optimizer': {'class': 'AdamW', 'lr': 0.0005},\n",
            " 'output_dir': '~/git/ULTRA/output',\n",
            " 'task': {'adversarial_temperature': 1,\n",
            "          'metric': ['mr', 'mrr', 'hits@1', 'hits@3', 'hits@10', 'hits@10_50'],\n",
            "          'name': 'InductiveInference',\n",
            "          'num_negative': 256,\n",
            "          'strict_negative': True},\n",
            " 'train': {'batch_per_epoch': None,\n",
            "           'batch_size': 16,\n",
            "           'gpus': [0],\n",
            "           'log_interval': 100,\n",
            "           'num_epoch': 0}}\n",
            "Downloading https://raw.githubusercontent.com/RiccardoRomeo01/BDATM_project_public_data/main/datasets/HM-v1/inductive/train.txt\n",
            "Downloading https://raw.githubusercontent.com/RiccardoRomeo01/BDATM_project_public_data/main/datasets/HM-v1/inductive/inference_graph.txt\n",
            "Downloading https://raw.githubusercontent.com/RiccardoRomeo01/BDATM_project_public_data/main/datasets/HM-v1/inductive/inference_valid.txt\n",
            "Downloading https://raw.githubusercontent.com/RiccardoRomeo01/BDATM_project_public_data/main/datasets/HM-v1/inductive/inference_test.txt\n",
            "Processing...\n",
            "/content/ULTRA/ultra/tasks.py:181: UserWarning: Sparse CSR tensor support is in beta state. If you miss a functionality in the sparse tensor support, please submit a feature request to https://github.com/pytorch/pytorch/issues. (Triggered internally at ../aten/src/ATen/SparseCsrTensorImpl.cpp:53.)\n",
            "  Ahh = torch.sparse.mm(EhT, Eh).coalesce()\n",
            "Done!\n",
            "17:06:54   HMDatasetInductiveIngram(v1) dataset\n",
            "17:06:54   #train: 3032, #valid: 682, #test: 2102\n",
            "17:06:55   >>>>>>>>>>>>>>>>>>>>>>>>>>>>>>\n",
            "17:06:55   Evaluate on valid\n",
            "Load rspmm extension. This may take a while...\n",
            "17:08:53   mr: 1\n",
            "17:08:53   mrr: 1\n",
            "17:08:53   hits@1: 1\n",
            "17:08:53   hits@3: 1\n",
            "17:08:53   hits@10: 1\n",
            "17:08:53   hits@10_50: 1\n",
            "17:08:53   >>>>>>>>>>>>>>>>>>>>>>>>>>>>>>\n",
            "17:08:53   Evaluate on test\n",
            "17:09:01   mr: 1\n",
            "17:09:01   mrr: 1\n",
            "17:09:01   hits@1: 1\n",
            "17:09:01   hits@3: 1\n",
            "17:09:01   hits@10: 1\n",
            "17:09:01   hits@10_50: 1\n"
          ]
        }
      ]
    },
    {
      "cell_type": "markdown",
      "source": [
        "# Fine-Tuning ULTRA"
      ],
      "metadata": {
        "id": "s4BUJlHaSCCa"
      }
    },
    {
      "cell_type": "markdown",
      "source": [
        "## Testing ULTRA on F1 Dataset"
      ],
      "metadata": {
        "id": "kwjS3iGATGxj"
      }
    },
    {
      "cell_type": "markdown",
      "source": [
        "### Using ULTRA trained on 3 graphs"
      ],
      "metadata": {
        "id": "zuTFCTzoTHV5"
      }
    },
    {
      "cell_type": "markdown",
      "source": [
        "In this section we are going to use the checkpoint: `ultra_3g.pth`, which has been trained on three graphs: `FB15k237`, `WN18RR`, `CoDExMedium` for 800,000 steps."
      ],
      "metadata": {
        "id": "7zmqLfKcTO6f"
      }
    },
    {
      "cell_type": "code",
      "source": [
        "##### Here we setup the arguments used to run the script #####\n",
        "\n",
        "script_path = \"ULTRA/script/run.py\" # we want to run ULTRA on a single dataset\n",
        "config_path = \"ULTRA/config/inductive/inference.yaml\" # we want to test ULTRA on inference shot\n",
        "dataset = \"F1DatasetInductiveIngram\" # we want to use the F1 dataset\n",
        "version = \"v2\" # this is the version of input files\n",
        "epochs = 5 # we want to perform pre-training, thus we impose a certain number of epochs\n",
        "bpe = 100 # batch-per-epochs\n",
        "gpus = \"[0]\" # we run the experimet on a single GPU\n",
        "checkpoint_path = \"/content/ULTRA/ckpts/ultra_3g.pth\" # we use ULTRA trained on 3 graphs"
      ],
      "metadata": {
        "id": "OQMlFLuLTTw0"
      },
      "execution_count": null,
      "outputs": []
    },
    {
      "cell_type": "code",
      "source": [
        "!python {script_path} -c {config_path} --dataset {dataset} --version {version} --epochs {epochs} --bpe {bpe} --gpus {gpus} --ckpt {checkpoint_path}"
      ],
      "metadata": {
        "id": "RzIPLmLdTn_5",
        "colab": {
          "base_uri": "https://localhost:8080/"
        },
        "outputId": "c6917286-657f-4944-fdfe-658918fbc611"
      },
      "execution_count": null,
      "outputs": [
        {
          "output_type": "stream",
          "name": "stdout",
          "text": [
            "16:30:36   Random seed: 1024\n",
            "16:30:36   Config file: ULTRA/config/inductive/inference.yaml\n",
            "16:30:36   {'checkpoint': '/content/ULTRA/ckpts/ultra_3g.pth',\n",
            " 'dataset': {'class': 'F1DatasetInductiveIngram',\n",
            "             'root': '~/git/ULTRA/kg-datasets/',\n",
            "             'version': 'v2'},\n",
            " 'model': {'class': 'Ultra',\n",
            "           'entity_model': {'aggregate_func': 'sum',\n",
            "                            'class': 'EntityNBFNet',\n",
            "                            'hidden_dims': [64, 64, 64, 64, 64, 64],\n",
            "                            'input_dim': 64,\n",
            "                            'layer_norm': True,\n",
            "                            'message_func': 'distmult',\n",
            "                            'short_cut': True},\n",
            "           'relation_model': {'aggregate_func': 'sum',\n",
            "                              'class': 'RelNBFNet',\n",
            "                              'hidden_dims': [64, 64, 64, 64, 64, 64],\n",
            "                              'input_dim': 64,\n",
            "                              'layer_norm': True,\n",
            "                              'message_func': 'distmult',\n",
            "                              'short_cut': True}},\n",
            " 'optimizer': {'class': 'AdamW', 'lr': 0.0005},\n",
            " 'output_dir': '~/git/ULTRA/output',\n",
            " 'task': {'adversarial_temperature': 1,\n",
            "          'metric': ['mr', 'mrr', 'hits@1', 'hits@3', 'hits@10', 'hits@10_50'],\n",
            "          'name': 'InductiveInference',\n",
            "          'num_negative': 256,\n",
            "          'strict_negative': True},\n",
            " 'train': {'batch_per_epoch': 100,\n",
            "           'batch_size': 16,\n",
            "           'gpus': [0],\n",
            "           'log_interval': 100,\n",
            "           'num_epoch': 5}}\n",
            "Downloading https://raw.githubusercontent.com/RiccardoRomeo01/BDATM_project_public_data/main/datasets/F1-v2/inductive/train.txt\n",
            "Downloading https://raw.githubusercontent.com/RiccardoRomeo01/BDATM_project_public_data/main/datasets/F1-v2/inductive/inference_graph.txt\n",
            "Downloading https://raw.githubusercontent.com/RiccardoRomeo01/BDATM_project_public_data/main/datasets/F1-v2/inductive/inference_valid.txt\n",
            "Downloading https://raw.githubusercontent.com/RiccardoRomeo01/BDATM_project_public_data/main/datasets/F1-v2/inductive/inference_test.txt\n",
            "Processing...\n",
            "/content/ULTRA/ultra/tasks.py:181: UserWarning: Sparse CSR tensor support is in beta state. If you miss a functionality in the sparse tensor support, please submit a feature request to https://github.com/pytorch/pytorch/issues. (Triggered internally at ../aten/src/ATen/SparseCsrTensorImpl.cpp:53.)\n",
            "  Ahh = torch.sparse.mm(EhT, Eh).coalesce()\n",
            "Done!\n",
            "16:30:37   F1DatasetInductiveIngram(v2) dataset\n",
            "16:30:37   #train: 8671, #valid: 658, #test: 2033\n",
            "16:30:37   ------------------------------\n",
            "16:30:37   Number of parameters: 168705\n",
            "16:30:37   >>>>>>>>>>>>>>>>>>>>>>>>>>>>>>\n",
            "16:30:37   Epoch 0 begin\n",
            "Load rspmm extension. This may take a while...\n",
            "16:32:20   >>>>>>>>>>>>>>>>>>>>>>>>>>>>>>\n",
            "16:32:20   binary cross entropy: 1.61979\n",
            "16:32:29   >>>>>>>>>>>>>>>>>>>>>>>>>>>>>>\n",
            "16:32:29   Epoch 0 end\n",
            "16:32:29   ------------------------------\n",
            "16:32:29   average binary cross entropy: 0.496938\n",
            "16:32:29   Save checkpoint to model_epoch_1.pth\n",
            "16:32:29   >>>>>>>>>>>>>>>>>>>>>>>>>>>>>>\n",
            "16:32:29   Evaluate on valid\n",
            "16:32:31   mr: 4.34422\n",
            "16:32:31   mrr: 0.72392\n",
            "16:32:31   hits@1: 0.609423\n",
            "16:32:31   hits@3: 0.800912\n",
            "16:32:31   hits@10: 0.955927\n",
            "16:32:31   hits@10_50: 0.999994\n",
            "16:32:31   >>>>>>>>>>>>>>>>>>>>>>>>>>>>>>\n",
            "16:32:31   Epoch 1 begin\n",
            "16:32:31   >>>>>>>>>>>>>>>>>>>>>>>>>>>>>>\n",
            "16:32:31   binary cross entropy: 0.444981\n",
            "16:32:40   >>>>>>>>>>>>>>>>>>>>>>>>>>>>>>\n",
            "16:32:40   Epoch 1 end\n",
            "16:32:40   ------------------------------\n",
            "16:32:40   average binary cross entropy: 0.471581\n",
            "16:32:40   Save checkpoint to model_epoch_2.pth\n",
            "16:32:40   >>>>>>>>>>>>>>>>>>>>>>>>>>>>>>\n",
            "16:32:40   Evaluate on valid\n",
            "16:32:42   mr: 1.78267\n",
            "16:32:42   mrr: 0.812395\n",
            "16:32:42   hits@1: 0.721125\n",
            "16:32:42   hits@3: 0.882219\n",
            "16:32:42   hits@10: 0.989362\n",
            "16:32:42   hits@10_50: 1\n",
            "16:32:42   >>>>>>>>>>>>>>>>>>>>>>>>>>>>>>\n",
            "16:32:42   Epoch 2 begin\n",
            "16:32:42   >>>>>>>>>>>>>>>>>>>>>>>>>>>>>>\n",
            "16:32:42   binary cross entropy: 0.485796\n",
            "16:32:51   >>>>>>>>>>>>>>>>>>>>>>>>>>>>>>\n",
            "16:32:51   Epoch 2 end\n",
            "16:32:51   ------------------------------\n",
            "16:32:51   average binary cross entropy: 0.469782\n",
            "16:32:51   Save checkpoint to model_epoch_3.pth\n",
            "16:32:51   >>>>>>>>>>>>>>>>>>>>>>>>>>>>>>\n",
            "16:32:51   Evaluate on valid\n",
            "16:32:53   mr: 1.56535\n",
            "16:32:53   mrr: 0.84312\n",
            "16:32:53   hits@1: 0.762918\n",
            "16:32:53   hits@3: 0.905015\n",
            "16:32:53   hits@10: 1\n",
            "16:32:53   hits@10_50: 1\n",
            "16:32:53   >>>>>>>>>>>>>>>>>>>>>>>>>>>>>>\n",
            "16:32:53   Epoch 3 begin\n",
            "16:32:53   >>>>>>>>>>>>>>>>>>>>>>>>>>>>>>\n",
            "16:32:53   binary cross entropy: 0.3936\n",
            "16:33:02   >>>>>>>>>>>>>>>>>>>>>>>>>>>>>>\n",
            "16:33:02   Epoch 3 end\n",
            "16:33:02   ------------------------------\n",
            "16:33:02   average binary cross entropy: 0.476721\n",
            "16:33:02   Save checkpoint to model_epoch_4.pth\n",
            "16:33:02   >>>>>>>>>>>>>>>>>>>>>>>>>>>>>>\n",
            "16:33:02   Evaluate on valid\n",
            "16:33:04   mr: 1.79027\n",
            "16:33:04   mrr: 0.810513\n",
            "16:33:04   hits@1: 0.718085\n",
            "16:33:04   hits@3: 0.880699\n",
            "16:33:04   hits@10: 0.988602\n",
            "16:33:04   hits@10_50: 1\n",
            "16:33:04   >>>>>>>>>>>>>>>>>>>>>>>>>>>>>>\n",
            "16:33:04   Epoch 4 begin\n",
            "16:33:04   >>>>>>>>>>>>>>>>>>>>>>>>>>>>>>\n",
            "16:33:04   binary cross entropy: 0.421942\n",
            "16:33:13   >>>>>>>>>>>>>>>>>>>>>>>>>>>>>>\n",
            "16:33:13   Epoch 4 end\n",
            "16:33:13   ------------------------------\n",
            "16:33:13   average binary cross entropy: 0.478704\n",
            "16:33:13   Save checkpoint to model_epoch_5.pth\n",
            "16:33:13   >>>>>>>>>>>>>>>>>>>>>>>>>>>>>>\n",
            "16:33:13   Evaluate on valid\n",
            "16:33:15   mr: 1.56155\n",
            "16:33:15   mrr: 0.842754\n",
            "16:33:15   hits@1: 0.761398\n",
            "16:33:15   hits@3: 0.905015\n",
            "16:33:15   hits@10: 1\n",
            "16:33:15   hits@10_50: 1\n",
            "16:33:15   Load checkpoint from model_epoch_3.pth\n",
            "16:33:15   >>>>>>>>>>>>>>>>>>>>>>>>>>>>>>\n",
            "16:33:15   Evaluate on valid\n",
            "16:33:17   mr: 1.56535\n",
            "16:33:17   mrr: 0.84312\n",
            "16:33:17   hits@1: 0.762918\n",
            "16:33:17   hits@3: 0.905015\n",
            "16:33:17   hits@10: 1\n",
            "16:33:17   hits@10_50: 1\n",
            "16:33:17   >>>>>>>>>>>>>>>>>>>>>>>>>>>>>>\n",
            "16:33:17   Evaluate on test\n",
            "16:33:22   mr: 1.55386\n",
            "16:33:22   mrr: 0.841141\n",
            "16:33:22   hits@1: 0.757501\n",
            "16:33:22   hits@3: 0.911707\n",
            "16:33:22   hits@10: 1\n",
            "16:33:22   hits@10_50: 1\n"
          ]
        }
      ]
    },
    {
      "cell_type": "markdown",
      "source": [
        "### Using ULTRA trained on 4 graphs"
      ],
      "metadata": {
        "id": "4t1H2R6BTI7f"
      }
    },
    {
      "cell_type": "markdown",
      "source": [
        "In this section we are going to use the checkpoint: `ultra_4g.pth`, which has been trained on three graphs: `FB15k237`, `WN18RR`, `CoDExMedium`, `NELL995` for 400,000 steps."
      ],
      "metadata": {
        "id": "D1oM_A8OTPgD"
      }
    },
    {
      "cell_type": "code",
      "source": [
        "##### Here we setup the arguments used to run the script #####\n",
        "\n",
        "script_path = \"ULTRA/script/run.py\" # we want to run ULTRA on a single dataset\n",
        "config_path = \"ULTRA/config/inductive/inference.yaml\" # we want to test ULTRA on inference shot\n",
        "dataset = \"F1DatasetInductiveIngram\" # we want to use the F1 dataset\n",
        "version = \"v2\" # this is the version of input files\n",
        "epochs = 5 # we want to perform pre-training, thus we impose a certain number of epochs\n",
        "bpe = 100 # batch-per-epochs\n",
        "gpus = \"[0]\" # we run the experimet on a single GPU\n",
        "checkpoint_path = \"/content/ULTRA/ckpts/ultra_4g.pth\" # we use ULTRA trained on 4 graphs"
      ],
      "metadata": {
        "id": "67UYUAyiTecM"
      },
      "execution_count": null,
      "outputs": []
    },
    {
      "cell_type": "code",
      "source": [
        "!python {script_path} -c {config_path} --dataset {dataset} --version {version} --epochs {epochs} --bpe {bpe} --gpus {gpus} --ckpt {checkpoint_path}"
      ],
      "metadata": {
        "id": "ZUPZQMHiTojD",
        "colab": {
          "base_uri": "https://localhost:8080/"
        },
        "outputId": "6898914f-abfe-42f0-c699-74f33513e131"
      },
      "execution_count": null,
      "outputs": [
        {
          "output_type": "stream",
          "name": "stdout",
          "text": [
            "16:37:16   Random seed: 1024\n",
            "16:37:16   Config file: ULTRA/config/inductive/inference.yaml\n",
            "16:37:16   {'checkpoint': '/content/ULTRA/ckpts/ultra_4g.pth',\n",
            " 'dataset': {'class': 'F1DatasetInductiveIngram',\n",
            "             'root': '~/git/ULTRA/kg-datasets/',\n",
            "             'version': 'v2'},\n",
            " 'model': {'class': 'Ultra',\n",
            "           'entity_model': {'aggregate_func': 'sum',\n",
            "                            'class': 'EntityNBFNet',\n",
            "                            'hidden_dims': [64, 64, 64, 64, 64, 64],\n",
            "                            'input_dim': 64,\n",
            "                            'layer_norm': True,\n",
            "                            'message_func': 'distmult',\n",
            "                            'short_cut': True},\n",
            "           'relation_model': {'aggregate_func': 'sum',\n",
            "                              'class': 'RelNBFNet',\n",
            "                              'hidden_dims': [64, 64, 64, 64, 64, 64],\n",
            "                              'input_dim': 64,\n",
            "                              'layer_norm': True,\n",
            "                              'message_func': 'distmult',\n",
            "                              'short_cut': True}},\n",
            " 'optimizer': {'class': 'AdamW', 'lr': 0.0005},\n",
            " 'output_dir': '~/git/ULTRA/output',\n",
            " 'task': {'adversarial_temperature': 1,\n",
            "          'metric': ['mr', 'mrr', 'hits@1', 'hits@3', 'hits@10', 'hits@10_50'],\n",
            "          'name': 'InductiveInference',\n",
            "          'num_negative': 256,\n",
            "          'strict_negative': True},\n",
            " 'train': {'batch_per_epoch': 100,\n",
            "           'batch_size': 16,\n",
            "           'gpus': [0],\n",
            "           'log_interval': 100,\n",
            "           'num_epoch': 5}}\n",
            "Downloading https://raw.githubusercontent.com/RiccardoRomeo01/BDATM_project_public_data/main/datasets/F1-v2/inductive/train.txt\n",
            "Downloading https://raw.githubusercontent.com/RiccardoRomeo01/BDATM_project_public_data/main/datasets/F1-v2/inductive/inference_graph.txt\n",
            "Downloading https://raw.githubusercontent.com/RiccardoRomeo01/BDATM_project_public_data/main/datasets/F1-v2/inductive/inference_valid.txt\n",
            "Downloading https://raw.githubusercontent.com/RiccardoRomeo01/BDATM_project_public_data/main/datasets/F1-v2/inductive/inference_test.txt\n",
            "Processing...\n",
            "/content/ULTRA/ultra/tasks.py:181: UserWarning: Sparse CSR tensor support is in beta state. If you miss a functionality in the sparse tensor support, please submit a feature request to https://github.com/pytorch/pytorch/issues. (Triggered internally at ../aten/src/ATen/SparseCsrTensorImpl.cpp:53.)\n",
            "  Ahh = torch.sparse.mm(EhT, Eh).coalesce()\n",
            "Done!\n",
            "16:37:17   F1DatasetInductiveIngram(v2) dataset\n",
            "16:37:17   #train: 8671, #valid: 658, #test: 2033\n",
            "16:37:17   ------------------------------\n",
            "16:37:17   Number of parameters: 168705\n",
            "16:37:17   >>>>>>>>>>>>>>>>>>>>>>>>>>>>>>\n",
            "16:37:17   Epoch 0 begin\n",
            "Load rspmm extension. This may take a while...\n",
            "16:39:00   >>>>>>>>>>>>>>>>>>>>>>>>>>>>>>\n",
            "16:39:00   binary cross entropy: 0.901366\n",
            "16:39:09   >>>>>>>>>>>>>>>>>>>>>>>>>>>>>>\n",
            "16:39:09   Epoch 0 end\n",
            "16:39:09   ------------------------------\n",
            "16:39:09   average binary cross entropy: 0.49232\n",
            "16:39:09   Save checkpoint to model_epoch_1.pth\n",
            "16:39:09   >>>>>>>>>>>>>>>>>>>>>>>>>>>>>>\n",
            "16:39:09   Evaluate on valid\n",
            "16:39:11   mr: 1.27508\n",
            "16:39:11   mrr: 0.921418\n",
            "16:39:11   hits@1: 0.879179\n",
            "16:39:11   hits@3: 0.955927\n",
            "16:39:11   hits@10: 1\n",
            "16:39:11   hits@10_50: 1\n",
            "16:39:11   >>>>>>>>>>>>>>>>>>>>>>>>>>>>>>\n",
            "16:39:11   Epoch 1 begin\n",
            "16:39:11   >>>>>>>>>>>>>>>>>>>>>>>>>>>>>>\n",
            "16:39:11   binary cross entropy: 0.436403\n",
            "16:39:20   >>>>>>>>>>>>>>>>>>>>>>>>>>>>>>\n",
            "16:39:20   Epoch 1 end\n",
            "16:39:20   ------------------------------\n",
            "16:39:20   average binary cross entropy: 0.478298\n",
            "16:39:20   Save checkpoint to model_epoch_2.pth\n",
            "16:39:20   >>>>>>>>>>>>>>>>>>>>>>>>>>>>>>\n",
            "16:39:20   Evaluate on valid\n",
            "16:39:22   mr: 1.27508\n",
            "16:39:22   mrr: 0.921418\n",
            "16:39:22   hits@1: 0.879179\n",
            "16:39:22   hits@3: 0.955927\n",
            "16:39:22   hits@10: 1\n",
            "16:39:22   hits@10_50: 1\n",
            "16:39:22   >>>>>>>>>>>>>>>>>>>>>>>>>>>>>>\n",
            "16:39:22   Epoch 2 begin\n",
            "16:39:22   >>>>>>>>>>>>>>>>>>>>>>>>>>>>>>\n",
            "16:39:22   binary cross entropy: 0.517857\n",
            "16:39:31   >>>>>>>>>>>>>>>>>>>>>>>>>>>>>>\n",
            "16:39:31   Epoch 2 end\n",
            "16:39:31   ------------------------------\n",
            "16:39:31   average binary cross entropy: 0.47495\n",
            "16:39:31   Save checkpoint to model_epoch_3.pth\n",
            "16:39:31   >>>>>>>>>>>>>>>>>>>>>>>>>>>>>>\n",
            "16:39:31   Evaluate on valid\n",
            "16:39:33   mr: 1.27508\n",
            "16:39:33   mrr: 0.921418\n",
            "16:39:33   hits@1: 0.879179\n",
            "16:39:33   hits@3: 0.955927\n",
            "16:39:33   hits@10: 1\n",
            "16:39:33   hits@10_50: 1\n",
            "16:39:33   >>>>>>>>>>>>>>>>>>>>>>>>>>>>>>\n",
            "16:39:33   Epoch 3 begin\n",
            "16:39:33   >>>>>>>>>>>>>>>>>>>>>>>>>>>>>>\n",
            "16:39:33   binary cross entropy: 0.409378\n",
            "16:39:42   >>>>>>>>>>>>>>>>>>>>>>>>>>>>>>\n",
            "16:39:42   Epoch 3 end\n",
            "16:39:42   ------------------------------\n",
            "16:39:42   average binary cross entropy: 0.486624\n",
            "16:39:42   Save checkpoint to model_epoch_4.pth\n",
            "16:39:42   >>>>>>>>>>>>>>>>>>>>>>>>>>>>>>\n",
            "16:39:42   Evaluate on valid\n",
            "16:39:44   mr: 1.27508\n",
            "16:39:44   mrr: 0.921418\n",
            "16:39:44   hits@1: 0.879179\n",
            "16:39:44   hits@3: 0.955927\n",
            "16:39:44   hits@10: 1\n",
            "16:39:44   hits@10_50: 1\n",
            "16:39:44   >>>>>>>>>>>>>>>>>>>>>>>>>>>>>>\n",
            "16:39:44   Epoch 4 begin\n",
            "16:39:44   >>>>>>>>>>>>>>>>>>>>>>>>>>>>>>\n",
            "16:39:44   binary cross entropy: 0.432108\n",
            "16:39:53   >>>>>>>>>>>>>>>>>>>>>>>>>>>>>>\n",
            "16:39:53   Epoch 4 end\n",
            "16:39:53   ------------------------------\n",
            "16:39:53   average binary cross entropy: 0.484071\n",
            "16:39:53   Save checkpoint to model_epoch_5.pth\n",
            "16:39:53   >>>>>>>>>>>>>>>>>>>>>>>>>>>>>>\n",
            "16:39:53   Evaluate on valid\n",
            "16:39:55   mr: 1.27508\n",
            "16:39:55   mrr: 0.921418\n",
            "16:39:55   hits@1: 0.879179\n",
            "16:39:55   hits@3: 0.955927\n",
            "16:39:55   hits@10: 1\n",
            "16:39:55   hits@10_50: 1\n",
            "16:39:55   Load checkpoint from model_epoch_1.pth\n",
            "16:39:55   >>>>>>>>>>>>>>>>>>>>>>>>>>>>>>\n",
            "16:39:55   Evaluate on valid\n",
            "16:39:57   mr: 1.27508\n",
            "16:39:57   mrr: 0.921418\n",
            "16:39:57   hits@1: 0.879179\n",
            "16:39:57   hits@3: 0.955927\n",
            "16:39:57   hits@10: 1\n",
            "16:39:57   hits@10_50: 1\n",
            "16:39:57   >>>>>>>>>>>>>>>>>>>>>>>>>>>>>>\n",
            "16:39:57   Evaluate on test\n",
            "16:40:02   mr: 1.27127\n",
            "16:40:02   mrr: 0.922531\n",
            "16:40:02   hits@1: 0.882194\n",
            "16:40:02   hits@3: 0.958436\n",
            "16:40:02   hits@10: 1\n",
            "16:40:02   hits@10_50: 1\n"
          ]
        }
      ]
    },
    {
      "cell_type": "markdown",
      "source": [
        "## Testing ULTRA on H&M Dataset"
      ],
      "metadata": {
        "id": "KZgqSF16TZnH"
      }
    },
    {
      "cell_type": "markdown",
      "source": [
        "### Using ULTRA trained on 3 graphs"
      ],
      "metadata": {
        "id": "jtHJJuvPTb3n"
      }
    },
    {
      "cell_type": "code",
      "source": [
        "##### Here we setup the arguments used to run the script #####\n",
        "\n",
        "script_path = \"ULTRA/script/run.py\" # we want to run ULTRA on a single dataset\n",
        "config_path = \"ULTRA/config/inductive/inference.yaml\" # we want to test ULTRA on inference shot\n",
        "dataset = \"HMDatasetInductiveIngram\" # we want to use the F1 dataset\n",
        "version = \"v1\" # this is the version of input files\n",
        "epochs = 10 # we want to perform pre-training, thus we impose a certain number of epochs\n",
        "bpe = 100 # batch-per-epochs\n",
        "gpus = \"[0]\" # we run the experimet on a single GPU\n",
        "checkpoint_path = \"/content/ULTRA/ckpts/ultra_3g.pth\" # we use ULTRA trained on 3 graphs"
      ],
      "metadata": {
        "id": "RM6zQbopTcii"
      },
      "execution_count": 5,
      "outputs": []
    },
    {
      "cell_type": "code",
      "source": [
        "!python {script_path} -c {config_path} --dataset {dataset} --version {version} --epochs {epochs} --bpe {bpe} --gpus {gpus} --ckpt {checkpoint_path}"
      ],
      "metadata": {
        "colab": {
          "base_uri": "https://localhost:8080/"
        },
        "id": "WlWVn3dETmQ1",
        "outputId": "bc905a00-2cd3-4af8-fb1a-fc8c47e0169f"
      },
      "execution_count": 6,
      "outputs": [
        {
          "output_type": "stream",
          "name": "stdout",
          "text": [
            "16:48:30   Random seed: 1024\n",
            "16:48:30   Config file: ULTRA/config/inductive/inference.yaml\n",
            "16:48:30   {'checkpoint': '/content/ULTRA/ckpts/ultra_3g.pth',\n",
            " 'dataset': {'class': 'HMDatasetInductiveIngram',\n",
            "             'root': '~/git/ULTRA/kg-datasets/',\n",
            "             'version': 'v1'},\n",
            " 'model': {'class': 'Ultra',\n",
            "           'entity_model': {'aggregate_func': 'sum',\n",
            "                            'class': 'EntityNBFNet',\n",
            "                            'hidden_dims': [64, 64, 64, 64, 64, 64],\n",
            "                            'input_dim': 64,\n",
            "                            'layer_norm': True,\n",
            "                            'message_func': 'distmult',\n",
            "                            'short_cut': True},\n",
            "           'relation_model': {'aggregate_func': 'sum',\n",
            "                              'class': 'RelNBFNet',\n",
            "                              'hidden_dims': [64, 64, 64, 64, 64, 64],\n",
            "                              'input_dim': 64,\n",
            "                              'layer_norm': True,\n",
            "                              'message_func': 'distmult',\n",
            "                              'short_cut': True}},\n",
            " 'optimizer': {'class': 'AdamW', 'lr': 0.0005},\n",
            " 'output_dir': '~/git/ULTRA/output',\n",
            " 'task': {'adversarial_temperature': 1,\n",
            "          'metric': ['mr', 'mrr', 'hits@1', 'hits@3', 'hits@10', 'hits@10_50'],\n",
            "          'name': 'InductiveInference',\n",
            "          'num_negative': 256,\n",
            "          'strict_negative': True},\n",
            " 'train': {'batch_per_epoch': 100,\n",
            "           'batch_size': 16,\n",
            "           'gpus': [0],\n",
            "           'log_interval': 100,\n",
            "           'num_epoch': 10}}\n",
            "Downloading https://raw.githubusercontent.com/RiccardoRomeo01/BDATM_project_public_data/main/datasets/HM-v1/inductive/train.txt\n",
            "Downloading https://raw.githubusercontent.com/RiccardoRomeo01/BDATM_project_public_data/main/datasets/HM-v1/inductive/inference_graph.txt\n",
            "Downloading https://raw.githubusercontent.com/RiccardoRomeo01/BDATM_project_public_data/main/datasets/HM-v1/inductive/inference_valid.txt\n",
            "Downloading https://raw.githubusercontent.com/RiccardoRomeo01/BDATM_project_public_data/main/datasets/HM-v1/inductive/inference_test.txt\n",
            "Processing...\n",
            "/content/ULTRA/ultra/tasks.py:181: UserWarning: Sparse CSR tensor support is in beta state. If you miss a functionality in the sparse tensor support, please submit a feature request to https://github.com/pytorch/pytorch/issues. (Triggered internally at ../aten/src/ATen/SparseCsrTensorImpl.cpp:53.)\n",
            "  Ahh = torch.sparse.mm(EhT, Eh).coalesce()\n",
            "Done!\n",
            "16:48:35   HMDatasetInductiveIngram(v1) dataset\n",
            "16:48:35   #train: 3032, #valid: 682, #test: 2102\n",
            "16:48:36   ------------------------------\n",
            "16:48:36   Number of parameters: 168705\n",
            "16:48:36   >>>>>>>>>>>>>>>>>>>>>>>>>>>>>>\n",
            "16:48:36   Epoch 0 begin\n",
            "Load rspmm extension. This may take a while...\n",
            "16:50:39   >>>>>>>>>>>>>>>>>>>>>>>>>>>>>>\n",
            "16:50:39   binary cross entropy: 2.54532\n",
            "16:50:45   >>>>>>>>>>>>>>>>>>>>>>>>>>>>>>\n",
            "16:50:45   Epoch 0 end\n",
            "16:50:45   ------------------------------\n",
            "16:50:45   average binary cross entropy: 0.534302\n",
            "16:50:45   Save checkpoint to model_epoch_1.pth\n",
            "16:50:45   >>>>>>>>>>>>>>>>>>>>>>>>>>>>>>\n",
            "16:50:45   Evaluate on valid\n",
            "16:50:48   mr: 1913.17\n",
            "16:50:48   mrr: 0.00917806\n",
            "16:50:48   hits@1: 0\n",
            "16:50:48   hits@3: 0.00219941\n",
            "16:50:48   hits@10: 0.0139296\n",
            "16:50:48   hits@10_50: 0.218787\n",
            "16:50:48   >>>>>>>>>>>>>>>>>>>>>>>>>>>>>>\n",
            "16:50:48   Epoch 1 begin\n",
            "16:50:48   >>>>>>>>>>>>>>>>>>>>>>>>>>>>>>\n",
            "16:50:48   binary cross entropy: 0.382251\n",
            "16:50:54   >>>>>>>>>>>>>>>>>>>>>>>>>>>>>>\n",
            "16:50:54   Epoch 1 end\n",
            "16:50:54   ------------------------------\n",
            "16:50:54   average binary cross entropy: 0.469073\n",
            "16:50:54   Save checkpoint to model_epoch_2.pth\n",
            "16:50:54   >>>>>>>>>>>>>>>>>>>>>>>>>>>>>>\n",
            "16:50:54   Evaluate on valid\n",
            "16:50:57   mr: 2958.91\n",
            "16:50:57   mrr: 0.00233518\n",
            "16:50:57   hits@1: 0\n",
            "16:50:57   hits@3: 0\n",
            "16:50:57   hits@10: 0.00879765\n",
            "16:50:57   hits@10_50: 0.04877\n",
            "16:50:57   >>>>>>>>>>>>>>>>>>>>>>>>>>>>>>\n",
            "16:50:57   Epoch 2 begin\n",
            "16:50:57   >>>>>>>>>>>>>>>>>>>>>>>>>>>>>>\n",
            "16:50:57   binary cross entropy: 0.367831\n",
            "16:51:03   >>>>>>>>>>>>>>>>>>>>>>>>>>>>>>\n",
            "16:51:03   Epoch 2 end\n",
            "16:51:03   ------------------------------\n",
            "16:51:03   average binary cross entropy: 0.472975\n",
            "16:51:03   Save checkpoint to model_epoch_3.pth\n",
            "16:51:03   >>>>>>>>>>>>>>>>>>>>>>>>>>>>>>\n",
            "16:51:03   Evaluate on valid\n",
            "16:51:06   mr: 2621.36\n",
            "16:51:06   mrr: 0.00319563\n",
            "16:51:06   hits@1: 0\n",
            "16:51:06   hits@3: 0\n",
            "16:51:06   hits@10: 0.00879765\n",
            "16:51:06   hits@10_50: 0.0286015\n",
            "16:51:06   >>>>>>>>>>>>>>>>>>>>>>>>>>>>>>\n",
            "16:51:06   Epoch 3 begin\n",
            "16:51:06   >>>>>>>>>>>>>>>>>>>>>>>>>>>>>>\n",
            "16:51:06   binary cross entropy: 0.428815\n",
            "16:51:12   >>>>>>>>>>>>>>>>>>>>>>>>>>>>>>\n",
            "16:51:12   Epoch 3 end\n",
            "16:51:12   ------------------------------\n",
            "16:51:12   average binary cross entropy: 0.489694\n",
            "16:51:12   Save checkpoint to model_epoch_4.pth\n",
            "16:51:12   >>>>>>>>>>>>>>>>>>>>>>>>>>>>>>\n",
            "16:51:12   Evaluate on valid\n",
            "16:51:14   mr: 3957.62\n",
            "16:51:14   mrr: 0.000406467\n",
            "16:51:14   hits@1: 0\n",
            "16:51:14   hits@3: 0\n",
            "16:51:14   hits@10: 0\n",
            "16:51:14   hits@10_50: 0.00879802\n",
            "16:51:14   >>>>>>>>>>>>>>>>>>>>>>>>>>>>>>\n",
            "16:51:14   Epoch 4 begin\n",
            "16:51:14   >>>>>>>>>>>>>>>>>>>>>>>>>>>>>>\n",
            "16:51:14   binary cross entropy: 0.394742\n",
            "16:51:21   >>>>>>>>>>>>>>>>>>>>>>>>>>>>>>\n",
            "16:51:21   Epoch 4 end\n",
            "16:51:21   ------------------------------\n",
            "16:51:21   average binary cross entropy: 0.484579\n",
            "16:51:21   Save checkpoint to model_epoch_5.pth\n",
            "16:51:21   >>>>>>>>>>>>>>>>>>>>>>>>>>>>>>\n",
            "16:51:21   Evaluate on valid\n",
            "16:51:23   mr: 3953.84\n",
            "16:51:23   mrr: 0.000255556\n",
            "16:51:23   hits@1: 0\n",
            "16:51:23   hits@3: 0\n",
            "16:51:23   hits@10: 0\n",
            "16:51:23   hits@10_50: 0.000418236\n",
            "16:51:23   >>>>>>>>>>>>>>>>>>>>>>>>>>>>>>\n",
            "16:51:23   Epoch 5 begin\n",
            "16:51:23   >>>>>>>>>>>>>>>>>>>>>>>>>>>>>>\n",
            "16:51:23   binary cross entropy: 0.419668\n",
            "16:51:29   >>>>>>>>>>>>>>>>>>>>>>>>>>>>>>\n",
            "16:51:29   Epoch 5 end\n",
            "16:51:29   ------------------------------\n",
            "16:51:29   average binary cross entropy: 0.494645\n",
            "16:51:29   Save checkpoint to model_epoch_6.pth\n",
            "16:51:29   >>>>>>>>>>>>>>>>>>>>>>>>>>>>>>\n",
            "16:51:29   Evaluate on valid\n",
            "16:51:32   mr: 3297.1\n",
            "16:51:32   mrr: 0.000316648\n",
            "16:51:32   hits@1: 0\n",
            "16:51:32   hits@3: 0\n",
            "16:51:32   hits@10: 0\n",
            "16:51:32   hits@10_50: 0.00230531\n",
            "16:51:32   >>>>>>>>>>>>>>>>>>>>>>>>>>>>>>\n",
            "16:51:32   Epoch 6 begin\n",
            "16:51:32   >>>>>>>>>>>>>>>>>>>>>>>>>>>>>>\n",
            "16:51:32   binary cross entropy: 0.484822\n",
            "16:51:38   >>>>>>>>>>>>>>>>>>>>>>>>>>>>>>\n",
            "16:51:38   Epoch 6 end\n",
            "16:51:38   ------------------------------\n",
            "16:51:38   average binary cross entropy: 0.504296\n",
            "16:51:38   Save checkpoint to model_epoch_7.pth\n",
            "16:51:38   >>>>>>>>>>>>>>>>>>>>>>>>>>>>>>\n",
            "16:51:38   Evaluate on valid\n",
            "16:51:41   mr: 3820.7\n",
            "16:51:41   mrr: 0.000266721\n",
            "16:51:41   hits@1: 0\n",
            "16:51:41   hits@3: 0\n",
            "16:51:41   hits@10: 0\n",
            "16:51:41   hits@10_50: 1.26229e-06\n",
            "16:51:41   >>>>>>>>>>>>>>>>>>>>>>>>>>>>>>\n",
            "16:51:41   Epoch 7 begin\n",
            "16:51:41   >>>>>>>>>>>>>>>>>>>>>>>>>>>>>>\n",
            "16:51:41   binary cross entropy: 0.435077\n",
            "16:51:47   >>>>>>>>>>>>>>>>>>>>>>>>>>>>>>\n",
            "16:51:47   Epoch 7 end\n",
            "16:51:47   ------------------------------\n",
            "16:51:47   average binary cross entropy: 0.501272\n",
            "16:51:47   Save checkpoint to model_epoch_8.pth\n",
            "16:51:47   >>>>>>>>>>>>>>>>>>>>>>>>>>>>>>\n",
            "16:51:47   Evaluate on valid\n",
            "16:51:50   mr: 4018.63\n",
            "16:51:50   mrr: 0.000249503\n",
            "16:51:50   hits@1: 0\n",
            "16:51:50   hits@3: 0\n",
            "16:51:50   hits@10: 0\n",
            "16:51:50   hits@10_50: 1.26625e-08\n",
            "16:51:50   >>>>>>>>>>>>>>>>>>>>>>>>>>>>>>\n",
            "16:51:50   Epoch 8 begin\n",
            "16:51:50   >>>>>>>>>>>>>>>>>>>>>>>>>>>>>>\n",
            "16:51:50   binary cross entropy: 0.490247\n",
            "16:51:56   >>>>>>>>>>>>>>>>>>>>>>>>>>>>>>\n",
            "16:51:56   Epoch 8 end\n",
            "16:51:56   ------------------------------\n",
            "16:51:56   average binary cross entropy: 0.496257\n",
            "16:51:56   Save checkpoint to model_epoch_9.pth\n",
            "16:51:56   >>>>>>>>>>>>>>>>>>>>>>>>>>>>>>\n",
            "16:51:56   Evaluate on valid\n",
            "16:51:59   mr: 4589.66\n",
            "16:51:59   mrr: 0.000222061\n",
            "16:51:59   hits@1: 0\n",
            "16:51:59   hits@3: 0\n",
            "16:51:59   hits@10: 0\n",
            "16:51:59   hits@10_50: 3.14818e-08\n",
            "16:51:59   >>>>>>>>>>>>>>>>>>>>>>>>>>>>>>\n",
            "16:51:59   Epoch 9 begin\n",
            "16:51:59   >>>>>>>>>>>>>>>>>>>>>>>>>>>>>>\n",
            "16:51:59   binary cross entropy: 0.44309\n",
            "16:52:05   >>>>>>>>>>>>>>>>>>>>>>>>>>>>>>\n",
            "16:52:05   Epoch 9 end\n",
            "16:52:05   ------------------------------\n",
            "16:52:05   average binary cross entropy: 0.508637\n",
            "16:52:05   Save checkpoint to model_epoch_10.pth\n",
            "16:52:05   >>>>>>>>>>>>>>>>>>>>>>>>>>>>>>\n",
            "16:52:05   Evaluate on valid\n",
            "16:52:08   mr: 4032.02\n",
            "16:52:08   mrr: 0.000248261\n",
            "16:52:08   hits@1: 0\n",
            "16:52:08   hits@3: 0\n",
            "16:52:08   hits@10: 0\n",
            "16:52:08   hits@10_50: 3.55495e-16\n",
            "16:52:08   Load checkpoint from model_epoch_1.pth\n",
            "16:52:08   >>>>>>>>>>>>>>>>>>>>>>>>>>>>>>\n",
            "16:52:08   Evaluate on valid\n",
            "16:52:11   mr: 1913.17\n",
            "16:52:11   mrr: 0.00917806\n",
            "16:52:11   hits@1: 0\n",
            "16:52:11   hits@3: 0.00219941\n",
            "16:52:11   hits@10: 0.0139296\n",
            "16:52:11   hits@10_50: 0.218787\n",
            "16:52:11   >>>>>>>>>>>>>>>>>>>>>>>>>>>>>>\n",
            "16:52:11   Evaluate on test\n",
            "16:52:19   mr: 1903.49\n",
            "16:52:19   mrr: 0.0122681\n",
            "16:52:19   hits@1: 0.00166508\n",
            "16:52:19   hits@3: 0.00713606\n",
            "16:52:19   hits@10: 0.0154615\n",
            "16:52:19   hits@10_50: 0.223158\n"
          ]
        }
      ]
    },
    {
      "cell_type": "markdown",
      "source": [
        "### Using ULTRA trained on 4 graphs"
      ],
      "metadata": {
        "id": "Fmltmat3TiW5"
      }
    },
    {
      "cell_type": "code",
      "source": [
        "##### Here we setup the arguments used to run the script #####\n",
        "\n",
        "script_path = \"ULTRA/script/run.py\" # we want to run ULTRA on a single dataset\n",
        "config_path = \"ULTRA/config/inductive/inference.yaml\" # we want to test ULTRA on inference shot\n",
        "dataset = \"HMDatasetInductiveIngram\" # we want to use the F1 dataset\n",
        "version = \"v1\" # this is the version of input files\n",
        "epochs = 10 # we want to perform pre-training, thus we impose a certain number of epochs\n",
        "bpe = 100 # batch-per-epochs\n",
        "gpus = \"[0]\" # we run the experimet on a single GPU\n",
        "checkpoint_path = \"/content/ULTRA/ckpts/ultra_4g.pth\" # we use ULTRA trained on 4 graphs"
      ],
      "metadata": {
        "id": "2h0wKBeyTp0z"
      },
      "execution_count": 5,
      "outputs": []
    },
    {
      "cell_type": "code",
      "source": [
        "!python {script_path} -c {config_path} --dataset {dataset} --version {version} --epochs {epochs} --bpe {bpe} --gpus {gpus} --ckpt {checkpoint_path}"
      ],
      "metadata": {
        "colab": {
          "base_uri": "https://localhost:8080/"
        },
        "id": "OYznXFPDTmtM",
        "outputId": "d6f7a96a-0988-4571-f786-2007cfa375db"
      },
      "execution_count": 6,
      "outputs": [
        {
          "output_type": "stream",
          "name": "stdout",
          "text": [
            "16:55:59   Random seed: 1024\n",
            "16:55:59   Config file: ULTRA/config/inductive/inference.yaml\n",
            "16:55:59   {'checkpoint': '/content/ULTRA/ckpts/ultra_4g.pth',\n",
            " 'dataset': {'class': 'HMDatasetInductiveIngram',\n",
            "             'root': '~/git/ULTRA/kg-datasets/',\n",
            "             'version': 'v1'},\n",
            " 'model': {'class': 'Ultra',\n",
            "           'entity_model': {'aggregate_func': 'sum',\n",
            "                            'class': 'EntityNBFNet',\n",
            "                            'hidden_dims': [64, 64, 64, 64, 64, 64],\n",
            "                            'input_dim': 64,\n",
            "                            'layer_norm': True,\n",
            "                            'message_func': 'distmult',\n",
            "                            'short_cut': True},\n",
            "           'relation_model': {'aggregate_func': 'sum',\n",
            "                              'class': 'RelNBFNet',\n",
            "                              'hidden_dims': [64, 64, 64, 64, 64, 64],\n",
            "                              'input_dim': 64,\n",
            "                              'layer_norm': True,\n",
            "                              'message_func': 'distmult',\n",
            "                              'short_cut': True}},\n",
            " 'optimizer': {'class': 'AdamW', 'lr': 0.0005},\n",
            " 'output_dir': '~/git/ULTRA/output',\n",
            " 'task': {'adversarial_temperature': 1,\n",
            "          'metric': ['mr', 'mrr', 'hits@1', 'hits@3', 'hits@10', 'hits@10_50'],\n",
            "          'name': 'InductiveInference',\n",
            "          'num_negative': 256,\n",
            "          'strict_negative': True},\n",
            " 'train': {'batch_per_epoch': 100,\n",
            "           'batch_size': 16,\n",
            "           'gpus': [0],\n",
            "           'log_interval': 100,\n",
            "           'num_epoch': 10}}\n",
            "Downloading https://raw.githubusercontent.com/RiccardoRomeo01/BDATM_project_public_data/main/datasets/HM-v1/inductive/train.txt\n",
            "Downloading https://raw.githubusercontent.com/RiccardoRomeo01/BDATM_project_public_data/main/datasets/HM-v1/inductive/inference_graph.txt\n",
            "Downloading https://raw.githubusercontent.com/RiccardoRomeo01/BDATM_project_public_data/main/datasets/HM-v1/inductive/inference_valid.txt\n",
            "Downloading https://raw.githubusercontent.com/RiccardoRomeo01/BDATM_project_public_data/main/datasets/HM-v1/inductive/inference_test.txt\n",
            "Processing...\n",
            "/content/ULTRA/ultra/tasks.py:181: UserWarning: Sparse CSR tensor support is in beta state. If you miss a functionality in the sparse tensor support, please submit a feature request to https://github.com/pytorch/pytorch/issues. (Triggered internally at ../aten/src/ATen/SparseCsrTensorImpl.cpp:53.)\n",
            "  Ahh = torch.sparse.mm(EhT, Eh).coalesce()\n",
            "Done!\n",
            "16:56:01   HMDatasetInductiveIngram(v1) dataset\n",
            "16:56:01   #train: 3032, #valid: 682, #test: 2102\n",
            "16:56:01   ------------------------------\n",
            "16:56:01   Number of parameters: 168705\n",
            "16:56:01   >>>>>>>>>>>>>>>>>>>>>>>>>>>>>>\n",
            "16:56:01   Epoch 0 begin\n",
            "Load rspmm extension. This may take a while...\n",
            "16:57:45   >>>>>>>>>>>>>>>>>>>>>>>>>>>>>>\n",
            "16:57:45   binary cross entropy: 0.964541\n",
            "16:57:50   >>>>>>>>>>>>>>>>>>>>>>>>>>>>>>\n",
            "16:57:50   Epoch 0 end\n",
            "16:57:50   ------------------------------\n",
            "16:57:50   average binary cross entropy: 0.478458\n",
            "16:57:50   Save checkpoint to model_epoch_1.pth\n",
            "16:57:50   >>>>>>>>>>>>>>>>>>>>>>>>>>>>>>\n",
            "16:57:50   Evaluate on valid\n",
            "16:57:53   mr: 1227.35\n",
            "16:57:53   mrr: 0.490785\n",
            "16:57:53   hits@1: 0.458211\n",
            "16:57:53   hits@3: 0.528592\n",
            "16:57:53   hits@10: 0.528592\n",
            "16:57:53   hits@10_50: 0.543001\n",
            "16:57:53   >>>>>>>>>>>>>>>>>>>>>>>>>>>>>>\n",
            "16:57:53   Epoch 1 begin\n",
            "16:57:53   >>>>>>>>>>>>>>>>>>>>>>>>>>>>>>\n",
            "16:57:53   binary cross entropy: 0.409683\n",
            "16:57:59   >>>>>>>>>>>>>>>>>>>>>>>>>>>>>>\n",
            "16:57:59   Epoch 1 end\n",
            "16:57:59   ------------------------------\n",
            "16:57:59   average binary cross entropy: 0.501311\n",
            "16:57:59   Save checkpoint to model_epoch_2.pth\n",
            "16:57:59   >>>>>>>>>>>>>>>>>>>>>>>>>>>>>>\n",
            "16:57:59   Evaluate on valid\n",
            "16:58:02   mr: 1311.22\n",
            "16:58:02   mrr: 0.478114\n",
            "16:58:02   hits@1: 0.441349\n",
            "16:58:02   hits@3: 0.51173\n",
            "16:58:02   hits@10: 0.528592\n",
            "16:58:02   hits@10_50: 0.528593\n",
            "16:58:02   >>>>>>>>>>>>>>>>>>>>>>>>>>>>>>\n",
            "16:58:02   Epoch 2 begin\n",
            "16:58:02   >>>>>>>>>>>>>>>>>>>>>>>>>>>>>>\n",
            "16:58:02   binary cross entropy: 0.399725\n",
            "16:58:07   >>>>>>>>>>>>>>>>>>>>>>>>>>>>>>\n",
            "16:58:07   Epoch 2 end\n",
            "16:58:07   ------------------------------\n",
            "16:58:07   average binary cross entropy: 0.498746\n",
            "16:58:07   Save checkpoint to model_epoch_3.pth\n",
            "16:58:07   >>>>>>>>>>>>>>>>>>>>>>>>>>>>>>\n",
            "16:58:07   Evaluate on valid\n",
            "16:58:10   mr: 1366.41\n",
            "16:58:10   mrr: 0.462176\n",
            "16:58:10   hits@1: 0.426686\n",
            "16:58:10   hits@3: 0.497067\n",
            "16:58:10   hits@10: 0.508798\n",
            "16:58:10   hits@10_50: 0.508798\n",
            "16:58:10   >>>>>>>>>>>>>>>>>>>>>>>>>>>>>>\n",
            "16:58:10   Epoch 3 begin\n",
            "16:58:10   >>>>>>>>>>>>>>>>>>>>>>>>>>>>>>\n",
            "16:58:10   binary cross entropy: 0.464252\n",
            "16:58:16   >>>>>>>>>>>>>>>>>>>>>>>>>>>>>>\n",
            "16:58:16   Epoch 3 end\n",
            "16:58:16   ------------------------------\n",
            "16:58:16   average binary cross entropy: 0.51202\n",
            "16:58:16   Save checkpoint to model_epoch_4.pth\n",
            "16:58:16   >>>>>>>>>>>>>>>>>>>>>>>>>>>>>>\n",
            "16:58:16   Evaluate on valid\n",
            "16:58:18   mr: 1335.44\n",
            "16:58:18   mrr: 0.465113\n",
            "16:58:18   hits@1: 0.429619\n",
            "16:58:18   hits@3: 0.5\n",
            "16:58:18   hits@10: 0.51173\n",
            "16:58:18   hits@10_50: 0.513734\n",
            "16:58:18   >>>>>>>>>>>>>>>>>>>>>>>>>>>>>>\n",
            "16:58:18   Epoch 4 begin\n",
            "16:58:18   >>>>>>>>>>>>>>>>>>>>>>>>>>>>>>\n",
            "16:58:18   binary cross entropy: 0.401268\n",
            "16:58:24   >>>>>>>>>>>>>>>>>>>>>>>>>>>>>>\n",
            "16:58:24   Epoch 4 end\n",
            "16:58:24   ------------------------------\n",
            "16:58:24   average binary cross entropy: 0.496491\n",
            "16:58:24   Save checkpoint to model_epoch_5.pth\n",
            "16:58:24   >>>>>>>>>>>>>>>>>>>>>>>>>>>>>>\n",
            "16:58:24   Evaluate on valid\n",
            "16:58:27   mr: 1390.87\n",
            "16:58:27   mrr: 0.50018\n",
            "16:58:27   hits@1: 0.5\n",
            "16:58:27   hits@3: 0.5\n",
            "16:58:27   hits@10: 0.5\n",
            "16:58:27   hits@10_50: 0.5\n",
            "16:58:27   >>>>>>>>>>>>>>>>>>>>>>>>>>>>>>\n",
            "16:58:27   Epoch 5 begin\n",
            "16:58:27   >>>>>>>>>>>>>>>>>>>>>>>>>>>>>>\n",
            "16:58:27   binary cross entropy: 0.43319\n",
            "16:58:32   >>>>>>>>>>>>>>>>>>>>>>>>>>>>>>\n",
            "16:58:32   Epoch 5 end\n",
            "16:58:32   ------------------------------\n",
            "16:58:32   average binary cross entropy: 0.510836\n",
            "16:58:32   Save checkpoint to model_epoch_6.pth\n",
            "16:58:32   >>>>>>>>>>>>>>>>>>>>>>>>>>>>>>\n",
            "16:58:32   Evaluate on valid\n",
            "16:58:35   mr: 1390.87\n",
            "16:58:35   mrr: 0.50018\n",
            "16:58:35   hits@1: 0.5\n",
            "16:58:35   hits@3: 0.5\n",
            "16:58:35   hits@10: 0.5\n",
            "16:58:35   hits@10_50: 0.5\n",
            "16:58:35   >>>>>>>>>>>>>>>>>>>>>>>>>>>>>>\n",
            "16:58:35   Epoch 6 begin\n",
            "16:58:35   >>>>>>>>>>>>>>>>>>>>>>>>>>>>>>\n",
            "16:58:35   binary cross entropy: 0.486781\n",
            "16:58:41   >>>>>>>>>>>>>>>>>>>>>>>>>>>>>>\n",
            "16:58:41   Epoch 6 end\n",
            "16:58:41   ------------------------------\n",
            "16:58:41   average binary cross entropy: 0.52434\n",
            "16:58:41   Save checkpoint to model_epoch_7.pth\n",
            "16:58:41   >>>>>>>>>>>>>>>>>>>>>>>>>>>>>>\n",
            "16:58:41   Evaluate on valid\n",
            "16:58:43   mr: 1390.87\n",
            "16:58:43   mrr: 0.50018\n",
            "16:58:43   hits@1: 0.5\n",
            "16:58:43   hits@3: 0.5\n",
            "16:58:43   hits@10: 0.5\n",
            "16:58:43   hits@10_50: 0.5\n",
            "16:58:43   >>>>>>>>>>>>>>>>>>>>>>>>>>>>>>\n",
            "16:58:43   Epoch 7 begin\n",
            "16:58:43   >>>>>>>>>>>>>>>>>>>>>>>>>>>>>>\n",
            "16:58:43   binary cross entropy: 0.475698\n",
            "16:58:49   >>>>>>>>>>>>>>>>>>>>>>>>>>>>>>\n",
            "16:58:49   Epoch 7 end\n",
            "16:58:49   ------------------------------\n",
            "16:58:49   average binary cross entropy: 0.5143\n",
            "16:58:49   Save checkpoint to model_epoch_8.pth\n",
            "16:58:49   >>>>>>>>>>>>>>>>>>>>>>>>>>>>>>\n",
            "16:58:49   Evaluate on valid\n",
            "16:58:52   mr: 1390.92\n",
            "16:58:52   mrr: 0.47342\n",
            "16:58:52   hits@1: 0.446481\n",
            "16:58:52   hits@3: 0.5\n",
            "16:58:52   hits@10: 0.5\n",
            "16:58:52   hits@10_50: 0.500001\n",
            "16:58:52   >>>>>>>>>>>>>>>>>>>>>>>>>>>>>>\n",
            "16:58:52   Epoch 8 begin\n",
            "16:58:52   >>>>>>>>>>>>>>>>>>>>>>>>>>>>>>\n",
            "16:58:52   binary cross entropy: 0.480318\n",
            "16:58:58   >>>>>>>>>>>>>>>>>>>>>>>>>>>>>>\n",
            "16:58:58   Epoch 8 end\n",
            "16:58:58   ------------------------------\n",
            "16:58:58   average binary cross entropy: 0.510134\n",
            "16:58:58   Save checkpoint to model_epoch_9.pth\n",
            "16:58:58   >>>>>>>>>>>>>>>>>>>>>>>>>>>>>>\n",
            "16:58:58   Evaluate on valid\n",
            "16:59:00   mr: 1492.13\n",
            "16:59:00   mrr: 0.251455\n",
            "16:59:00   hits@1: 0.247801\n",
            "16:59:00   hits@3: 0.247801\n",
            "16:59:00   hits@10: 0.247801\n",
            "16:59:00   hits@10_50: 0.448932\n",
            "16:59:00   >>>>>>>>>>>>>>>>>>>>>>>>>>>>>>\n",
            "16:59:00   Epoch 9 begin\n",
            "16:59:00   >>>>>>>>>>>>>>>>>>>>>>>>>>>>>>\n",
            "16:59:00   binary cross entropy: 0.453582\n",
            "16:59:06   >>>>>>>>>>>>>>>>>>>>>>>>>>>>>>\n",
            "16:59:06   Epoch 9 end\n",
            "16:59:06   ------------------------------\n",
            "16:59:06   average binary cross entropy: 0.517989\n",
            "16:59:06   Save checkpoint to model_epoch_10.pth\n",
            "16:59:06   >>>>>>>>>>>>>>>>>>>>>>>>>>>>>>\n",
            "16:59:06   Evaluate on valid\n",
            "16:59:09   mr: 1383.43\n",
            "16:59:09   mrr: 0.271364\n",
            "16:59:09   hits@1: 0.256598\n",
            "16:59:09   hits@3: 0.258798\n",
            "16:59:09   hits@10: 0.329912\n",
            "16:59:09   hits@10_50: 0.501589\n",
            "16:59:09   Load checkpoint from model_epoch_5.pth\n",
            "16:59:09   >>>>>>>>>>>>>>>>>>>>>>>>>>>>>>\n",
            "16:59:09   Evaluate on valid\n",
            "16:59:11   mr: 1390.87\n",
            "16:59:11   mrr: 0.50018\n",
            "16:59:11   hits@1: 0.5\n",
            "16:59:11   hits@3: 0.5\n",
            "16:59:11   hits@10: 0.5\n",
            "16:59:11   hits@10_50: 0.5\n",
            "16:59:11   >>>>>>>>>>>>>>>>>>>>>>>>>>>>>>\n",
            "16:59:11   Evaluate on test\n",
            "16:59:19   mr: 1386.29\n",
            "16:59:19   mrr: 0.500235\n",
            "16:59:19   hits@1: 0.5\n",
            "16:59:19   hits@3: 0.5\n",
            "16:59:19   hits@10: 0.5\n",
            "16:59:19   hits@10_50: 0.501665\n"
          ]
        }
      ]
    }
  ],
  "metadata": {
    "language_info": {
      "name": "python"
    },
    "colab": {
      "provenance": [],
      "toc_visible": true,
      "gpuType": "T4",
      "collapsed_sections": [
        "8_Qmo5DbLJRr",
        "94dBiu19N7nY",
        "kwjS3iGATGxj"
      ]
    },
    "accelerator": "GPU",
    "kernelspec": {
      "name": "python3",
      "display_name": "Python 3"
    }
  },
  "nbformat": 4,
  "nbformat_minor": 0
}